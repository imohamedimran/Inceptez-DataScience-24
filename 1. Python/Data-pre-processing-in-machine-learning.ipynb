{
 "cells": [
  {
   "cell_type": "markdown",
   "id": "7801cdbe",
   "metadata": {
    "papermill": {
     "duration": 0.0123,
     "end_time": "2022-11-01T17:12:59.444825",
     "exception": false,
     "start_time": "2022-11-01T17:12:59.432525",
     "status": "completed"
    },
    "tags": []
   },
   "source": [
    "# <div class=\"alert alert-block alert-success\" dir=\"rtl\" style=\"text-align: center;\"><strong><span style=\"font-size: 20pt\">Data PreProcessing <br /></span></strong></div>"
   ]
  },
  {
   "cell_type": "markdown",
   "id": "b39327f0",
   "metadata": {
    "papermill": {
     "duration": 0.012488,
     "end_time": "2022-11-01T17:12:59.468446",
     "exception": false,
     "start_time": "2022-11-01T17:12:59.455958",
     "status": "completed"
    },
    "tags": []
   },
   "source": [
    "# <img src=\"https://cdn.analyticsvidhya.com/wp-content/uploads/2021/08/584692017-PGHD.jpg\" />\n"
   ]
  },
  {
   "cell_type": "markdown",
   "id": "ee3bc2c6",
   "metadata": {
    "papermill": {
     "duration": 0.010663,
     "end_time": "2022-11-01T17:12:59.490171",
     "exception": false,
     "start_time": "2022-11-01T17:12:59.479508",
     "status": "completed"
    },
    "tags": []
   },
   "source": [
    "# <font color='blue'>Summary:</font>\n",
    "1- Acquire the dataset\n",
    "\n",
    "2- Import all the crucial libraries\n",
    "\n",
    "3- Import the dataset\n",
    "\n",
    "4- Identifying and handling the missing values\n",
    "\n",
    "5- Encoding the categorical data\n",
    "\n",
    "6- Splitting the dataset\n",
    "\n",
    "7- Feature scaling\n",
    "\n",
    "<font color = \"purple\">Data preprocessing in Machine Learning is a crucial step that helps enhance the quality of data to promote the extraction of meaningful insights from the data. Data preprocessing in Machine Learning refers to the technique of preparing (cleaning and organizing) the raw data to make it suitable for a building and training Machine Learning models. In simple words, data preprocessing in Machine Learning is a data mining technique that transforms raw data into an understandable and readable format. </font>"
   ]
  },
  {
   "cell_type": "markdown",
   "id": "d6a08865",
   "metadata": {
    "papermill": {
     "duration": 0.010876,
     "end_time": "2022-11-01T17:12:59.512254",
     "exception": false,
     "start_time": "2022-11-01T17:12:59.501378",
     "status": "completed"
    },
    "tags": []
   },
   "source": [
    "# <font color='deepskyblue'>Why Data Preprocessing in Machine Learning?</font>\n",
    "When it comes to creating a Machine Learning model, data preprocessing is the first step marking the initiation of the process. Typically, real-world data is incomplete, inconsistent, inaccurate (contains errors or outliers), and often lacks specific attribute values/trends. This is where data preprocessing enters the scenario – it helps to clean, format, and organize the raw data, thereby making it ready-to-go for Machine Learning models. Let’s explore various steps of data preprocessing in machine learning."
   ]
  },
  {
   "cell_type": "markdown",
   "id": "0f295c7a",
   "metadata": {
    "papermill": {
     "duration": 0.010619,
     "end_time": "2022-11-01T17:12:59.533762",
     "exception": false,
     "start_time": "2022-11-01T17:12:59.523143",
     "status": "completed"
    },
    "tags": []
   },
   "source": [
    "# <font color='darkcyan'>1- Acquire the dataset</font>\n",
    "Acquiring the dataset is the first step in data preprocessing in machine learning. To build and develop Machine Learning models, you must first acquire the relevant dataset. This dataset will be comprised of data gathered from multiple and disparate sources which are then combined in a proper format to form a dataset. Dataset formats differ according to use cases. For instance, a business dataset will be entirely different from a medical dataset. While a business dataset will contain relevant industry and business data, a medical dataset will include healthcare-related data."
   ]
  },
  {
   "cell_type": "markdown",
   "id": "c07b4a30",
   "metadata": {
    "papermill": {
     "duration": 0.010831,
     "end_time": "2022-11-01T17:12:59.555718",
     "exception": false,
     "start_time": "2022-11-01T17:12:59.544887",
     "status": "completed"
    },
    "tags": []
   },
   "source": [
    "# <font color='lightseagreen'>2- Import all the crucial libraries</font>\n",
    "The predefined Python libraries can perform specific data preprocessing jobs. Importing all the crucial libraries is the second step in data preprocessing in machine learning. "
   ]
  },
  {
   "cell_type": "code",
   "execution_count": 1,
   "id": "f3816b28",
   "metadata": {
    "execution": {
     "iopub.execute_input": "2022-11-01T17:12:59.581242Z",
     "iopub.status.busy": "2022-11-01T17:12:59.580269Z",
     "iopub.status.idle": "2022-11-01T17:13:00.727372Z",
     "shell.execute_reply": "2022-11-01T17:13:00.726440Z"
    },
    "papermill": {
     "duration": 1.163443,
     "end_time": "2022-11-01T17:13:00.730441",
     "exception": false,
     "start_time": "2022-11-01T17:12:59.566998",
     "status": "completed"
    },
    "tags": []
   },
   "outputs": [],
   "source": [
    "%matplotlib inline\n",
    "import numpy as np\n",
    "import pandas as pd\n",
    "import matplotlib.pyplot as plt\n",
    "import seaborn as sns\n",
    "import sklearn"
   ]
  },
  {
   "cell_type": "markdown",
   "id": "3f40efac",
   "metadata": {
    "papermill": {
     "duration": 0.011217,
     "end_time": "2022-11-01T17:13:00.753267",
     "exception": false,
     "start_time": "2022-11-01T17:13:00.742050",
     "status": "completed"
    },
    "tags": []
   },
   "source": [
    "# <font color='cadetblue'>3- Import the dataset</font>\n",
    "In this step, you need to import the dataset/s that you have gathered for the ML project at hand. Importing the dataset is one of the important steps in data preprocessing in machine learning.\n"
   ]
  },
  {
   "cell_type": "code",
   "execution_count": 2,
   "id": "7407dd73",
   "metadata": {
    "execution": {
     "iopub.execute_input": "2022-11-01T17:13:00.779706Z",
     "iopub.status.busy": "2022-11-01T17:13:00.778844Z",
     "iopub.status.idle": "2022-11-01T17:13:00.798455Z",
     "shell.execute_reply": "2022-11-01T17:13:00.797623Z"
    },
    "papermill": {
     "duration": 0.036512,
     "end_time": "2022-11-01T17:13:00.801378",
     "exception": false,
     "start_time": "2022-11-01T17:13:00.764866",
     "status": "completed"
    },
    "tags": []
   },
   "outputs": [],
   "source": [
    "dataset = pd.read_csv(r\"../input/preprocessingdataset/Data.csv\")"
   ]
  },
  {
   "cell_type": "code",
   "execution_count": 3,
   "id": "2ce83e29",
   "metadata": {
    "execution": {
     "iopub.execute_input": "2022-11-01T17:13:00.826471Z",
     "iopub.status.busy": "2022-11-01T17:13:00.825788Z",
     "iopub.status.idle": "2022-11-01T17:13:00.830005Z",
     "shell.execute_reply": "2022-11-01T17:13:00.829357Z"
    },
    "papermill": {
     "duration": 0.018898,
     "end_time": "2022-11-01T17:13:00.831883",
     "exception": false,
     "start_time": "2022-11-01T17:13:00.812985",
     "status": "completed"
    },
    "tags": []
   },
   "outputs": [],
   "source": [
    "df = pd.DataFrame(dataset)"
   ]
  },
  {
   "cell_type": "code",
   "execution_count": 4,
   "id": "b272acc0",
   "metadata": {
    "execution": {
     "iopub.execute_input": "2022-11-01T17:13:00.859284Z",
     "iopub.status.busy": "2022-11-01T17:13:00.858425Z",
     "iopub.status.idle": "2022-11-01T17:13:00.884635Z",
     "shell.execute_reply": "2022-11-01T17:13:00.883433Z"
    },
    "papermill": {
     "duration": 0.043556,
     "end_time": "2022-11-01T17:13:00.886987",
     "exception": false,
     "start_time": "2022-11-01T17:13:00.843431",
     "status": "completed"
    },
    "tags": []
   },
   "outputs": [
    {
     "data": {
      "text/html": [
       "<div>\n",
       "<style scoped>\n",
       "    .dataframe tbody tr th:only-of-type {\n",
       "        vertical-align: middle;\n",
       "    }\n",
       "\n",
       "    .dataframe tbody tr th {\n",
       "        vertical-align: top;\n",
       "    }\n",
       "\n",
       "    .dataframe thead th {\n",
       "        text-align: right;\n",
       "    }\n",
       "</style>\n",
       "<table border=\"1\" class=\"dataframe\">\n",
       "  <thead>\n",
       "    <tr style=\"text-align: right;\">\n",
       "      <th></th>\n",
       "      <th>Country</th>\n",
       "      <th>Age</th>\n",
       "      <th>Salary</th>\n",
       "      <th>Purchased</th>\n",
       "    </tr>\n",
       "  </thead>\n",
       "  <tbody>\n",
       "    <tr>\n",
       "      <th>0</th>\n",
       "      <td>France</td>\n",
       "      <td>44.0</td>\n",
       "      <td>72000.0</td>\n",
       "      <td>No</td>\n",
       "    </tr>\n",
       "    <tr>\n",
       "      <th>1</th>\n",
       "      <td>Spain</td>\n",
       "      <td>27.0</td>\n",
       "      <td>48000.0</td>\n",
       "      <td>Yes</td>\n",
       "    </tr>\n",
       "    <tr>\n",
       "      <th>2</th>\n",
       "      <td>Germany</td>\n",
       "      <td>30.0</td>\n",
       "      <td>54000.0</td>\n",
       "      <td>No</td>\n",
       "    </tr>\n",
       "    <tr>\n",
       "      <th>3</th>\n",
       "      <td>Spain</td>\n",
       "      <td>38.0</td>\n",
       "      <td>61000.0</td>\n",
       "      <td>No</td>\n",
       "    </tr>\n",
       "    <tr>\n",
       "      <th>4</th>\n",
       "      <td>Germany</td>\n",
       "      <td>40.0</td>\n",
       "      <td>NaN</td>\n",
       "      <td>Yes</td>\n",
       "    </tr>\n",
       "    <tr>\n",
       "      <th>5</th>\n",
       "      <td>France</td>\n",
       "      <td>35.0</td>\n",
       "      <td>58000.0</td>\n",
       "      <td>Yes</td>\n",
       "    </tr>\n",
       "    <tr>\n",
       "      <th>6</th>\n",
       "      <td>Spain</td>\n",
       "      <td>NaN</td>\n",
       "      <td>52000.0</td>\n",
       "      <td>No</td>\n",
       "    </tr>\n",
       "    <tr>\n",
       "      <th>7</th>\n",
       "      <td>France</td>\n",
       "      <td>48.0</td>\n",
       "      <td>79000.0</td>\n",
       "      <td>Yes</td>\n",
       "    </tr>\n",
       "    <tr>\n",
       "      <th>8</th>\n",
       "      <td>Germany</td>\n",
       "      <td>50.0</td>\n",
       "      <td>83000.0</td>\n",
       "      <td>No</td>\n",
       "    </tr>\n",
       "    <tr>\n",
       "      <th>9</th>\n",
       "      <td>France</td>\n",
       "      <td>37.0</td>\n",
       "      <td>67000.0</td>\n",
       "      <td>Yes</td>\n",
       "    </tr>\n",
       "  </tbody>\n",
       "</table>\n",
       "</div>"
      ],
      "text/plain": [
       "   Country   Age   Salary Purchased\n",
       "0   France  44.0  72000.0        No\n",
       "1    Spain  27.0  48000.0       Yes\n",
       "2  Germany  30.0  54000.0        No\n",
       "3    Spain  38.0  61000.0        No\n",
       "4  Germany  40.0      NaN       Yes\n",
       "5   France  35.0  58000.0       Yes\n",
       "6    Spain   NaN  52000.0        No\n",
       "7   France  48.0  79000.0       Yes\n",
       "8  Germany  50.0  83000.0        No\n",
       "9   France  37.0  67000.0       Yes"
      ]
     },
     "execution_count": 4,
     "metadata": {},
     "output_type": "execute_result"
    }
   ],
   "source": [
    "df"
   ]
  },
  {
   "cell_type": "code",
   "execution_count": 5,
   "id": "d992e20b",
   "metadata": {
    "execution": {
     "iopub.execute_input": "2022-11-01T17:13:00.913955Z",
     "iopub.status.busy": "2022-11-01T17:13:00.912714Z",
     "iopub.status.idle": "2022-11-01T17:13:00.923589Z",
     "shell.execute_reply": "2022-11-01T17:13:00.922354Z"
    },
    "papermill": {
     "duration": 0.026726,
     "end_time": "2022-11-01T17:13:00.925573",
     "exception": false,
     "start_time": "2022-11-01T17:13:00.898847",
     "status": "completed"
    },
    "tags": []
   },
   "outputs": [],
   "source": [
    "X = df.iloc[:, :-1].values\n",
    "y = df.iloc[:, -1].values"
   ]
  },
  {
   "cell_type": "code",
   "execution_count": 6,
   "id": "ee6b52fb",
   "metadata": {
    "execution": {
     "iopub.execute_input": "2022-11-01T17:13:00.950082Z",
     "iopub.status.busy": "2022-11-01T17:13:00.949722Z",
     "iopub.status.idle": "2022-11-01T17:13:00.956422Z",
     "shell.execute_reply": "2022-11-01T17:13:00.954846Z"
    },
    "papermill": {
     "duration": 0.022035,
     "end_time": "2022-11-01T17:13:00.959114",
     "exception": false,
     "start_time": "2022-11-01T17:13:00.937079",
     "status": "completed"
    },
    "tags": []
   },
   "outputs": [
    {
     "name": "stdout",
     "output_type": "stream",
     "text": [
      "[['France' 44.0 72000.0]\n",
      " ['Spain' 27.0 48000.0]\n",
      " ['Germany' 30.0 54000.0]\n",
      " ['Spain' 38.0 61000.0]\n",
      " ['Germany' 40.0 nan]\n",
      " ['France' 35.0 58000.0]\n",
      " ['Spain' nan 52000.0]\n",
      " ['France' 48.0 79000.0]\n",
      " ['Germany' 50.0 83000.0]\n",
      " ['France' 37.0 67000.0]]\n"
     ]
    }
   ],
   "source": [
    "print(X)"
   ]
  },
  {
   "cell_type": "code",
   "execution_count": 7,
   "id": "5d90d124",
   "metadata": {
    "execution": {
     "iopub.execute_input": "2022-11-01T17:13:00.985242Z",
     "iopub.status.busy": "2022-11-01T17:13:00.984309Z",
     "iopub.status.idle": "2022-11-01T17:13:00.989998Z",
     "shell.execute_reply": "2022-11-01T17:13:00.988568Z"
    },
    "papermill": {
     "duration": 0.020654,
     "end_time": "2022-11-01T17:13:00.992112",
     "exception": false,
     "start_time": "2022-11-01T17:13:00.971458",
     "status": "completed"
    },
    "tags": []
   },
   "outputs": [
    {
     "name": "stdout",
     "output_type": "stream",
     "text": [
      "['No' 'Yes' 'No' 'No' 'Yes' 'Yes' 'No' 'Yes' 'No' 'Yes']\n"
     ]
    }
   ],
   "source": [
    "print(y)"
   ]
  },
  {
   "cell_type": "markdown",
   "id": "a923d780",
   "metadata": {
    "papermill": {
     "duration": 0.011309,
     "end_time": "2022-11-01T17:13:01.015067",
     "exception": false,
     "start_time": "2022-11-01T17:13:01.003758",
     "status": "completed"
    },
    "tags": []
   },
   "source": [
    "# <font color='dodgerblue'>4- Identifying and handling the missing values</font>\n",
    "In data preprocessing, it is pivotal to identify and correctly handle the missing values, failing to do this, you might draw inaccurate and faulty conclusions and inferences from the data. Needless to say, this will hamper your ML project. \n",
    "\n",
    "some typical reasons why data is missing:\n",
    "\n",
    "A. User forgot to fill in a field.\n",
    "\n",
    "B. Data was lost while transferring manually from a legacy database.\n",
    "\n",
    "C. There was a programming error.\n",
    "\n",
    "D. Users chose not to fill out a field tied to their beliefs about how the results would be used or interpreted.\n",
    "\n",
    "Basically, there are two ways to handle missing data:\n",
    "\n",
    "Deleting a particular row – In this method, you remove a specific row that has a null value for a feature or a particular column where more than 75% of the values are missing. However, this method is not 100% efficient, and it is recommended that you use it only when the dataset has adequate samples. You must ensure that after deleting the data, there remains no addition of bias. \n",
    "Calculating the mean – This method is useful for features having numeric data like age, salary, year, etc. Here, you can calculate the mean, median, or mode of a particular feature or column or row that contains a missing value and replace the result for the missing value. This method can add variance to the dataset, and any loss of data can be efficiently negated. Hence, it yields better results compared to the first method (omission of rows/columns). Another way of approximation is through the deviation of neighbouring values. However, this works best for linear data.\n"
   ]
  },
  {
   "cell_type": "markdown",
   "id": "505856c5",
   "metadata": {
    "papermill": {
     "duration": 0.011284,
     "end_time": "2022-11-01T17:13:01.037996",
     "exception": false,
     "start_time": "2022-11-01T17:13:01.026712",
     "status": "completed"
    },
    "tags": []
   },
   "source": [
    "# <img src=\"https://files.realpython.com/media/Pythons-None-Type-Null-in-Python_Watermarked.9d48d487f417.jpg\" width=\"70%\"/>\n"
   ]
  },
  {
   "cell_type": "code",
   "execution_count": 8,
   "id": "87999200",
   "metadata": {
    "execution": {
     "iopub.execute_input": "2022-11-01T17:13:01.063150Z",
     "iopub.status.busy": "2022-11-01T17:13:01.062795Z",
     "iopub.status.idle": "2022-11-01T17:13:01.071158Z",
     "shell.execute_reply": "2022-11-01T17:13:01.069641Z"
    },
    "papermill": {
     "duration": 0.023561,
     "end_time": "2022-11-01T17:13:01.073223",
     "exception": false,
     "start_time": "2022-11-01T17:13:01.049662",
     "status": "completed"
    },
    "tags": []
   },
   "outputs": [
    {
     "data": {
      "text/plain": [
       "Country      0\n",
       "Age          1\n",
       "Salary       1\n",
       "Purchased    0\n",
       "dtype: int64"
      ]
     },
     "execution_count": 8,
     "metadata": {},
     "output_type": "execute_result"
    }
   ],
   "source": [
    "df.isnull().sum()"
   ]
  },
  {
   "cell_type": "markdown",
   "id": "312aa216",
   "metadata": {
    "papermill": {
     "duration": 0.011496,
     "end_time": "2022-11-01T17:13:01.096597",
     "exception": false,
     "start_time": "2022-11-01T17:13:01.085101",
     "status": "completed"
    },
    "tags": []
   },
   "source": [
    "# <font color='lime'>Solution 1 : Dropna</font>"
   ]
  },
  {
   "cell_type": "code",
   "execution_count": 9,
   "id": "98273df6",
   "metadata": {
    "execution": {
     "iopub.execute_input": "2022-11-01T17:13:01.121251Z",
     "iopub.status.busy": "2022-11-01T17:13:01.120902Z",
     "iopub.status.idle": "2022-11-01T17:13:01.126572Z",
     "shell.execute_reply": "2022-11-01T17:13:01.124862Z"
    },
    "papermill": {
     "duration": 0.021197,
     "end_time": "2022-11-01T17:13:01.129387",
     "exception": false,
     "start_time": "2022-11-01T17:13:01.108190",
     "status": "completed"
    },
    "tags": []
   },
   "outputs": [],
   "source": [
    "df1 = df.copy()"
   ]
  },
  {
   "cell_type": "code",
   "execution_count": 10,
   "id": "bc79ecc3",
   "metadata": {
    "execution": {
     "iopub.execute_input": "2022-11-01T17:13:01.155440Z",
     "iopub.status.busy": "2022-11-01T17:13:01.154589Z",
     "iopub.status.idle": "2022-11-01T17:13:01.164789Z",
     "shell.execute_reply": "2022-11-01T17:13:01.163714Z"
    },
    "papermill": {
     "duration": 0.02553,
     "end_time": "2022-11-01T17:13:01.166714",
     "exception": false,
     "start_time": "2022-11-01T17:13:01.141184",
     "status": "completed"
    },
    "tags": []
   },
   "outputs": [
    {
     "name": "stdout",
     "output_type": "stream",
     "text": [
      "Before: (10, 4)\n",
      "After: (8, 4)\n"
     ]
    }
   ],
   "source": [
    "# summarize the shape of the raw data\n",
    "print(\"Before:\",df1.shape)\n",
    "\n",
    "# drop rows with missing values\n",
    "df1.dropna(inplace=True)\n",
    "\n",
    "# summarize the shape of the data with missing rows removed\n",
    "print(\"After:\",df1.shape)"
   ]
  },
  {
   "cell_type": "markdown",
   "id": "5a92b9a7",
   "metadata": {
    "papermill": {
     "duration": 0.011188,
     "end_time": "2022-11-01T17:13:01.189467",
     "exception": false,
     "start_time": "2022-11-01T17:13:01.178279",
     "status": "completed"
    },
    "tags": []
   },
   "source": [
    "# <font color='chartreuse'>Solution 2 : Fillna</font>"
   ]
  },
  {
   "cell_type": "code",
   "execution_count": 11,
   "id": "e3763d4e",
   "metadata": {
    "execution": {
     "iopub.execute_input": "2022-11-01T17:13:01.213690Z",
     "iopub.status.busy": "2022-11-01T17:13:01.213252Z",
     "iopub.status.idle": "2022-11-01T17:13:01.218596Z",
     "shell.execute_reply": "2022-11-01T17:13:01.217205Z"
    },
    "papermill": {
     "duration": 0.020628,
     "end_time": "2022-11-01T17:13:01.221205",
     "exception": false,
     "start_time": "2022-11-01T17:13:01.200577",
     "status": "completed"
    },
    "tags": []
   },
   "outputs": [],
   "source": [
    "df2 = df.copy()"
   ]
  },
  {
   "cell_type": "code",
   "execution_count": 12,
   "id": "a417b3c4",
   "metadata": {
    "execution": {
     "iopub.execute_input": "2022-11-01T17:13:01.247686Z",
     "iopub.status.busy": "2022-11-01T17:13:01.246476Z",
     "iopub.status.idle": "2022-11-01T17:13:01.251386Z",
     "shell.execute_reply": "2022-11-01T17:13:01.250703Z"
    },
    "papermill": {
     "duration": 0.020012,
     "end_time": "2022-11-01T17:13:01.253262",
     "exception": false,
     "start_time": "2022-11-01T17:13:01.233250",
     "status": "completed"
    },
    "tags": []
   },
   "outputs": [],
   "source": [
    "import warnings\n",
    "warnings.filterwarnings('ignore')"
   ]
  },
  {
   "cell_type": "code",
   "execution_count": 13,
   "id": "a9bf8d04",
   "metadata": {
    "execution": {
     "iopub.execute_input": "2022-11-01T17:13:01.279135Z",
     "iopub.status.busy": "2022-11-01T17:13:01.278163Z",
     "iopub.status.idle": "2022-11-01T17:13:01.297636Z",
     "shell.execute_reply": "2022-11-01T17:13:01.296935Z"
    },
    "papermill": {
     "duration": 0.034154,
     "end_time": "2022-11-01T17:13:01.299277",
     "exception": false,
     "start_time": "2022-11-01T17:13:01.265123",
     "status": "completed"
    },
    "tags": []
   },
   "outputs": [
    {
     "name": "stdout",
     "output_type": "stream",
     "text": [
      "Country      0\n",
      "Age          0\n",
      "Salary       0\n",
      "Purchased    0\n",
      "dtype: int64\n"
     ]
    },
    {
     "data": {
      "text/html": [
       "<div>\n",
       "<style scoped>\n",
       "    .dataframe tbody tr th:only-of-type {\n",
       "        vertical-align: middle;\n",
       "    }\n",
       "\n",
       "    .dataframe tbody tr th {\n",
       "        vertical-align: top;\n",
       "    }\n",
       "\n",
       "    .dataframe thead th {\n",
       "        text-align: right;\n",
       "    }\n",
       "</style>\n",
       "<table border=\"1\" class=\"dataframe\">\n",
       "  <thead>\n",
       "    <tr style=\"text-align: right;\">\n",
       "      <th></th>\n",
       "      <th>Country</th>\n",
       "      <th>Age</th>\n",
       "      <th>Salary</th>\n",
       "      <th>Purchased</th>\n",
       "    </tr>\n",
       "  </thead>\n",
       "  <tbody>\n",
       "    <tr>\n",
       "      <th>0</th>\n",
       "      <td>France</td>\n",
       "      <td>44.000000</td>\n",
       "      <td>72000.000000</td>\n",
       "      <td>No</td>\n",
       "    </tr>\n",
       "    <tr>\n",
       "      <th>1</th>\n",
       "      <td>Spain</td>\n",
       "      <td>27.000000</td>\n",
       "      <td>48000.000000</td>\n",
       "      <td>Yes</td>\n",
       "    </tr>\n",
       "    <tr>\n",
       "      <th>2</th>\n",
       "      <td>Germany</td>\n",
       "      <td>30.000000</td>\n",
       "      <td>54000.000000</td>\n",
       "      <td>No</td>\n",
       "    </tr>\n",
       "    <tr>\n",
       "      <th>3</th>\n",
       "      <td>Spain</td>\n",
       "      <td>38.000000</td>\n",
       "      <td>61000.000000</td>\n",
       "      <td>No</td>\n",
       "    </tr>\n",
       "    <tr>\n",
       "      <th>4</th>\n",
       "      <td>Germany</td>\n",
       "      <td>40.000000</td>\n",
       "      <td>63777.777778</td>\n",
       "      <td>Yes</td>\n",
       "    </tr>\n",
       "    <tr>\n",
       "      <th>5</th>\n",
       "      <td>France</td>\n",
       "      <td>35.000000</td>\n",
       "      <td>58000.000000</td>\n",
       "      <td>Yes</td>\n",
       "    </tr>\n",
       "    <tr>\n",
       "      <th>6</th>\n",
       "      <td>Spain</td>\n",
       "      <td>38.777778</td>\n",
       "      <td>52000.000000</td>\n",
       "      <td>No</td>\n",
       "    </tr>\n",
       "    <tr>\n",
       "      <th>7</th>\n",
       "      <td>France</td>\n",
       "      <td>48.000000</td>\n",
       "      <td>79000.000000</td>\n",
       "      <td>Yes</td>\n",
       "    </tr>\n",
       "    <tr>\n",
       "      <th>8</th>\n",
       "      <td>Germany</td>\n",
       "      <td>50.000000</td>\n",
       "      <td>83000.000000</td>\n",
       "      <td>No</td>\n",
       "    </tr>\n",
       "    <tr>\n",
       "      <th>9</th>\n",
       "      <td>France</td>\n",
       "      <td>37.000000</td>\n",
       "      <td>67000.000000</td>\n",
       "      <td>Yes</td>\n",
       "    </tr>\n",
       "  </tbody>\n",
       "</table>\n",
       "</div>"
      ],
      "text/plain": [
       "   Country        Age        Salary Purchased\n",
       "0   France  44.000000  72000.000000        No\n",
       "1    Spain  27.000000  48000.000000       Yes\n",
       "2  Germany  30.000000  54000.000000        No\n",
       "3    Spain  38.000000  61000.000000        No\n",
       "4  Germany  40.000000  63777.777778       Yes\n",
       "5   France  35.000000  58000.000000       Yes\n",
       "6    Spain  38.777778  52000.000000        No\n",
       "7   France  48.000000  79000.000000       Yes\n",
       "8  Germany  50.000000  83000.000000        No\n",
       "9   France  37.000000  67000.000000       Yes"
      ]
     },
     "execution_count": 13,
     "metadata": {},
     "output_type": "execute_result"
    }
   ],
   "source": [
    "# fill missing values with mean column values\n",
    "# df2.fillna(df2.mean(), inplace=True)\n",
    "df2[['Age', 'Salary']] = df2[['Age', 'Salary']].fillna(df2[['Age', 'Salary']].mean())\n",
    "# count the number of NaN values in each column\n",
    "print(df2.isnull().sum())\n",
    "\n",
    "df2"
   ]
  },
  {
   "cell_type": "markdown",
   "id": "0b8479d9",
   "metadata": {
    "papermill": {
     "duration": 0.011652,
     "end_time": "2022-11-01T17:13:01.322815",
     "exception": false,
     "start_time": "2022-11-01T17:13:01.311163",
     "status": "completed"
    },
    "tags": []
   },
   "source": [
    "# <font color='darkgreen'>Solution 3 : Scikit-Learn</font>\n",
    "# <img src=\"https://miro.medium.com/max/693/1*1ouD8HMkmJffNSAMfvBSkw.png\" width=\"50%\"/>\n"
   ]
  },
  {
   "cell_type": "code",
   "execution_count": 14,
   "id": "4c351436",
   "metadata": {
    "execution": {
     "iopub.execute_input": "2022-11-01T17:13:01.349155Z",
     "iopub.status.busy": "2022-11-01T17:13:01.347961Z",
     "iopub.status.idle": "2022-11-01T17:13:01.355209Z",
     "shell.execute_reply": "2022-11-01T17:13:01.353936Z"
    },
    "papermill": {
     "duration": 0.022734,
     "end_time": "2022-11-01T17:13:01.357542",
     "exception": false,
     "start_time": "2022-11-01T17:13:01.334808",
     "status": "completed"
    },
    "tags": []
   },
   "outputs": [
    {
     "data": {
      "text/plain": [
       "array([['France', 44.0, 72000.0],\n",
       "       ['Spain', 27.0, 48000.0],\n",
       "       ['Germany', 30.0, 54000.0],\n",
       "       ['Spain', 38.0, 61000.0],\n",
       "       ['Germany', 40.0, nan],\n",
       "       ['France', 35.0, 58000.0],\n",
       "       ['Spain', nan, 52000.0],\n",
       "       ['France', 48.0, 79000.0],\n",
       "       ['Germany', 50.0, 83000.0],\n",
       "       ['France', 37.0, 67000.0]], dtype=object)"
      ]
     },
     "execution_count": 14,
     "metadata": {},
     "output_type": "execute_result"
    }
   ],
   "source": [
    "X"
   ]
  },
  {
   "cell_type": "code",
   "execution_count": 15,
   "id": "42be43da",
   "metadata": {
    "execution": {
     "iopub.execute_input": "2022-11-01T17:13:01.382828Z",
     "iopub.status.busy": "2022-11-01T17:13:01.382399Z",
     "iopub.status.idle": "2022-11-01T17:13:01.613319Z",
     "shell.execute_reply": "2022-11-01T17:13:01.612559Z"
    },
    "papermill": {
     "duration": 0.246227,
     "end_time": "2022-11-01T17:13:01.615881",
     "exception": false,
     "start_time": "2022-11-01T17:13:01.369654",
     "status": "completed"
    },
    "tags": []
   },
   "outputs": [],
   "source": [
    "from sklearn.impute import SimpleImputer\n",
    "imputer = SimpleImputer(missing_values=np.nan, strategy='mean')\n",
    "imputer.fit(X[:, 1:3])\n",
    "X[:, 1:3] = imputer.transform(X[:, 1:3])"
   ]
  },
  {
   "cell_type": "code",
   "execution_count": 16,
   "id": "0c982443",
   "metadata": {
    "execution": {
     "iopub.execute_input": "2022-11-01T17:13:01.643232Z",
     "iopub.status.busy": "2022-11-01T17:13:01.642541Z",
     "iopub.status.idle": "2022-11-01T17:13:01.649168Z",
     "shell.execute_reply": "2022-11-01T17:13:01.647964Z"
    },
    "papermill": {
     "duration": 0.02344,
     "end_time": "2022-11-01T17:13:01.651805",
     "exception": false,
     "start_time": "2022-11-01T17:13:01.628365",
     "status": "completed"
    },
    "tags": []
   },
   "outputs": [
    {
     "name": "stdout",
     "output_type": "stream",
     "text": [
      "[['France' 44.0 72000.0]\n",
      " ['Spain' 27.0 48000.0]\n",
      " ['Germany' 30.0 54000.0]\n",
      " ['Spain' 38.0 61000.0]\n",
      " ['Germany' 40.0 63777.77777777778]\n",
      " ['France' 35.0 58000.0]\n",
      " ['Spain' 38.77777777777778 52000.0]\n",
      " ['France' 48.0 79000.0]\n",
      " ['Germany' 50.0 83000.0]\n",
      " ['France' 37.0 67000.0]]\n"
     ]
    }
   ],
   "source": [
    "print(X)"
   ]
  },
  {
   "cell_type": "markdown",
   "id": "8363857e",
   "metadata": {
    "papermill": {
     "duration": 0.012312,
     "end_time": "2022-11-01T17:13:01.677279",
     "exception": false,
     "start_time": "2022-11-01T17:13:01.664967",
     "status": "completed"
    },
    "tags": []
   },
   "source": [
    "# <font color='royalblue'>5- Encoding the categorical data</font>\n",
    "Categorical data refers to the information that has specific categories within the dataset. In the dataset cited above, there are two categorical variables – country and purchased.\n",
    "\n",
    "Machine Learning models are primarily based on mathematical equations. Thus, you can intuitively understand that keeping the categorical data in the equation will cause certain issues since you would only need numbers in the equations."
   ]
  },
  {
   "cell_type": "markdown",
   "id": "c2c2ef52",
   "metadata": {
    "papermill": {
     "duration": 0.011871,
     "end_time": "2022-11-01T17:13:01.701434",
     "exception": false,
     "start_time": "2022-11-01T17:13:01.689563",
     "status": "completed"
    },
    "tags": []
   },
   "source": [
    "# <img src=\"https://innovation.alteryx.com/content/images/2019/08/BlogPost-04-01-1.png\" width=\"75%\"/>\n"
   ]
  },
  {
   "cell_type": "markdown",
   "id": "d33dd864",
   "metadata": {
    "papermill": {
     "duration": 0.011781,
     "end_time": "2022-11-01T17:13:01.725231",
     "exception": false,
     "start_time": "2022-11-01T17:13:01.713450",
     "status": "completed"
    },
    "tags": []
   },
   "source": [
    "# <font color='darkorchid'>Solution 1 : ColumnTransformer</font>"
   ]
  },
  {
   "cell_type": "code",
   "execution_count": 17,
   "id": "b0f6b7f7",
   "metadata": {
    "execution": {
     "iopub.execute_input": "2022-11-01T17:13:01.751465Z",
     "iopub.status.busy": "2022-11-01T17:13:01.751031Z",
     "iopub.status.idle": "2022-11-01T17:13:01.766972Z",
     "shell.execute_reply": "2022-11-01T17:13:01.765394Z"
    },
    "papermill": {
     "duration": 0.032537,
     "end_time": "2022-11-01T17:13:01.769931",
     "exception": false,
     "start_time": "2022-11-01T17:13:01.737394",
     "status": "completed"
    },
    "tags": []
   },
   "outputs": [],
   "source": [
    "from sklearn.compose import ColumnTransformer\n",
    "from sklearn.preprocessing import OneHotEncoder\n",
    "ct = ColumnTransformer(transformers=[('encoder', OneHotEncoder(), [0])], remainder='passthrough')\n",
    "X = np.array(ct.fit_transform(X))"
   ]
  },
  {
   "cell_type": "code",
   "execution_count": 18,
   "id": "dc14584f",
   "metadata": {
    "execution": {
     "iopub.execute_input": "2022-11-01T17:13:01.796357Z",
     "iopub.status.busy": "2022-11-01T17:13:01.795757Z",
     "iopub.status.idle": "2022-11-01T17:13:01.807873Z",
     "shell.execute_reply": "2022-11-01T17:13:01.806678Z"
    },
    "papermill": {
     "duration": 0.028059,
     "end_time": "2022-11-01T17:13:01.810225",
     "exception": false,
     "start_time": "2022-11-01T17:13:01.782166",
     "status": "completed"
    },
    "tags": []
   },
   "outputs": [
    {
     "data": {
      "text/html": [
       "<div>\n",
       "<style scoped>\n",
       "    .dataframe tbody tr th:only-of-type {\n",
       "        vertical-align: middle;\n",
       "    }\n",
       "\n",
       "    .dataframe tbody tr th {\n",
       "        vertical-align: top;\n",
       "    }\n",
       "\n",
       "    .dataframe thead th {\n",
       "        text-align: right;\n",
       "    }\n",
       "</style>\n",
       "<table border=\"1\" class=\"dataframe\">\n",
       "  <thead>\n",
       "    <tr style=\"text-align: right;\">\n",
       "      <th></th>\n",
       "      <th>Country</th>\n",
       "      <th>Age</th>\n",
       "      <th>Salary</th>\n",
       "      <th>Purchased</th>\n",
       "    </tr>\n",
       "  </thead>\n",
       "  <tbody>\n",
       "    <tr>\n",
       "      <th>0</th>\n",
       "      <td>France</td>\n",
       "      <td>44.0</td>\n",
       "      <td>72000.0</td>\n",
       "      <td>No</td>\n",
       "    </tr>\n",
       "    <tr>\n",
       "      <th>1</th>\n",
       "      <td>Spain</td>\n",
       "      <td>27.0</td>\n",
       "      <td>48000.0</td>\n",
       "      <td>Yes</td>\n",
       "    </tr>\n",
       "    <tr>\n",
       "      <th>2</th>\n",
       "      <td>Germany</td>\n",
       "      <td>30.0</td>\n",
       "      <td>54000.0</td>\n",
       "      <td>No</td>\n",
       "    </tr>\n",
       "    <tr>\n",
       "      <th>3</th>\n",
       "      <td>Spain</td>\n",
       "      <td>38.0</td>\n",
       "      <td>61000.0</td>\n",
       "      <td>No</td>\n",
       "    </tr>\n",
       "    <tr>\n",
       "      <th>4</th>\n",
       "      <td>Germany</td>\n",
       "      <td>40.0</td>\n",
       "      <td>NaN</td>\n",
       "      <td>Yes</td>\n",
       "    </tr>\n",
       "    <tr>\n",
       "      <th>5</th>\n",
       "      <td>France</td>\n",
       "      <td>35.0</td>\n",
       "      <td>58000.0</td>\n",
       "      <td>Yes</td>\n",
       "    </tr>\n",
       "    <tr>\n",
       "      <th>6</th>\n",
       "      <td>Spain</td>\n",
       "      <td>NaN</td>\n",
       "      <td>52000.0</td>\n",
       "      <td>No</td>\n",
       "    </tr>\n",
       "    <tr>\n",
       "      <th>7</th>\n",
       "      <td>France</td>\n",
       "      <td>48.0</td>\n",
       "      <td>79000.0</td>\n",
       "      <td>Yes</td>\n",
       "    </tr>\n",
       "    <tr>\n",
       "      <th>8</th>\n",
       "      <td>Germany</td>\n",
       "      <td>50.0</td>\n",
       "      <td>83000.0</td>\n",
       "      <td>No</td>\n",
       "    </tr>\n",
       "    <tr>\n",
       "      <th>9</th>\n",
       "      <td>France</td>\n",
       "      <td>37.0</td>\n",
       "      <td>67000.0</td>\n",
       "      <td>Yes</td>\n",
       "    </tr>\n",
       "  </tbody>\n",
       "</table>\n",
       "</div>"
      ],
      "text/plain": [
       "   Country   Age   Salary Purchased\n",
       "0   France  44.0  72000.0        No\n",
       "1    Spain  27.0  48000.0       Yes\n",
       "2  Germany  30.0  54000.0        No\n",
       "3    Spain  38.0  61000.0        No\n",
       "4  Germany  40.0      NaN       Yes\n",
       "5   France  35.0  58000.0       Yes\n",
       "6    Spain   NaN  52000.0        No\n",
       "7   France  48.0  79000.0       Yes\n",
       "8  Germany  50.0  83000.0        No\n",
       "9   France  37.0  67000.0       Yes"
      ]
     },
     "execution_count": 18,
     "metadata": {},
     "output_type": "execute_result"
    }
   ],
   "source": [
    "df"
   ]
  },
  {
   "cell_type": "code",
   "execution_count": 19,
   "id": "6d2e4571",
   "metadata": {
    "execution": {
     "iopub.execute_input": "2022-11-01T17:13:01.837559Z",
     "iopub.status.busy": "2022-11-01T17:13:01.836919Z",
     "iopub.status.idle": "2022-11-01T17:13:01.843255Z",
     "shell.execute_reply": "2022-11-01T17:13:01.841888Z"
    },
    "papermill": {
     "duration": 0.022573,
     "end_time": "2022-11-01T17:13:01.845280",
     "exception": false,
     "start_time": "2022-11-01T17:13:01.822707",
     "status": "completed"
    },
    "tags": []
   },
   "outputs": [
    {
     "name": "stdout",
     "output_type": "stream",
     "text": [
      "[[1.0 0.0 0.0 44.0 72000.0]\n",
      " [0.0 0.0 1.0 27.0 48000.0]\n",
      " [0.0 1.0 0.0 30.0 54000.0]\n",
      " [0.0 0.0 1.0 38.0 61000.0]\n",
      " [0.0 1.0 0.0 40.0 63777.77777777778]\n",
      " [1.0 0.0 0.0 35.0 58000.0]\n",
      " [0.0 0.0 1.0 38.77777777777778 52000.0]\n",
      " [1.0 0.0 0.0 48.0 79000.0]\n",
      " [0.0 1.0 0.0 50.0 83000.0]\n",
      " [1.0 0.0 0.0 37.0 67000.0]]\n"
     ]
    }
   ],
   "source": [
    "print(X)"
   ]
  },
  {
   "cell_type": "markdown",
   "id": "5b954f3d",
   "metadata": {
    "papermill": {
     "duration": 0.012068,
     "end_time": "2022-11-01T17:13:01.870265",
     "exception": false,
     "start_time": "2022-11-01T17:13:01.858197",
     "status": "completed"
    },
    "tags": []
   },
   "source": [
    "# <font color='deeppink'>Soluton 2 : Pd.get_dummies()</font>"
   ]
  },
  {
   "cell_type": "code",
   "execution_count": 20,
   "id": "eea0fcfa",
   "metadata": {
    "execution": {
     "iopub.execute_input": "2022-11-01T17:13:01.896709Z",
     "iopub.status.busy": "2022-11-01T17:13:01.895888Z",
     "iopub.status.idle": "2022-11-01T17:13:01.907964Z",
     "shell.execute_reply": "2022-11-01T17:13:01.906861Z"
    },
    "papermill": {
     "duration": 0.027272,
     "end_time": "2022-11-01T17:13:01.909915",
     "exception": false,
     "start_time": "2022-11-01T17:13:01.882643",
     "status": "completed"
    },
    "tags": []
   },
   "outputs": [
    {
     "data": {
      "text/html": [
       "<div>\n",
       "<style scoped>\n",
       "    .dataframe tbody tr th:only-of-type {\n",
       "        vertical-align: middle;\n",
       "    }\n",
       "\n",
       "    .dataframe tbody tr th {\n",
       "        vertical-align: top;\n",
       "    }\n",
       "\n",
       "    .dataframe thead th {\n",
       "        text-align: right;\n",
       "    }\n",
       "</style>\n",
       "<table border=\"1\" class=\"dataframe\">\n",
       "  <thead>\n",
       "    <tr style=\"text-align: right;\">\n",
       "      <th></th>\n",
       "      <th>Country</th>\n",
       "      <th>Age</th>\n",
       "      <th>Salary</th>\n",
       "      <th>Purchased</th>\n",
       "    </tr>\n",
       "  </thead>\n",
       "  <tbody>\n",
       "    <tr>\n",
       "      <th>0</th>\n",
       "      <td>France</td>\n",
       "      <td>44.000000</td>\n",
       "      <td>72000.000000</td>\n",
       "      <td>No</td>\n",
       "    </tr>\n",
       "    <tr>\n",
       "      <th>1</th>\n",
       "      <td>Spain</td>\n",
       "      <td>27.000000</td>\n",
       "      <td>48000.000000</td>\n",
       "      <td>Yes</td>\n",
       "    </tr>\n",
       "    <tr>\n",
       "      <th>2</th>\n",
       "      <td>Germany</td>\n",
       "      <td>30.000000</td>\n",
       "      <td>54000.000000</td>\n",
       "      <td>No</td>\n",
       "    </tr>\n",
       "    <tr>\n",
       "      <th>3</th>\n",
       "      <td>Spain</td>\n",
       "      <td>38.000000</td>\n",
       "      <td>61000.000000</td>\n",
       "      <td>No</td>\n",
       "    </tr>\n",
       "    <tr>\n",
       "      <th>4</th>\n",
       "      <td>Germany</td>\n",
       "      <td>40.000000</td>\n",
       "      <td>63777.777778</td>\n",
       "      <td>Yes</td>\n",
       "    </tr>\n",
       "    <tr>\n",
       "      <th>5</th>\n",
       "      <td>France</td>\n",
       "      <td>35.000000</td>\n",
       "      <td>58000.000000</td>\n",
       "      <td>Yes</td>\n",
       "    </tr>\n",
       "    <tr>\n",
       "      <th>6</th>\n",
       "      <td>Spain</td>\n",
       "      <td>38.777778</td>\n",
       "      <td>52000.000000</td>\n",
       "      <td>No</td>\n",
       "    </tr>\n",
       "    <tr>\n",
       "      <th>7</th>\n",
       "      <td>France</td>\n",
       "      <td>48.000000</td>\n",
       "      <td>79000.000000</td>\n",
       "      <td>Yes</td>\n",
       "    </tr>\n",
       "    <tr>\n",
       "      <th>8</th>\n",
       "      <td>Germany</td>\n",
       "      <td>50.000000</td>\n",
       "      <td>83000.000000</td>\n",
       "      <td>No</td>\n",
       "    </tr>\n",
       "    <tr>\n",
       "      <th>9</th>\n",
       "      <td>France</td>\n",
       "      <td>37.000000</td>\n",
       "      <td>67000.000000</td>\n",
       "      <td>Yes</td>\n",
       "    </tr>\n",
       "  </tbody>\n",
       "</table>\n",
       "</div>"
      ],
      "text/plain": [
       "   Country        Age        Salary Purchased\n",
       "0   France  44.000000  72000.000000        No\n",
       "1    Spain  27.000000  48000.000000       Yes\n",
       "2  Germany  30.000000  54000.000000        No\n",
       "3    Spain  38.000000  61000.000000        No\n",
       "4  Germany  40.000000  63777.777778       Yes\n",
       "5   France  35.000000  58000.000000       Yes\n",
       "6    Spain  38.777778  52000.000000        No\n",
       "7   France  48.000000  79000.000000       Yes\n",
       "8  Germany  50.000000  83000.000000        No\n",
       "9   France  37.000000  67000.000000       Yes"
      ]
     },
     "execution_count": 20,
     "metadata": {},
     "output_type": "execute_result"
    }
   ],
   "source": [
    "df2"
   ]
  },
  {
   "cell_type": "code",
   "execution_count": 21,
   "id": "1ec89175",
   "metadata": {
    "execution": {
     "iopub.execute_input": "2022-11-01T17:13:01.937168Z",
     "iopub.status.busy": "2022-11-01T17:13:01.936806Z",
     "iopub.status.idle": "2022-11-01T17:13:01.960922Z",
     "shell.execute_reply": "2022-11-01T17:13:01.959690Z"
    },
    "papermill": {
     "duration": 0.040746,
     "end_time": "2022-11-01T17:13:01.963442",
     "exception": false,
     "start_time": "2022-11-01T17:13:01.922696",
     "status": "completed"
    },
    "tags": []
   },
   "outputs": [
    {
     "data": {
      "text/html": [
       "<div>\n",
       "<style scoped>\n",
       "    .dataframe tbody tr th:only-of-type {\n",
       "        vertical-align: middle;\n",
       "    }\n",
       "\n",
       "    .dataframe tbody tr th {\n",
       "        vertical-align: top;\n",
       "    }\n",
       "\n",
       "    .dataframe thead th {\n",
       "        text-align: right;\n",
       "    }\n",
       "</style>\n",
       "<table border=\"1\" class=\"dataframe\">\n",
       "  <thead>\n",
       "    <tr style=\"text-align: right;\">\n",
       "      <th></th>\n",
       "      <th>Age</th>\n",
       "      <th>Salary</th>\n",
       "      <th>Country_France</th>\n",
       "      <th>Country_Germany</th>\n",
       "      <th>Country_Spain</th>\n",
       "      <th>Purchased_No</th>\n",
       "      <th>Purchased_Yes</th>\n",
       "    </tr>\n",
       "  </thead>\n",
       "  <tbody>\n",
       "    <tr>\n",
       "      <th>0</th>\n",
       "      <td>44.000000</td>\n",
       "      <td>72000.000000</td>\n",
       "      <td>1</td>\n",
       "      <td>0</td>\n",
       "      <td>0</td>\n",
       "      <td>1</td>\n",
       "      <td>0</td>\n",
       "    </tr>\n",
       "    <tr>\n",
       "      <th>1</th>\n",
       "      <td>27.000000</td>\n",
       "      <td>48000.000000</td>\n",
       "      <td>0</td>\n",
       "      <td>0</td>\n",
       "      <td>1</td>\n",
       "      <td>0</td>\n",
       "      <td>1</td>\n",
       "    </tr>\n",
       "    <tr>\n",
       "      <th>2</th>\n",
       "      <td>30.000000</td>\n",
       "      <td>54000.000000</td>\n",
       "      <td>0</td>\n",
       "      <td>1</td>\n",
       "      <td>0</td>\n",
       "      <td>1</td>\n",
       "      <td>0</td>\n",
       "    </tr>\n",
       "    <tr>\n",
       "      <th>3</th>\n",
       "      <td>38.000000</td>\n",
       "      <td>61000.000000</td>\n",
       "      <td>0</td>\n",
       "      <td>0</td>\n",
       "      <td>1</td>\n",
       "      <td>1</td>\n",
       "      <td>0</td>\n",
       "    </tr>\n",
       "    <tr>\n",
       "      <th>4</th>\n",
       "      <td>40.000000</td>\n",
       "      <td>63777.777778</td>\n",
       "      <td>0</td>\n",
       "      <td>1</td>\n",
       "      <td>0</td>\n",
       "      <td>0</td>\n",
       "      <td>1</td>\n",
       "    </tr>\n",
       "    <tr>\n",
       "      <th>5</th>\n",
       "      <td>35.000000</td>\n",
       "      <td>58000.000000</td>\n",
       "      <td>1</td>\n",
       "      <td>0</td>\n",
       "      <td>0</td>\n",
       "      <td>0</td>\n",
       "      <td>1</td>\n",
       "    </tr>\n",
       "    <tr>\n",
       "      <th>6</th>\n",
       "      <td>38.777778</td>\n",
       "      <td>52000.000000</td>\n",
       "      <td>0</td>\n",
       "      <td>0</td>\n",
       "      <td>1</td>\n",
       "      <td>1</td>\n",
       "      <td>0</td>\n",
       "    </tr>\n",
       "    <tr>\n",
       "      <th>7</th>\n",
       "      <td>48.000000</td>\n",
       "      <td>79000.000000</td>\n",
       "      <td>1</td>\n",
       "      <td>0</td>\n",
       "      <td>0</td>\n",
       "      <td>0</td>\n",
       "      <td>1</td>\n",
       "    </tr>\n",
       "    <tr>\n",
       "      <th>8</th>\n",
       "      <td>50.000000</td>\n",
       "      <td>83000.000000</td>\n",
       "      <td>0</td>\n",
       "      <td>1</td>\n",
       "      <td>0</td>\n",
       "      <td>1</td>\n",
       "      <td>0</td>\n",
       "    </tr>\n",
       "    <tr>\n",
       "      <th>9</th>\n",
       "      <td>37.000000</td>\n",
       "      <td>67000.000000</td>\n",
       "      <td>1</td>\n",
       "      <td>0</td>\n",
       "      <td>0</td>\n",
       "      <td>0</td>\n",
       "      <td>1</td>\n",
       "    </tr>\n",
       "  </tbody>\n",
       "</table>\n",
       "</div>"
      ],
      "text/plain": [
       "         Age        Salary  Country_France  Country_Germany  Country_Spain  \\\n",
       "0  44.000000  72000.000000               1                0              0   \n",
       "1  27.000000  48000.000000               0                0              1   \n",
       "2  30.000000  54000.000000               0                1              0   \n",
       "3  38.000000  61000.000000               0                0              1   \n",
       "4  40.000000  63777.777778               0                1              0   \n",
       "5  35.000000  58000.000000               1                0              0   \n",
       "6  38.777778  52000.000000               0                0              1   \n",
       "7  48.000000  79000.000000               1                0              0   \n",
       "8  50.000000  83000.000000               0                1              0   \n",
       "9  37.000000  67000.000000               1                0              0   \n",
       "\n",
       "   Purchased_No  Purchased_Yes  \n",
       "0             1              0  \n",
       "1             0              1  \n",
       "2             1              0  \n",
       "3             1              0  \n",
       "4             0              1  \n",
       "5             0              1  \n",
       "6             1              0  \n",
       "7             0              1  \n",
       "8             1              0  \n",
       "9             0              1  "
      ]
     },
     "execution_count": 21,
     "metadata": {},
     "output_type": "execute_result"
    }
   ],
   "source": [
    "pd.get_dummies(df2, dtype = int)"
   ]
  },
  {
   "cell_type": "markdown",
   "id": "8a6d7ae9",
   "metadata": {
    "papermill": {
     "duration": 0.012788,
     "end_time": "2022-11-01T17:13:01.989337",
     "exception": false,
     "start_time": "2022-11-01T17:13:01.976549",
     "status": "completed"
    },
    "tags": []
   },
   "source": [
    "# <font color='magenta'>Solution 3 : LabelEncoder</font>"
   ]
  },
  {
   "cell_type": "code",
   "execution_count": 22,
   "id": "f78abd9e",
   "metadata": {
    "execution": {
     "iopub.execute_input": "2022-11-01T17:13:02.017375Z",
     "iopub.status.busy": "2022-11-01T17:13:02.016991Z",
     "iopub.status.idle": "2022-11-01T17:13:02.021373Z",
     "shell.execute_reply": "2022-11-01T17:13:02.020447Z"
    },
    "papermill": {
     "duration": 0.020904,
     "end_time": "2022-11-01T17:13:02.023385",
     "exception": false,
     "start_time": "2022-11-01T17:13:02.002481",
     "status": "completed"
    },
    "tags": []
   },
   "outputs": [],
   "source": [
    "from sklearn.preprocessing import LabelEncoder\n",
    "le = LabelEncoder()\n",
    "y = le.fit_transform(y)"
   ]
  },
  {
   "cell_type": "code",
   "execution_count": 23,
   "id": "3b490581",
   "metadata": {
    "execution": {
     "iopub.execute_input": "2022-11-01T17:13:02.051022Z",
     "iopub.status.busy": "2022-11-01T17:13:02.050655Z",
     "iopub.status.idle": "2022-11-01T17:13:02.056562Z",
     "shell.execute_reply": "2022-11-01T17:13:02.054945Z"
    },
    "papermill": {
     "duration": 0.022065,
     "end_time": "2022-11-01T17:13:02.058418",
     "exception": false,
     "start_time": "2022-11-01T17:13:02.036353",
     "status": "completed"
    },
    "tags": []
   },
   "outputs": [
    {
     "name": "stdout",
     "output_type": "stream",
     "text": [
      "[0 1 0 0 1 1 0 1 0 1]\n"
     ]
    }
   ],
   "source": [
    "print(y)"
   ]
  },
  {
   "cell_type": "markdown",
   "id": "2fa45a36",
   "metadata": {
    "papermill": {
     "duration": 0.012646,
     "end_time": "2022-11-01T17:13:02.083716",
     "exception": false,
     "start_time": "2022-11-01T17:13:02.071070",
     "status": "completed"
    },
    "tags": []
   },
   "source": [
    "# <font color='aqua'>6- Splitting the dataset</font>\n",
    "Splitting the dataset is the next step in data preprocessing in machine learning. Every dataset for Machine Learning model must be split into two separate sets – training set and test set. "
   ]
  },
  {
   "cell_type": "markdown",
   "id": "b902d5c8",
   "metadata": {
    "papermill": {
     "duration": 0.013291,
     "end_time": "2022-11-01T17:13:02.110727",
     "exception": false,
     "start_time": "2022-11-01T17:13:02.097436",
     "status": "completed"
    },
    "tags": []
   },
   "source": [
    "# <img src=\"https://files.realpython.com/media/Splitting-Datasets-With-sklearns-train_test_split_Watermarked.13dcac93b15d.jpg\" width=\"75%\"/>\n"
   ]
  },
  {
   "cell_type": "code",
   "execution_count": 24,
   "id": "6108eaf9",
   "metadata": {
    "execution": {
     "iopub.execute_input": "2022-11-01T17:13:02.138400Z",
     "iopub.status.busy": "2022-11-01T17:13:02.138031Z",
     "iopub.status.idle": "2022-11-01T17:13:02.143897Z",
     "shell.execute_reply": "2022-11-01T17:13:02.142509Z"
    },
    "papermill": {
     "duration": 0.022706,
     "end_time": "2022-11-01T17:13:02.146510",
     "exception": false,
     "start_time": "2022-11-01T17:13:02.123804",
     "status": "completed"
    },
    "tags": []
   },
   "outputs": [],
   "source": [
    "from sklearn.model_selection import train_test_split\n",
    "X_train, X_test, y_train, y_test = train_test_split(X, y, test_size = 0.2, random_state = 1)"
   ]
  },
  {
   "cell_type": "code",
   "execution_count": 25,
   "id": "957c4dbb",
   "metadata": {
    "execution": {
     "iopub.execute_input": "2022-11-01T17:13:02.174379Z",
     "iopub.status.busy": "2022-11-01T17:13:02.173938Z",
     "iopub.status.idle": "2022-11-01T17:13:02.180458Z",
     "shell.execute_reply": "2022-11-01T17:13:02.178974Z"
    },
    "papermill": {
     "duration": 0.022755,
     "end_time": "2022-11-01T17:13:02.182447",
     "exception": false,
     "start_time": "2022-11-01T17:13:02.159692",
     "status": "completed"
    },
    "tags": []
   },
   "outputs": [
    {
     "name": "stdout",
     "output_type": "stream",
     "text": [
      "[[0.0 0.0 1.0 38.77777777777778 52000.0]\n",
      " [0.0 1.0 0.0 40.0 63777.77777777778]\n",
      " [1.0 0.0 0.0 44.0 72000.0]\n",
      " [0.0 0.0 1.0 38.0 61000.0]\n",
      " [0.0 0.0 1.0 27.0 48000.0]\n",
      " [1.0 0.0 0.0 48.0 79000.0]\n",
      " [0.0 1.0 0.0 50.0 83000.0]\n",
      " [1.0 0.0 0.0 35.0 58000.0]]\n"
     ]
    }
   ],
   "source": [
    "print(X_train)"
   ]
  },
  {
   "cell_type": "code",
   "execution_count": 26,
   "id": "3a1f92a9",
   "metadata": {
    "execution": {
     "iopub.execute_input": "2022-11-01T17:13:02.210605Z",
     "iopub.status.busy": "2022-11-01T17:13:02.210181Z",
     "iopub.status.idle": "2022-11-01T17:13:02.217321Z",
     "shell.execute_reply": "2022-11-01T17:13:02.216315Z"
    },
    "papermill": {
     "duration": 0.023843,
     "end_time": "2022-11-01T17:13:02.219230",
     "exception": false,
     "start_time": "2022-11-01T17:13:02.195387",
     "status": "completed"
    },
    "tags": []
   },
   "outputs": [
    {
     "name": "stdout",
     "output_type": "stream",
     "text": [
      "[[0.0 1.0 0.0 30.0 54000.0]\n",
      " [1.0 0.0 0.0 37.0 67000.0]]\n"
     ]
    }
   ],
   "source": [
    "print(X_test)"
   ]
  },
  {
   "cell_type": "code",
   "execution_count": 27,
   "id": "34c0d1e5",
   "metadata": {
    "execution": {
     "iopub.execute_input": "2022-11-01T17:13:02.248604Z",
     "iopub.status.busy": "2022-11-01T17:13:02.247230Z",
     "iopub.status.idle": "2022-11-01T17:13:02.253496Z",
     "shell.execute_reply": "2022-11-01T17:13:02.252435Z"
    },
    "papermill": {
     "duration": 0.022753,
     "end_time": "2022-11-01T17:13:02.255229",
     "exception": false,
     "start_time": "2022-11-01T17:13:02.232476",
     "status": "completed"
    },
    "tags": []
   },
   "outputs": [
    {
     "name": "stdout",
     "output_type": "stream",
     "text": [
      "[0 1 0 0 1 1 0 1]\n"
     ]
    }
   ],
   "source": [
    "print(y_train)"
   ]
  },
  {
   "cell_type": "code",
   "execution_count": 28,
   "id": "960818bb",
   "metadata": {
    "execution": {
     "iopub.execute_input": "2022-11-01T17:13:02.282704Z",
     "iopub.status.busy": "2022-11-01T17:13:02.282229Z",
     "iopub.status.idle": "2022-11-01T17:13:02.287438Z",
     "shell.execute_reply": "2022-11-01T17:13:02.286511Z"
    },
    "papermill": {
     "duration": 0.021589,
     "end_time": "2022-11-01T17:13:02.289659",
     "exception": false,
     "start_time": "2022-11-01T17:13:02.268070",
     "status": "completed"
    },
    "tags": []
   },
   "outputs": [
    {
     "name": "stdout",
     "output_type": "stream",
     "text": [
      "[0 1]\n"
     ]
    }
   ],
   "source": [
    "print(y_test)"
   ]
  },
  {
   "cell_type": "markdown",
   "id": "33dfd499",
   "metadata": {
    "papermill": {
     "duration": 0.012417,
     "end_time": "2022-11-01T17:13:02.314591",
     "exception": false,
     "start_time": "2022-11-01T17:13:02.302174",
     "status": "completed"
    },
    "tags": []
   },
   "source": [
    "# <font color='lightskyblue'>7- Feature scaling</font>\n",
    "Feature scaling marks the end of the data preprocessing in Machine Learning. It is a method to standardize the independent variables of a dataset within a specific range. In other words, feature scaling limits the range of variables so that you can compare them on common grounds.\n",
    "\n",
    "Another reason why feature scaling is applied is that few algorithms like gradient descent converge much faster with feature scaling than without it."
   ]
  },
  {
   "cell_type": "markdown",
   "id": "c571cf99",
   "metadata": {
    "papermill": {
     "duration": 0.012128,
     "end_time": "2022-11-01T17:13:02.339130",
     "exception": false,
     "start_time": "2022-11-01T17:13:02.327002",
     "status": "completed"
    },
    "tags": []
   },
   "source": [
    "# <img src=\"https://miro.medium.com/max/876/1*dGXqtJOKa_Tbvt9nL3H7KQ.jpeg\" width=\"50%\"/>\n"
   ]
  },
  {
   "cell_type": "markdown",
   "id": "2ccbcbd7",
   "metadata": {
    "papermill": {
     "duration": 0.012075,
     "end_time": "2022-11-01T17:13:02.363436",
     "exception": false,
     "start_time": "2022-11-01T17:13:02.351361",
     "status": "completed"
    },
    "tags": []
   },
   "source": [
    "# <font color='pink'>Why feature scalling? </font>\n",
    "Most of the times, your dataset will contain features highly varying in magnitudes, units and range. But since, most of the machine learning algorithms use Eucledian distance between two data points in their computations, this is a problem.\n",
    "\n",
    "If left alone, these algorithms only take in the magnitude of features neglecting the units. The results would vary greatly between different units, 5kg and 5000gms. The features with high magnitudes will weigh in a lot more in the distance calculations than features with low magnitudes.\n",
    "\n",
    "# <img src=\"https://miro.medium.com/max/640/1*EyPd0sQxEXtTDSJgu72JNQ.jpeg\" width=\"40%\"/>\n"
   ]
  },
  {
   "cell_type": "markdown",
   "id": "ffd2086f",
   "metadata": {
    "papermill": {
     "duration": 0.012052,
     "end_time": "2022-11-01T17:13:02.387699",
     "exception": false,
     "start_time": "2022-11-01T17:13:02.375647",
     "status": "completed"
    },
    "tags": []
   },
   "source": [
    "# <font color='red'>MinMax Scaler</font>\n",
    "MinMax Scaler shrinks the data within the given range, usually of 0 to 1. It transforms data by scaling features to a given range. It scales the values to a specific value range without changing the shape of the original distribution."
   ]
  },
  {
   "cell_type": "markdown",
   "id": "c9e2f79f",
   "metadata": {
    "papermill": {
     "duration": 0.01213,
     "end_time": "2022-11-01T17:13:02.412197",
     "exception": false,
     "start_time": "2022-11-01T17:13:02.400067",
     "status": "completed"
    },
    "tags": []
   },
   "source": [
    "# <img src=\"https://miro.medium.com/max/1838/1*QjZVCDwW1TMFTWF3rubemQ@2x.png\" width=\"50%\"/>\n"
   ]
  },
  {
   "cell_type": "code",
   "execution_count": 29,
   "id": "dc8dbeae",
   "metadata": {
    "execution": {
     "iopub.execute_input": "2022-11-01T17:13:02.438609Z",
     "iopub.status.busy": "2022-11-01T17:13:02.438180Z",
     "iopub.status.idle": "2022-11-01T17:13:02.444055Z",
     "shell.execute_reply": "2022-11-01T17:13:02.443371Z"
    },
    "papermill": {
     "duration": 0.021347,
     "end_time": "2022-11-01T17:13:02.445749",
     "exception": false,
     "start_time": "2022-11-01T17:13:02.424402",
     "status": "completed"
    },
    "tags": []
   },
   "outputs": [],
   "source": [
    "from sklearn.preprocessing import MinMaxScaler\n",
    "mm = MinMaxScaler()\n",
    "X_train[:, 3:] = mm.fit_transform(X_train[:, 3:])\n",
    "X_test[:, 3:] = mm.transform(X_test[:, 3:])"
   ]
  },
  {
   "cell_type": "code",
   "execution_count": 30,
   "id": "9a573a10",
   "metadata": {
    "execution": {
     "iopub.execute_input": "2022-11-01T17:13:02.473629Z",
     "iopub.status.busy": "2022-11-01T17:13:02.473202Z",
     "iopub.status.idle": "2022-11-01T17:13:02.478477Z",
     "shell.execute_reply": "2022-11-01T17:13:02.477578Z"
    },
    "papermill": {
     "duration": 0.021664,
     "end_time": "2022-11-01T17:13:02.480229",
     "exception": false,
     "start_time": "2022-11-01T17:13:02.458565",
     "status": "completed"
    },
    "tags": []
   },
   "outputs": [
    {
     "name": "stdout",
     "output_type": "stream",
     "text": [
      "[[0.5120772946859904 0.11428571428571432]\n",
      " [0.5652173913043479 0.45079365079365075]\n",
      " [0.7391304347826089 0.6857142857142855]\n",
      " [0.4782608695652175 0.37142857142857144]\n",
      " [0.0 0.0]\n",
      " [0.9130434782608696 0.8857142857142857]\n",
      " [1.0 1.0]\n",
      " [0.34782608695652173 0.2857142857142856]]\n"
     ]
    }
   ],
   "source": [
    "print(X_train[:, 3:])"
   ]
  },
  {
   "cell_type": "code",
   "execution_count": 31,
   "id": "2127983c",
   "metadata": {
    "execution": {
     "iopub.execute_input": "2022-11-01T17:13:02.512082Z",
     "iopub.status.busy": "2022-11-01T17:13:02.511604Z",
     "iopub.status.idle": "2022-11-01T17:13:02.517528Z",
     "shell.execute_reply": "2022-11-01T17:13:02.516494Z"
    },
    "papermill": {
     "duration": 0.026507,
     "end_time": "2022-11-01T17:13:02.520226",
     "exception": false,
     "start_time": "2022-11-01T17:13:02.493719",
     "status": "completed"
    },
    "tags": []
   },
   "outputs": [
    {
     "name": "stdout",
     "output_type": "stream",
     "text": [
      "[[0.1304347826086958 0.17142857142857149]\n",
      " [0.43478260869565233 0.5428571428571427]]\n"
     ]
    }
   ],
   "source": [
    "print(X_test[:, 3:])"
   ]
  },
  {
   "cell_type": "markdown",
   "id": "3f3e1a9b",
   "metadata": {
    "papermill": {
     "duration": 0.018186,
     "end_time": "2022-11-01T17:13:02.555131",
     "exception": false,
     "start_time": "2022-11-01T17:13:02.536945",
     "status": "completed"
    },
    "tags": []
   },
   "source": [
    "# <font color='red'>Standard Scaler</font>\n",
    "StandardScaler follows Standard Normal Distribution (SND). Therefore, it makes mean = 0 and scales the data to unit variance."
   ]
  },
  {
   "cell_type": "markdown",
   "id": "dece8132",
   "metadata": {
    "papermill": {
     "duration": 0.015985,
     "end_time": "2022-11-01T17:13:02.586504",
     "exception": false,
     "start_time": "2022-11-01T17:13:02.570519",
     "status": "completed"
    },
    "tags": []
   },
   "source": [
    "# <img src=\"https://i.stack.imgur.com/PZgJ2.png\" width=\"50%\"/>\n"
   ]
  },
  {
   "cell_type": "markdown",
   "id": "3c519ea2",
   "metadata": {
    "papermill": {
     "duration": 0.013474,
     "end_time": "2022-11-01T17:13:02.613578",
     "exception": false,
     "start_time": "2022-11-01T17:13:02.600104",
     "status": "completed"
    },
    "tags": []
   },
   "source": [
    "# <img src=\"https://journaldev.nyc3.digitaloceanspaces.com/2020/10/Standardization.png\" width=\"50%\"/>\n"
   ]
  },
  {
   "cell_type": "code",
   "execution_count": 32,
   "id": "ffebfc42",
   "metadata": {
    "execution": {
     "iopub.execute_input": "2022-11-01T17:13:02.642430Z",
     "iopub.status.busy": "2022-11-01T17:13:02.641977Z",
     "iopub.status.idle": "2022-11-01T17:13:02.649394Z",
     "shell.execute_reply": "2022-11-01T17:13:02.647905Z"
    },
    "papermill": {
     "duration": 0.024074,
     "end_time": "2022-11-01T17:13:02.651270",
     "exception": false,
     "start_time": "2022-11-01T17:13:02.627196",
     "status": "completed"
    },
    "tags": []
   },
   "outputs": [],
   "source": [
    "from sklearn.preprocessing import StandardScaler\n",
    "sta = StandardScaler()\n",
    "X_train[:, 3:] = sta.fit_transform(X_train[:, 3:])\n",
    "X_test[:, 3:] = sta.transform(X_test[:, 3:])"
   ]
  },
  {
   "cell_type": "code",
   "execution_count": 33,
   "id": "67057937",
   "metadata": {
    "execution": {
     "iopub.execute_input": "2022-11-01T17:13:02.680075Z",
     "iopub.status.busy": "2022-11-01T17:13:02.679726Z",
     "iopub.status.idle": "2022-11-01T17:13:02.684545Z",
     "shell.execute_reply": "2022-11-01T17:13:02.683625Z"
    },
    "papermill": {
     "duration": 0.022169,
     "end_time": "2022-11-01T17:13:02.686575",
     "exception": false,
     "start_time": "2022-11-01T17:13:02.664406",
     "status": "completed"
    },
    "tags": []
   },
   "outputs": [
    {
     "name": "stdout",
     "output_type": "stream",
     "text": [
      "[[-0.19159184384578537 -1.0781259408412425]\n",
      " [-0.014117293757057581 -0.07013167641635436]\n",
      " [0.5667085065333245 0.6335624327104541]\n",
      " [-0.3045301939022482 -0.3078661727429788]\n",
      " [-1.9018011447007983 -1.4204636155515822]\n",
      " [1.1475343068237058 1.2326533634535486]\n",
      " [1.4379472069688963 1.5749910381638883]\n",
      " [-0.740149544120035 -0.5646194287757338]]\n"
     ]
    }
   ],
   "source": [
    "print(X_train[:, 3:])"
   ]
  },
  {
   "cell_type": "code",
   "execution_count": 34,
   "id": "773aca59",
   "metadata": {
    "execution": {
     "iopub.execute_input": "2022-11-01T17:13:02.714106Z",
     "iopub.status.busy": "2022-11-01T17:13:02.713375Z",
     "iopub.status.idle": "2022-11-01T17:13:02.718935Z",
     "shell.execute_reply": "2022-11-01T17:13:02.717822Z"
    },
    "papermill": {
     "duration": 0.022033,
     "end_time": "2022-11-01T17:13:02.721535",
     "exception": false,
     "start_time": "2022-11-01T17:13:02.699502",
     "status": "completed"
    },
    "tags": []
   },
   "outputs": [
    {
     "name": "stdout",
     "output_type": "stream",
     "text": [
      "[[-1.4661817944830116 -0.9069571034860727]\n",
      " [-0.4497366439748436 0.20564033932252992]]\n"
     ]
    }
   ],
   "source": [
    "print(X_test[:, 3:])"
   ]
  },
  {
   "cell_type": "markdown",
   "id": "0c052c59",
   "metadata": {
    "papermill": {
     "duration": 0.013532,
     "end_time": "2022-11-01T17:13:02.749147",
     "exception": false,
     "start_time": "2022-11-01T17:13:02.735615",
     "status": "completed"
    },
    "tags": []
   },
   "source": [
    "# <font color='orchid'>When to Use Feature Scalling? </font>\n",
    "\n",
    "<font color='red'>k-nearest neighbors   </font> with an Euclidean distance measure is sensitive to magnitudes and hence should be scaled for all features to weigh in equally.\n",
    "\n",
    "Scaling is critical, while performing <font color='red'>Principal Component Analysis(PCA)</font>. PCA tries to get the features with maximum variance and the variance is high for high magnitude features. This skews the PCA towards high magnitude features.\n",
    "\n",
    "We can speed up <font color='red'>gradient descent</font> by scaling. This is because θ will descend quickly on small ranges and slowly on large ranges, and so will oscillate inefficiently down to the optimum when the variables are very uneven.\n",
    "\n",
    "<font color='red'>Tree based models</font> are not distance based models and can handle varying ranges of features. Hence, Scaling is not required while modelling trees.\n",
    "\n",
    "Algorithms like <font color='red'>Linear Discriminant Analysis(LDA)</font>, <font color='red'>Naive Bayes</font> are by design equipped to handle this and gives weights to the features accordingly. Performing a features scaling in these algorithms may not have much effect."
   ]
  },
  {
   "cell_type": "markdown",
   "id": "ec0d8f6b",
   "metadata": {
    "papermill": {
     "duration": 0.013541,
     "end_time": "2022-11-01T17:13:02.776717",
     "exception": false,
     "start_time": "2022-11-01T17:13:02.763176",
     "status": "completed"
    },
    "tags": []
   },
   "source": [
    "# <font color='darkgreen'>Normalization Vs. Standardization</font>\n",
    "The two most discussed scaling methods are Normalization and Standardization. Normalization typically means rescales the values into a range of [0,1]. Standardization typically means rescales data to have a mean of 0 and a standard deviation of 1 (unit variance)."
   ]
  },
  {
   "cell_type": "markdown",
   "id": "35b7920a",
   "metadata": {
    "papermill": {
     "duration": 0.013365,
     "end_time": "2022-11-01T17:13:02.803927",
     "exception": false,
     "start_time": "2022-11-01T17:13:02.790562",
     "status": "completed"
    },
    "tags": []
   },
   "source": [
    "# <img src=\"https://miro.medium.com/max/744/1*HW7-kYjj6RKwrO-5WTLkDA.png\" width=\"70%\"/>\n"
   ]
  },
  {
   "cell_type": "markdown",
   "id": "3b763a55-1f89-49b3-84fb-9d8fa3b46cde",
   "metadata": {},
   "source": [
    "source: Kaggle"
   ]
  },
  {
   "cell_type": "code",
   "execution_count": null,
   "id": "a53baeb5-08b9-4e4f-9462-f76cddbfaa27",
   "metadata": {},
   "outputs": [],
   "source": []
  }
 ],
 "metadata": {
  "kernelspec": {
   "display_name": "Python 3 (ipykernel)",
   "language": "python",
   "name": "python3"
  },
  "language_info": {
   "codemirror_mode": {
    "name": "ipython",
    "version": 3
   },
   "file_extension": ".py",
   "mimetype": "text/x-python",
   "name": "python",
   "nbconvert_exporter": "python",
   "pygments_lexer": "ipython3",
   "version": "3.12.4"
  },
  "papermill": {
   "default_parameters": {},
   "duration": 12.298996,
   "end_time": "2022-11-01T17:13:03.640311",
   "environment_variables": {},
   "exception": null,
   "input_path": "__notebook__.ipynb",
   "output_path": "__notebook__.ipynb",
   "parameters": {},
   "start_time": "2022-11-01T17:12:51.341315",
   "version": "2.3.4"
  }
 },
 "nbformat": 4,
 "nbformat_minor": 5
}
