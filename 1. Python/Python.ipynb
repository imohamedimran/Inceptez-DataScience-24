{
 "cells": [
  {
   "cell_type": "markdown",
   "id": "801f9535-1867-4db8-be2c-fb6b3648460f",
   "metadata": {},
   "source": [
    "### Print statement"
   ]
  },
  {
   "cell_type": "code",
   "execution_count": 3,
   "id": "16e2b44f-201d-43bd-9b60-6dc838b0cf48",
   "metadata": {},
   "outputs": [
    {
     "name": "stdout",
     "output_type": "stream",
     "text": [
      "Hello\n"
     ]
    }
   ],
   "source": [
    "print('Hello')"
   ]
  },
  {
   "cell_type": "code",
   "execution_count": 5,
   "id": "d402f94f-1224-41d3-a7e7-2629bbad4ac1",
   "metadata": {},
   "outputs": [
    {
     "name": "stdout",
     "output_type": "stream",
     "text": [
      "Hello again!\n"
     ]
    }
   ],
   "source": [
    "print('Hello again!')"
   ]
  },
  {
   "cell_type": "code",
   "execution_count": null,
   "id": "1783a37f-68e9-447a-a87d-7dd6962e4520",
   "metadata": {},
   "outputs": [],
   "source": []
  },
  {
   "cell_type": "code",
   "execution_count": 5,
   "id": "b901001c-9218-42b0-933e-9c11d3b2ad3c",
   "metadata": {},
   "outputs": [
    {
     "name": "stdout",
     "output_type": "stream",
     "text": [
      "Hello again!\n"
     ]
    }
   ],
   "source": [
    "print('Hello again!')"
   ]
  },
  {
   "cell_type": "markdown",
   "id": "48656ed4-47a9-4c91-8bc7-e24a07c97761",
   "metadata": {},
   "source": [
    "# Keyword"
   ]
  },
  {
   "cell_type": "markdown",
   "id": "c12f2e85-27f6-4e99-bf07-456f60c92f6a",
   "metadata": {},
   "source": [
    "- We cannot use keyword for variable name, function name, and other identifiers\n",
    "- Keywords are case-sensitive\n",
    "- All keywords except True, False and None are in lower case"
   ]
  },
  {
   "cell_type": "code",
   "execution_count": null,
   "id": "d1a3f3fc-327a-45a7-a5f0-684655cc947d",
   "metadata": {},
   "outputs": [],
   "source": [
    "True, False, None "
   ]
  },
  {
   "cell_type": "code",
   "execution_count": 16,
   "id": "9860e033-f4a4-45ac-a30c-b25c42ff8afd",
   "metadata": {
    "scrolled": true
   },
   "outputs": [
    {
     "ename": "SyntaxError",
     "evalue": "cannot assign to True (3921662828.py, line 1)",
     "output_type": "error",
     "traceback": [
      "\u001b[1;36m  Cell \u001b[1;32mIn[16], line 1\u001b[1;36m\u001b[0m\n\u001b[1;33m    True = 'this is my variable'\u001b[0m\n\u001b[1;37m    ^\u001b[0m\n\u001b[1;31mSyntaxError\u001b[0m\u001b[1;31m:\u001b[0m cannot assign to True\n"
     ]
    }
   ],
   "source": [
    "True = 'this is my variable'"
   ]
  },
  {
   "cell_type": "code",
   "execution_count": 25,
   "id": "3dad3f79-85bd-4fde-929c-6c1d8da881a7",
   "metadata": {},
   "outputs": [],
   "source": [
    "def print_val(): #name\n",
    "    a = 2\n",
    "    b = 'Smith'\n",
    "    print(a)\n",
    "    "
   ]
  },
  {
   "cell_type": "markdown",
   "id": "ca2af4f6-4da5-4999-8901-8ddf993568ef",
   "metadata": {},
   "source": [
    "## Literals\n",
    "- A raw data that we assign to a variables"
   ]
  },
  {
   "cell_type": "code",
   "execution_count": null,
   "id": "5c4c5738-9200-4329-b1e5-3261dfaa568e",
   "metadata": {},
   "outputs": [],
   "source": [
    "True\n",
    "False\n",
    "is\n",
    "in\n",
    "for\n",
    "def\n",
    "if\n",
    "elif\n",
    "except\n",
    "pass\n",
    "break\n"
   ]
  },
  {
   "cell_type": "markdown",
   "id": "c51dd3b7-f5a2-48e6-ad64-f1c442251507",
   "metadata": {},
   "source": [
    "# Identifiers"
   ]
  },
  {
   "cell_type": "markdown",
   "id": "fb8b998f-0378-426a-a4df-66d704f5d5fa",
   "metadata": {},
   "source": [
    "- It can be a combination of texts (a-z or A-Z), numbers (0-9) and a special symbols (_)\n",
    "- It cannot start with a digit, it can be like var1, var1234\n",
    "- Keywords can't be used as a identifier\n",
    "- We can't use special symbols (!, @, #, $, % etc)"
   ]
  },
  {
   "cell_type": "code",
   "execution_count": 35,
   "id": "d0436546-0f13-414a-bb0d-f3a295668ecd",
   "metadata": {},
   "outputs": [
    {
     "ename": "SyntaxError",
     "evalue": "invalid decimal literal (4231524775.py, line 1)",
     "output_type": "error",
     "traceback": [
      "\u001b[1;36m  Cell \u001b[1;32mIn[35], line 1\u001b[1;36m\u001b[0m\n\u001b[1;33m    1var = 5\u001b[0m\n\u001b[1;37m    ^\u001b[0m\n\u001b[1;31mSyntaxError\u001b[0m\u001b[1;31m:\u001b[0m invalid decimal literal\n"
     ]
    }
   ],
   "source": [
    "1var = 5"
   ]
  },
  {
   "cell_type": "code",
   "execution_count": 37,
   "id": "0b07416a-00dd-4af8-8c2a-838a25349eca",
   "metadata": {},
   "outputs": [
    {
     "ename": "SyntaxError",
     "evalue": "invalid decimal literal (728226781.py, line 1)",
     "output_type": "error",
     "traceback": [
      "\u001b[1;36m  Cell \u001b[1;32mIn[37], line 1\u001b[1;36m\u001b[0m\n\u001b[1;33m    def 1print_val():\u001b[0m\n\u001b[1;37m        ^\u001b[0m\n\u001b[1;31mSyntaxError\u001b[0m\u001b[1;31m:\u001b[0m invalid decimal literal\n"
     ]
    }
   ],
   "source": [
    "def 1print_val():\n",
    "    a = 2\n",
    "    print(a)"
   ]
  },
  {
   "cell_type": "code",
   "execution_count": 39,
   "id": "7ca87d1b-62fa-4f59-abef-2f221a50947a",
   "metadata": {},
   "outputs": [
    {
     "name": "stderr",
     "output_type": "stream",
     "text": [
      "'myvar' is not recognized as an internal or external command,\n",
      "operable program or batch file.\n"
     ]
    }
   ],
   "source": [
    "!myvar = 10"
   ]
  },
  {
   "cell_type": "markdown",
   "id": "1edeb63e-a682-48df-9e08-1561bd8530c4",
   "metadata": {},
   "source": [
    "# Indendation"
   ]
  },
  {
   "cell_type": "code",
   "execution_count": null,
   "id": "97a2ca01-430a-4d66-8bf0-fed82caf3325",
   "metadata": {},
   "outputs": [],
   "source": [
    "#data types\n",
    "\n",
    "1, 2, 3 - int\n",
    "'name', 'place' - str\n",
    "1.4, 5.9 - float\n"
   ]
  },
  {
   "cell_type": "code",
   "execution_count": 61,
   "id": "cb9bf49c-21c2-408a-b7ce-60a614e16f62",
   "metadata": {},
   "outputs": [
    {
     "name": "stdout",
     "output_type": "stream",
     "text": [
      "end of func\n"
     ]
    }
   ],
   "source": [
    "def print_my_name():\n",
    "    name = 'John'\n",
    "    a = 10\n",
    "    b = 15\n",
    "    if a > b:\n",
    "        print('false')\n",
    "    else: #line 7\n",
    "        print('true') #last line of the func print_my_name\n",
    "\n",
    "print('end of func')"
   ]
  },
  {
   "cell_type": "code",
   "execution_count": 63,
   "id": "ec65c77a-6baa-45d6-8783-abdf1f3bf720",
   "metadata": {},
   "outputs": [
    {
     "name": "stdout",
     "output_type": "stream",
     "text": [
      "true\n"
     ]
    }
   ],
   "source": [
    "print_my_name()"
   ]
  },
  {
   "cell_type": "markdown",
   "id": "f710e182-f3a8-4ac6-84da-f90655039966",
   "metadata": {},
   "source": [
    "# Python statements"
   ]
  },
  {
   "cell_type": "markdown",
   "id": "32670cae-ffb0-43dd-9186-ab35042e2489",
   "metadata": {},
   "source": [
    " ##### Multi-line statement"
   ]
  },
  {
   "cell_type": "code",
   "execution_count": 68,
   "id": "066b02e9-5b16-4dab-a1cf-4b1ae1cc2279",
   "metadata": {},
   "outputs": [
    {
     "name": "stdout",
     "output_type": "stream",
     "text": [
      "36\n"
     ]
    }
   ],
   "source": [
    "add_num = 1 + 2 + 3 + 4 + \\\n",
    "5 + 6 + \\\n",
    "7+ 8\n",
    "\n",
    "print(add_num)"
   ]
  },
  {
   "cell_type": "code",
   "execution_count": 122,
   "id": "1641a3f3-30ca-4982-84fc-e84f5cffd50f",
   "metadata": {},
   "outputs": [
    {
     "name": "stdout",
     "output_type": "stream",
     "text": [
      "36\n"
     ]
    }
   ],
   "source": [
    "add_num1 = (1 + 2 + 3 + 4 + \n",
    "5 + 6 + \n",
    "7+ 8)\n",
    "\n",
    "print(add_num1)"
   ]
  },
  {
   "cell_type": "code",
   "execution_count": 136,
   "id": "92040f59-b268-4d5b-ba29-e78a8ad7b701",
   "metadata": {},
   "outputs": [
    {
     "data": {
      "text/plain": [
       "int"
      ]
     },
     "execution_count": 136,
     "metadata": {},
     "output_type": "execute_result"
    }
   ],
   "source": [
    "type(add_num1)"
   ]
  },
  {
   "cell_type": "code",
   "execution_count": 84,
   "id": "8425e316-aaa2-4e35-ab65-70be04bd158e",
   "metadata": {},
   "outputs": [
    {
     "name": "stdout",
     "output_type": "stream",
     "text": [
      "Value for var1: 10 \n",
      "Value for var2: 14 \n",
      "Value for var: 40\n"
     ]
    }
   ],
   "source": [
    "var1 = 10; var2 = 14; var3 = 40\n",
    "print('Value for var1:', var1, '\\n' 'Value for var2:', var2, '\\n' 'Value for var:', var3)"
   ]
  },
  {
   "cell_type": "markdown",
   "id": "860c2b11-9034-451f-87c5-57c38a1b88fd",
   "metadata": {},
   "source": [
    "## indendation example\n"
   ]
  },
  {
   "cell_type": "code",
   "execution_count": null,
   "id": "a3fca520-ed79-4673-8ab5-35688d31d8d7",
   "metadata": {},
   "outputs": [],
   "source": [
    "range = [1, 2, 3, 4, 5, 6, 7 ]"
   ]
  },
  {
   "cell_type": "code",
   "execution_count": 6,
   "id": "2f445878-ecfd-4188-839d-17cadd832b21",
   "metadata": {},
   "outputs": [
    {
     "data": {
      "text/plain": [
       "[1, 4, 7]"
      ]
     },
     "execution_count": 6,
     "metadata": {},
     "output_type": "execute_result"
    }
   ],
   "source": [
    "list(range(1, 8, 3))"
   ]
  },
  {
   "cell_type": "code",
   "execution_count": 101,
   "id": "2f492d98-6fef-4f0b-a81d-3e3ddedf7ec3",
   "metadata": {},
   "outputs": [
    {
     "name": "stdout",
     "output_type": "stream",
     "text": [
      "10\n",
      "9\n",
      "8\n",
      "7\n",
      "6\n",
      "5\n"
     ]
    }
   ],
   "source": [
    "for i in range(10, 1, -1): # i = 3  ....... 5= 5 - condition satisfied\n",
    "    print(i)\n",
    "    if(i == 5): #5 = 5\n",
    "        break"
   ]
  },
  {
   "cell_type": "code",
   "execution_count": 91,
   "id": "3b962ba4-f412-4b4e-bb12-5f73bfbee45c",
   "metadata": {},
   "outputs": [
    {
     "data": {
      "text/plain": [
       "\u001b[1;31mInit signature:\u001b[0m \u001b[0mrange\u001b[0m\u001b[1;33m(\u001b[0m\u001b[0mself\u001b[0m\u001b[1;33m,\u001b[0m \u001b[1;33m/\u001b[0m\u001b[1;33m,\u001b[0m \u001b[1;33m*\u001b[0m\u001b[0margs\u001b[0m\u001b[1;33m,\u001b[0m \u001b[1;33m**\u001b[0m\u001b[0mkwargs\u001b[0m\u001b[1;33m)\u001b[0m\u001b[1;33m\u001b[0m\u001b[1;33m\u001b[0m\u001b[0m\n",
       "\u001b[1;31mDocstring:\u001b[0m     \n",
       "range(stop) -> range object\n",
       "range(start, stop[, step]) -> range object\n",
       "\n",
       "Return an object that produces a sequence of integers from start (inclusive)\n",
       "to stop (exclusive) by step.  range(i, j) produces i, i+1, i+2, ..., j-1.\n",
       "start defaults to 0, and stop is omitted!  range(4) produces 0, 1, 2, 3.\n",
       "These are exactly the valid indices for a list of 4 elements.\n",
       "When step is given, it specifies the increment (or decrement).\n",
       "\u001b[1;31mType:\u001b[0m           type\n",
       "\u001b[1;31mSubclasses:\u001b[0m     "
      ]
     },
     "metadata": {},
     "output_type": "display_data"
    }
   ],
   "source": [
    "?range"
   ]
  },
  {
   "cell_type": "code",
   "execution_count": 129,
   "id": "bceb0784-ed68-4739-8cf5-39dfddc7d05e",
   "metadata": {},
   "outputs": [
    {
     "data": {
      "text/plain": [
       "\u001b[1;31mSignature:\u001b[0m \u001b[0mprint\u001b[0m\u001b[1;33m(\u001b[0m\u001b[1;33m*\u001b[0m\u001b[0margs\u001b[0m\u001b[1;33m,\u001b[0m \u001b[0msep\u001b[0m\u001b[1;33m=\u001b[0m\u001b[1;34m' '\u001b[0m\u001b[1;33m,\u001b[0m \u001b[0mend\u001b[0m\u001b[1;33m=\u001b[0m\u001b[1;34m'\\n'\u001b[0m\u001b[1;33m,\u001b[0m \u001b[0mfile\u001b[0m\u001b[1;33m=\u001b[0m\u001b[1;32mNone\u001b[0m\u001b[1;33m,\u001b[0m \u001b[0mflush\u001b[0m\u001b[1;33m=\u001b[0m\u001b[1;32mFalse\u001b[0m\u001b[1;33m)\u001b[0m\u001b[1;33m\u001b[0m\u001b[1;33m\u001b[0m\u001b[0m\n",
       "\u001b[1;31mDocstring:\u001b[0m\n",
       "Prints the values to a stream, or to sys.stdout by default.\n",
       "\n",
       "sep\n",
       "  string inserted between values, default a space.\n",
       "end\n",
       "  string appended after the last value, default a newline.\n",
       "file\n",
       "  a file-like object (stream); defaults to the current sys.stdout.\n",
       "flush\n",
       "  whether to forcibly flush the stream.\n",
       "\u001b[1;31mType:\u001b[0m      builtin_function_or_method"
      ]
     },
     "metadata": {},
     "output_type": "display_data"
    }
   ],
   "source": [
    "?print"
   ]
  },
  {
   "cell_type": "code",
   "execution_count": 93,
   "id": "feff0a0e-993e-451b-acaa-e7d837560b47",
   "metadata": {},
   "outputs": [],
   "source": [
    "list1 = [1, 2, 3, 4, 5, 6, 7 ]\n",
    "list2 = ['Ram', 'Swetha', 'Pranesh']"
   ]
  },
  {
   "cell_type": "code",
   "execution_count": null,
   "id": "09205be1-4d8f-40a0-9729-15392d3f307d",
   "metadata": {},
   "outputs": [],
   "source": [
    "['Ram' -> 0, 'Swetha' ->1, 'Pranesh' ->2]"
   ]
  },
  {
   "cell_type": "code",
   "execution_count": 95,
   "id": "479f0c90-f219-423d-bef6-3483d14e3b9f",
   "metadata": {},
   "outputs": [
    {
     "name": "stdout",
     "output_type": "stream",
     "text": [
      "Ram\n",
      "Swetha\n",
      "Pranesh\n"
     ]
    }
   ],
   "source": [
    "for i in list2: # for every element in the list2\n",
    "    print(i) #l print those elements"
   ]
  },
  {
   "cell_type": "code",
   "execution_count": 105,
   "id": "b2b64a0b-980e-4309-99f8-ca407451eaa3",
   "metadata": {},
   "outputs": [
    {
     "name": "stdout",
     "output_type": "stream",
     "text": [
      "1\n",
      "2\n",
      "3\n",
      "4\n"
     ]
    }
   ],
   "source": [
    "for i in range(1, 5): print(i)"
   ]
  },
  {
   "cell_type": "code",
   "execution_count": 137,
   "id": "8d61f8db-4309-4a0b-af3b-2f383378a73b",
   "metadata": {},
   "outputs": [
    {
     "ename": "IndentationError",
     "evalue": "expected an indented block after 'if' statement on line 1 (324628740.py, line 2)",
     "output_type": "error",
     "traceback": [
      "\u001b[1;36m  Cell \u001b[1;32mIn[137], line 2\u001b[1;36m\u001b[0m\n\u001b[1;33m    print('true')\u001b[0m\n\u001b[1;37m    ^\u001b[0m\n\u001b[1;31mIndentationError\u001b[0m\u001b[1;31m:\u001b[0m expected an indented block after 'if' statement on line 1\n"
     ]
    }
   ],
   "source": [
    "if True:#1\n",
    "print('true')#2"
   ]
  },
  {
   "cell_type": "markdown",
   "id": "3c5003d6-fc00-45d6-bb0d-b640b5362201",
   "metadata": {},
   "source": [
    "### Comments\n"
   ]
  },
  {
   "cell_type": "code",
   "execution_count": null,
   "id": "98be7803-5050-448b-bdec-f84b0c1c57e2",
   "metadata": {},
   "outputs": [],
   "source": [
    "# Fun a range function and print it out\n",
    "for i in range(1, 5): print(i)"
   ]
  },
  {
   "cell_type": "code",
   "execution_count": 139,
   "id": "5fdb1138-2270-4056-a822-2309d4f388a8",
   "metadata": {},
   "outputs": [
    {
     "data": {
      "text/plain": [
       "' Hello , this is my first line\\nThis is my second line\\nAnd this is my third line'"
      ]
     },
     "execution_count": 139,
     "metadata": {},
     "output_type": "execute_result"
    }
   ],
   "source": [
    "\"\"\" Hello , this is my first line\n",
    "This is my second line\n",
    "And this is my third line\"\"\""
   ]
  },
  {
   "cell_type": "markdown",
   "id": "d5d386cc-0de8-4ba6-bbb7-855c30b99207",
   "metadata": {},
   "source": [
    "### Docstring"
   ]
  },
  {
   "cell_type": "code",
   "execution_count": null,
   "id": "e4597b4c-5567-4a14-bba8-fffdb4da52d0",
   "metadata": {},
   "outputs": [],
   "source": []
  },
  {
   "cell_type": "code",
   "execution_count": 113,
   "id": "52e97c6b-67c2-4693-9ef0-ec9f510cad54",
   "metadata": {},
   "outputs": [],
   "source": [
    "def docstring_fn():\n",
    "    \"\"\" This is my docstring\"\"\"\n",
    "    print('Example docstring function')"
   ]
  },
  {
   "cell_type": "code",
   "execution_count": 115,
   "id": "f6b0d221-869d-40a7-8cd7-8d2962c8d62f",
   "metadata": {},
   "outputs": [
    {
     "name": "stdout",
     "output_type": "stream",
     "text": [
      "Example docstring function\n"
     ]
    }
   ],
   "source": [
    "docstring_fn()"
   ]
  },
  {
   "cell_type": "code",
   "execution_count": 117,
   "id": "9613ee86-db6c-449c-bd85-23cc3d8b963e",
   "metadata": {},
   "outputs": [
    {
     "name": "stdout",
     "output_type": "stream",
     "text": [
      " This is my docstring\n"
     ]
    }
   ],
   "source": [
    "print(docstring_fn.__doc__)"
   ]
  },
  {
   "cell_type": "code",
   "execution_count": 119,
   "id": "13796906-82ac-400d-af2d-67c6cbb58ecd",
   "metadata": {},
   "outputs": [],
   "source": [
    "def add_number(a):\n",
    "    \"\"\"Function to return the addition of numbers\"\"\"\n",
    "    return a + 3"
   ]
  },
  {
   "cell_type": "code",
   "execution_count": 121,
   "id": "d3a4ed6f-c812-4bf1-86d2-e1abfe55bd85",
   "metadata": {},
   "outputs": [
    {
     "data": {
      "text/plain": [
       "5"
      ]
     },
     "execution_count": 121,
     "metadata": {},
     "output_type": "execute_result"
    }
   ],
   "source": [
    "add_number(2)"
   ]
  },
  {
   "cell_type": "code",
   "execution_count": 123,
   "id": "e31cdf1c-0640-42b8-b1a9-55562ad1bb83",
   "metadata": {},
   "outputs": [
    {
     "name": "stdout",
     "output_type": "stream",
     "text": [
      "Function to return the addition of numbers\n"
     ]
    }
   ],
   "source": [
    "print(add_number.__doc__)"
   ]
  },
  {
   "cell_type": "code",
   "execution_count": 131,
   "id": "0db13da2-ab27-47f3-a714-79eaab95522e",
   "metadata": {},
   "outputs": [],
   "source": [
    "# next line"
   ]
  },
  {
   "cell_type": "code",
   "execution_count": 135,
   "id": "194d9527-6551-4ef8-aee0-191ffd6702e5",
   "metadata": {},
   "outputs": [],
   "source": [
    "# next line"
   ]
  },
  {
   "cell_type": "markdown",
   "id": "c5c9ebb9-ffca-42b0-8f9d-ed324286b843",
   "metadata": {},
   "source": [
    "# Variable"
   ]
  },
  {
   "cell_type": "code",
   "execution_count": 13,
   "id": "eadd7f54-f6fa-4eea-a228-f0e797c13259",
   "metadata": {},
   "outputs": [
    {
     "name": "stdout",
     "output_type": "stream",
     "text": [
      "1 2 3\n"
     ]
    }
   ],
   "source": [
    "var1, var2, var3 = 1, 2, 3\n",
    "\n",
    "print(var1, var2, var3)"
   ]
  },
  {
   "cell_type": "code",
   "execution_count": 15,
   "id": "aa4c4364-4578-41c6-9fa3-2e663ce338c2",
   "metadata": {},
   "outputs": [
    {
     "name": "stdout",
     "output_type": "stream",
     "text": [
      "10 10 10 10\n"
     ]
    }
   ],
   "source": [
    "var1 = var2 = var3 = var4 = 10\n",
    "\n",
    "print(var1, var2, var3, var4)"
   ]
  },
  {
   "cell_type": "code",
   "execution_count": 1,
   "id": "3b2df516-0151-44bc-962f-9dc4385e7ad6",
   "metadata": {},
   "outputs": [
    {
     "ename": "ModuleNotFoundError",
     "evalue": "No module named 'imran'",
     "output_type": "error",
     "traceback": [
      "\u001b[1;31m---------------------------------------------------------------------------\u001b[0m",
      "\u001b[1;31mModuleNotFoundError\u001b[0m                       Traceback (most recent call last)",
      "Cell \u001b[1;32mIn[1], line 1\u001b[0m\n\u001b[1;32m----> 1\u001b[0m \u001b[38;5;28;01mimport\u001b[39;00m \u001b[38;5;21;01mimran\u001b[39;00m\n",
      "\u001b[1;31mModuleNotFoundError\u001b[0m: No module named 'imran'"
     ]
    }
   ],
   "source": [
    "import imran"
   ]
  },
  {
   "cell_type": "code",
   "execution_count": 21,
   "id": "8dbcf9e9-a0b2-45bd-b674-ec841ed0e2a9",
   "metadata": {},
   "outputs": [
    {
     "data": {
      "text/plain": [
       "('Imran', 100, 7400)"
      ]
     },
     "execution_count": 21,
     "metadata": {},
     "output_type": "execute_result"
    }
   ],
   "source": [
    "imran.name, imran.number, imran.address"
   ]
  },
  {
   "cell_type": "code",
   "execution_count": 3,
   "id": "abf94501-223e-4b6c-a0d6-1537659aa844",
   "metadata": {},
   "outputs": [],
   "source": [
    "import constant"
   ]
  },
  {
   "cell_type": "code",
   "execution_count": 5,
   "id": "27a6fe1d-7872-4dfb-957f-0c7679139776",
   "metadata": {},
   "outputs": [
    {
     "data": {
      "text/plain": [
       "3.14"
      ]
     },
     "execution_count": 5,
     "metadata": {},
     "output_type": "execute_result"
    }
   ],
   "source": [
    "constant.pi"
   ]
  },
  {
   "cell_type": "markdown",
   "id": "aad87c20-e83c-4147-93a2-b23e5e5e02a1",
   "metadata": {},
   "source": [
    "# Data types"
   ]
  },
  {
   "cell_type": "code",
   "execution_count": 36,
   "id": "0aff7d9c-04f7-4983-b45e-ef9f850c6643",
   "metadata": {},
   "outputs": [],
   "source": [
    "a= 4\n",
    "b = 10.5\n",
    "c = 'name'\n"
   ]
  },
  {
   "cell_type": "code",
   "execution_count": 38,
   "id": "ef04cf34-0921-4cca-9d3b-a4e835ebd7c6",
   "metadata": {},
   "outputs": [
    {
     "name": "stdout",
     "output_type": "stream",
     "text": [
      "<class 'int'>\n",
      "<class 'float'>\n",
      "<class 'str'>\n"
     ]
    }
   ],
   "source": [
    "print(type(a))\n",
    "print(type(b))\n",
    "print(type(c))"
   ]
  },
  {
   "cell_type": "markdown",
   "id": "9a31a695-32df-4da5-b1a6-132664fa70ee",
   "metadata": {},
   "source": [
    "# List\n",
    "\n",
    "- Lists are an ordered sequence of items\n",
    "- Lists doesn't need to be of same data types\n",
    "- List are mutable"
   ]
  },
  {
   "cell_type": "code",
   "execution_count": 79,
   "id": "522d3501-3036-45eb-9aca-6a1877d71db7",
   "metadata": {},
   "outputs": [
    {
     "name": "stdout",
     "output_type": "stream",
     "text": [
      "[1, 3, 5, 7, 'one', 'two', 'three', 5.7, 3.4, 6.2, 3, 3, 3, 3]\n"
     ]
    }
   ],
   "source": [
    "list1 = [1, 3, 5, 7, 'one', 'two', 'three', 5.7, 3.4, 6.2, 3, 3, 3, 3]\n",
    "\n",
    "print(list1)"
   ]
  },
  {
   "cell_type": "markdown",
   "id": "01aeb566-5e07-4a97-bdbd-45e1399a897f",
   "metadata": {},
   "source": [
    "### slicing"
   ]
  },
  {
   "cell_type": "code",
   "execution_count": 53,
   "id": "f2472d8a-111c-4459-a421-83fda7c18404",
   "metadata": {},
   "outputs": [
    {
     "data": {
      "text/plain": [
       "['one', 'two', 'three']"
      ]
     },
     "execution_count": 53,
     "metadata": {},
     "output_type": "execute_result"
    }
   ],
   "source": [
    "list1[4:7]"
   ]
  },
  {
   "cell_type": "code",
   "execution_count": 57,
   "id": "8a6c9536-4dbe-48f9-8fcf-6c9ec7c2f941",
   "metadata": {},
   "outputs": [
    {
     "data": {
      "text/plain": [
       "3.4"
      ]
     },
     "execution_count": 57,
     "metadata": {},
     "output_type": "execute_result"
    }
   ],
   "source": [
    "list1[8]"
   ]
  },
  {
   "cell_type": "code",
   "execution_count": 59,
   "id": "593b87d6-8330-404f-9f20-52d02ed5c9e4",
   "metadata": {},
   "outputs": [],
   "source": [
    "list1[3] = 10"
   ]
  },
  {
   "cell_type": "code",
   "execution_count": 61,
   "id": "2a3a1883-d38e-4368-9d7c-2a3db6b0acfb",
   "metadata": {},
   "outputs": [
    {
     "data": {
      "text/plain": [
       "[1, 3, 5, 10, 'one', 'two', 'three', 5.7, 3.4, 6.2]"
      ]
     },
     "execution_count": 61,
     "metadata": {},
     "output_type": "execute_result"
    }
   ],
   "source": [
    "list1"
   ]
  },
  {
   "cell_type": "markdown",
   "id": "6c8546c1-645d-47f5-96c1-1d6a73064bec",
   "metadata": {},
   "source": [
    "# Tuple\n",
    "- Tuple is an ordered sequence of items\n",
    "- Tuple is immutable"
   ]
  },
  {
   "cell_type": "code",
   "execution_count": 99,
   "id": "8e314012-87fc-48dc-b8d0-bc8f6f4ec391",
   "metadata": {},
   "outputs": [],
   "source": [
    "tuple1 = (1, 2, 3, 4, 5 , 5, 5, 5, 'one', 'two')"
   ]
  },
  {
   "cell_type": "code",
   "execution_count": 101,
   "id": "333aca6c-5603-44fb-bbe6-e70781542e3e",
   "metadata": {},
   "outputs": [
    {
     "data": {
      "text/plain": [
       "(1, 2, 3, 4, 5, 5, 5, 5, 'one', 'two')"
      ]
     },
     "execution_count": 101,
     "metadata": {},
     "output_type": "execute_result"
    }
   ],
   "source": [
    "tuple1"
   ]
  },
  {
   "cell_type": "code",
   "execution_count": 70,
   "id": "45b802fd-83e7-41ae-90b2-6a2b1153e695",
   "metadata": {},
   "outputs": [
    {
     "ename": "TypeError",
     "evalue": "'tuple' object does not support item assignment",
     "output_type": "error",
     "traceback": [
      "\u001b[1;31m---------------------------------------------------------------------------\u001b[0m",
      "\u001b[1;31mTypeError\u001b[0m                                 Traceback (most recent call last)",
      "Cell \u001b[1;32mIn[70], line 1\u001b[0m\n\u001b[1;32m----> 1\u001b[0m tuple1[\u001b[38;5;241m2\u001b[39m] \u001b[38;5;241m=\u001b[39m \u001b[38;5;241m10\u001b[39m\n",
      "\u001b[1;31mTypeError\u001b[0m: 'tuple' object does not support item assignment"
     ]
    }
   ],
   "source": [
    "tuple1[2] = 10"
   ]
  },
  {
   "cell_type": "code",
   "execution_count": 73,
   "id": "3859cacf-7cbd-49ee-9f27-a0c302dbce49",
   "metadata": {},
   "outputs": [
    {
     "data": {
      "text/plain": [
       "(3, 4)"
      ]
     },
     "execution_count": 73,
     "metadata": {},
     "output_type": "execute_result"
    }
   ],
   "source": [
    "tuple1[2:4]"
   ]
  },
  {
   "cell_type": "code",
   "execution_count": 148,
   "id": "4af08bbe-b4af-4288-97cc-591d9e59712a",
   "metadata": {},
   "outputs": [],
   "source": [
    "tupel2 = (1)\n",
    "tupel3 = (1,)"
   ]
  },
  {
   "cell_type": "code",
   "execution_count": 150,
   "id": "92d24eb5-e07b-4e3c-b4b5-c455746818c8",
   "metadata": {},
   "outputs": [
    {
     "data": {
      "text/plain": [
       "int"
      ]
     },
     "execution_count": 150,
     "metadata": {},
     "output_type": "execute_result"
    }
   ],
   "source": [
    "type(tupel2)"
   ]
  },
  {
   "cell_type": "code",
   "execution_count": 154,
   "id": "b2979584-d8ce-4764-96b0-6abddf47e4bd",
   "metadata": {},
   "outputs": [
    {
     "data": {
      "text/plain": [
       "tuple"
      ]
     },
     "execution_count": 154,
     "metadata": {},
     "output_type": "execute_result"
    }
   ],
   "source": [
    "type(tupel3)"
   ]
  },
  {
   "cell_type": "markdown",
   "id": "cf4ac656-2eb3-49ce-81dd-af084f57c1a8",
   "metadata": {},
   "source": [
    "# String"
   ]
  },
  {
   "cell_type": "code",
   "execution_count": 103,
   "id": "ae8f9147-65e3-4306-8cdb-d37c26719432",
   "metadata": {},
   "outputs": [],
   "source": [
    "string1 = 'This is my string1398'"
   ]
  },
  {
   "cell_type": "code",
   "execution_count": 105,
   "id": "428a4ec3-5700-4119-b0d9-1e4213db3cfa",
   "metadata": {},
   "outputs": [
    {
     "name": "stdout",
     "output_type": "stream",
     "text": [
      "This is my string1398\n"
     ]
    }
   ],
   "source": [
    "print(string1)"
   ]
  },
  {
   "cell_type": "code",
   "execution_count": 86,
   "id": "5016ad0c-a70c-4889-be0a-e85972e19500",
   "metadata": {},
   "outputs": [
    {
     "data": {
      "text/plain": [
       "'is is m'"
      ]
     },
     "execution_count": 86,
     "metadata": {},
     "output_type": "execute_result"
    }
   ],
   "source": [
    "string1[2:9]"
   ]
  },
  {
   "cell_type": "code",
   "execution_count": 90,
   "id": "87800daa-ea34-4831-9fde-acafba435370",
   "metadata": {},
   "outputs": [
    {
     "ename": "TypeError",
     "evalue": "'str' object does not support item assignment",
     "output_type": "error",
     "traceback": [
      "\u001b[1;31m---------------------------------------------------------------------------\u001b[0m",
      "\u001b[1;31mTypeError\u001b[0m                                 Traceback (most recent call last)",
      "Cell \u001b[1;32mIn[90], line 1\u001b[0m\n\u001b[1;32m----> 1\u001b[0m string1[\u001b[38;5;241m3\u001b[39m] \u001b[38;5;241m=\u001b[39m \u001b[38;5;124m'\u001b[39m\u001b[38;5;124mr\u001b[39m\u001b[38;5;124m'\u001b[39m\n",
      "\u001b[1;31mTypeError\u001b[0m: 'str' object does not support item assignment"
     ]
    }
   ],
   "source": [
    "string1[3] = 'r'"
   ]
  },
  {
   "cell_type": "markdown",
   "id": "ab8327d9-4dbd-45c6-911d-d2a79dbb994e",
   "metadata": {},
   "source": [
    "# Set\n",
    "- Set is unordered\n",
    "- Set is also doesn't contain duplicate"
   ]
  },
  {
   "cell_type": "code",
   "execution_count": 107,
   "id": "a4c5bb73-d3d1-42c4-837a-5b903e4458a8",
   "metadata": {},
   "outputs": [],
   "source": [
    "set1 = {1, 3, 5, 1, 3, 5, 'one', 'one', 'two'}"
   ]
  },
  {
   "cell_type": "code",
   "execution_count": 109,
   "id": "da7e1b3b-b879-4765-a3ed-ef8f0fde9294",
   "metadata": {},
   "outputs": [
    {
     "name": "stdout",
     "output_type": "stream",
     "text": [
      "{1, 3, 5, 'one', 'two'}\n"
     ]
    }
   ],
   "source": [
    "print(set1)"
   ]
  },
  {
   "cell_type": "code",
   "execution_count": 97,
   "id": "fdfeefa4-1e77-41b0-b484-193755c1cd53",
   "metadata": {},
   "outputs": [
    {
     "ename": "TypeError",
     "evalue": "'set' object does not support item assignment",
     "output_type": "error",
     "traceback": [
      "\u001b[1;31m---------------------------------------------------------------------------\u001b[0m",
      "\u001b[1;31mTypeError\u001b[0m                                 Traceback (most recent call last)",
      "Cell \u001b[1;32mIn[97], line 1\u001b[0m\n\u001b[1;32m----> 1\u001b[0m set1[\u001b[38;5;241m1\u001b[39m] \u001b[38;5;241m=\u001b[39m \u001b[38;5;241m0\u001b[39m\n",
      "\u001b[1;31mTypeError\u001b[0m: 'set' object does not support item assignment"
     ]
    }
   ],
   "source": [
    "set1[1] = 0"
   ]
  },
  {
   "cell_type": "code",
   "execution_count": 111,
   "id": "79fe63ba-7a54-4776-b07e-c4d46bef6a3b",
   "metadata": {
    "scrolled": true
   },
   "outputs": [
    {
     "ename": "TypeError",
     "evalue": "'set' object is not subscriptable",
     "output_type": "error",
     "traceback": [
      "\u001b[1;31m---------------------------------------------------------------------------\u001b[0m",
      "\u001b[1;31mTypeError\u001b[0m                                 Traceback (most recent call last)",
      "Cell \u001b[1;32mIn[111], line 1\u001b[0m\n\u001b[1;32m----> 1\u001b[0m set1[\u001b[38;5;241m1\u001b[39m:\u001b[38;5;241m3\u001b[39m]\n",
      "\u001b[1;31mTypeError\u001b[0m: 'set' object is not subscriptable"
     ]
    }
   ],
   "source": [
    "set1[1:3]"
   ]
  },
  {
   "cell_type": "code",
   "execution_count": null,
   "id": "3a639d79-66f8-430f-aa12-fd5180b4eaa4",
   "metadata": {},
   "outputs": [],
   "source": []
  },
  {
   "cell_type": "code",
   "execution_count": null,
   "id": "b9d1167e-7b2b-4571-93eb-d729eb30ab80",
   "metadata": {},
   "outputs": [],
   "source": [
    "[1, 2, 7, 5, 33, 3, 50, 20]"
   ]
  },
  {
   "cell_type": "code",
   "execution_count": 116,
   "id": "a48a3887-f9a5-4ad2-8569-05fbb279d40d",
   "metadata": {},
   "outputs": [],
   "source": [
    "set2 = {4, 3, 6, 'seven', 2, 7,8 , 9, 33, 54, 22, 55, 780, 432, 666, 23, 'one' , 'two' , 77, 'thirty'}"
   ]
  },
  {
   "cell_type": "code",
   "execution_count": 118,
   "id": "12b350e0-d0a4-4183-9d0e-994e678f0133",
   "metadata": {},
   "outputs": [
    {
     "name": "stdout",
     "output_type": "stream",
     "text": [
      "{2, 3, 4, 6, 7, 8, 9, 780, 77, 22, 23, 666, 'two', 33, 432, 54, 55, 'seven', 'one', 'thirty'}\n"
     ]
    }
   ],
   "source": [
    "print(set2)"
   ]
  },
  {
   "cell_type": "code",
   "execution_count": null,
   "id": "20b8c054-be04-48e1-97d5-eb513c964171",
   "metadata": {},
   "outputs": [],
   "source": []
  },
  {
   "cell_type": "code",
   "execution_count": 156,
   "id": "1a1a28fb-a14e-4735-a52b-3035a188d9d5",
   "metadata": {},
   "outputs": [],
   "source": [
    "Set11={1,1,1,1,5,9,0,1,1,1,2,3,4,5,6,7,8,\"Apple\",\"Cherry\"}"
   ]
  },
  {
   "cell_type": "code",
   "execution_count": 158,
   "id": "368179aa-7f17-4738-acbc-d4ae073a7ec2",
   "metadata": {},
   "outputs": [
    {
     "name": "stdout",
     "output_type": "stream",
     "text": [
      "{0, 1, 2, 3, 4, 5, 6, 7, 8, 9, 'Apple', 'Cherry'}\n"
     ]
    }
   ],
   "source": [
    "print(Set11)"
   ]
  },
  {
   "cell_type": "markdown",
   "id": "45f6a9fd-6f82-4595-8abe-2377cd92ffd3",
   "metadata": {},
   "source": [
    "# Dictionary\n",
    "- It has key and value pairs\n",
    "- It doesn't allow duplicate keys (only unique keys)\n",
    "- Can only acces with the help of key, rather their values"
   ]
  },
  {
   "cell_type": "code",
   "execution_count": 161,
   "id": "6672dace-d23d-4e59-9c5b-a04261fa79a5",
   "metadata": {},
   "outputs": [],
   "source": [
    "dict1 = {1: 'name', 2: 'roll_no', 3:'marks' }"
   ]
  },
  {
   "cell_type": "code",
   "execution_count": 163,
   "id": "8da00e01-ee4b-4ab4-9a2c-83810727a9e2",
   "metadata": {},
   "outputs": [
    {
     "name": "stdout",
     "output_type": "stream",
     "text": [
      "{1: 'name', 2: 'roll_no', 3: 'marks'}\n"
     ]
    }
   ],
   "source": [
    "print(dict1)"
   ]
  },
  {
   "cell_type": "code",
   "execution_count": 165,
   "id": "37177f20-b0c3-47ab-bc78-ffdd512c3dca",
   "metadata": {},
   "outputs": [
    {
     "data": {
      "text/plain": [
       "'marks'"
      ]
     },
     "execution_count": 165,
     "metadata": {},
     "output_type": "execute_result"
    }
   ],
   "source": [
    "dict1[3]"
   ]
  },
  {
   "cell_type": "code",
   "execution_count": 167,
   "id": "429c0dc6-ceed-4e17-b805-1142090e1b51",
   "metadata": {},
   "outputs": [
    {
     "ename": "KeyError",
     "evalue": "'roll_no'",
     "output_type": "error",
     "traceback": [
      "\u001b[1;31m---------------------------------------------------------------------------\u001b[0m",
      "\u001b[1;31mKeyError\u001b[0m                                  Traceback (most recent call last)",
      "Cell \u001b[1;32mIn[167], line 1\u001b[0m\n\u001b[1;32m----> 1\u001b[0m dict1[\u001b[38;5;124m'\u001b[39m\u001b[38;5;124mroll_no\u001b[39m\u001b[38;5;124m'\u001b[39m]\n",
      "\u001b[1;31mKeyError\u001b[0m: 'roll_no'"
     ]
    }
   ],
   "source": [
    "dict1['roll_no']"
   ]
  },
  {
   "cell_type": "markdown",
   "id": "dfd540a5-268d-407b-b312-f58e3e25de1d",
   "metadata": {},
   "source": [
    "# Data type conversions"
   ]
  },
  {
   "cell_type": "code",
   "execution_count": 171,
   "id": "ffb3a807-7fb4-4d23-99b6-0db708d7a918",
   "metadata": {},
   "outputs": [
    {
     "data": {
      "text/plain": [
       "10.0"
      ]
     },
     "execution_count": 171,
     "metadata": {},
     "output_type": "execute_result"
    }
   ],
   "source": [
    "float(10)"
   ]
  },
  {
   "cell_type": "code",
   "execution_count": 177,
   "id": "8f80767f-3ee9-4fdd-8a52-498899e677d5",
   "metadata": {},
   "outputs": [
    {
     "data": {
      "text/plain": [
       "3"
      ]
     },
     "execution_count": 177,
     "metadata": {},
     "output_type": "execute_result"
    }
   ],
   "source": [
    "int(3.9)"
   ]
  },
  {
   "cell_type": "code",
   "execution_count": 181,
   "id": "e6f20b32-62b5-4f4a-8dd7-ec5bae80ae34",
   "metadata": {},
   "outputs": [
    {
     "data": {
      "text/plain": [
       "5.5"
      ]
     },
     "execution_count": 181,
     "metadata": {},
     "output_type": "execute_result"
    }
   ],
   "source": [
    "float('5.5')"
   ]
  },
  {
   "cell_type": "code",
   "execution_count": 183,
   "id": "9ae46708-3dbc-4350-8d95-ab4d82db16b7",
   "metadata": {},
   "outputs": [
    {
     "ename": "ValueError",
     "evalue": "could not convert string to float: 'one'",
     "output_type": "error",
     "traceback": [
      "\u001b[1;31m---------------------------------------------------------------------------\u001b[0m",
      "\u001b[1;31mValueError\u001b[0m                                Traceback (most recent call last)",
      "Cell \u001b[1;32mIn[183], line 1\u001b[0m\n\u001b[1;32m----> 1\u001b[0m \u001b[38;5;28mfloat\u001b[39m(\u001b[38;5;124m'\u001b[39m\u001b[38;5;124mone\u001b[39m\u001b[38;5;124m'\u001b[39m)\n",
      "\u001b[1;31mValueError\u001b[0m: could not convert string to float: 'one'"
     ]
    }
   ],
   "source": [
    "float('one')"
   ]
  },
  {
   "cell_type": "code",
   "execution_count": 185,
   "id": "4b497cae-cf3b-4444-8c8a-8e5e3a8c79b9",
   "metadata": {},
   "outputs": [
    {
     "data": {
      "text/plain": [
       "'20'"
      ]
     },
     "execution_count": 185,
     "metadata": {},
     "output_type": "execute_result"
    }
   ],
   "source": [
    "str(20)"
   ]
  },
  {
   "cell_type": "markdown",
   "id": "77c9d360-8a27-4517-8e02-ea031a8048d2",
   "metadata": {},
   "source": [
    "###  We might as well change one sequence to another"
   ]
  },
  {
   "cell_type": "code",
   "execution_count": 190,
   "id": "81bbb905-bb1a-46cb-8777-0a51e471f870",
   "metadata": {},
   "outputs": [
    {
     "data": {
      "text/plain": [
       "{0, 1, 2, 4, 7, 8, 9}"
      ]
     },
     "execution_count": 190,
     "metadata": {},
     "output_type": "execute_result"
    }
   ],
   "source": [
    "set([1, 2, 4, 7, 8, 8, 8, 8, 9, 9, 0])"
   ]
  },
  {
   "cell_type": "code",
   "execution_count": 192,
   "id": "d881d883-9a04-441a-8de7-81ba097ea7e6",
   "metadata": {},
   "outputs": [
    {
     "data": {
      "text/plain": [
       "(0, 1, 2, 4, 7, 8, 9)"
      ]
     },
     "execution_count": 192,
     "metadata": {},
     "output_type": "execute_result"
    }
   ],
   "source": [
    "tuple({0, 1, 2, 4, 7, 8, 9})"
   ]
  },
  {
   "cell_type": "code",
   "execution_count": 194,
   "id": "44f3602f-ead6-41d0-ad09-27b6a1921cbd",
   "metadata": {},
   "outputs": [
    {
     "data": {
      "text/plain": [
       "['A', 'P', 'P', 'L', 'E']"
      ]
     },
     "execution_count": 194,
     "metadata": {},
     "output_type": "execute_result"
    }
   ],
   "source": [
    "list('APPLE')"
   ]
  },
  {
   "cell_type": "code",
   "execution_count": 202,
   "id": "c8605160-74f0-4ff3-9ff9-8838641167c8",
   "metadata": {},
   "outputs": [
    {
     "name": "stdout",
     "output_type": "stream",
     "text": [
      "{10: 'marks', 30: 'roll_no'}\n"
     ]
    }
   ],
   "source": [
    "print(dict([[10, 'marks'], [30, 'roll_no']]))"
   ]
  },
  {
   "cell_type": "code",
   "execution_count": 206,
   "id": "bacc2368-23fe-4144-b5de-47dab9809404",
   "metadata": {},
   "outputs": [
    {
     "name": "stdout",
     "output_type": "stream",
     "text": [
      "{10: 'marks'}\n"
     ]
    }
   ],
   "source": [
    "print(dict([[10, 'marks']]))"
   ]
  },
  {
   "cell_type": "markdown",
   "id": "a5dce41e-8d23-4ffe-917a-dc247c6e63f2",
   "metadata": {},
   "source": [
    "# Type conversion\n",
    "1. Implicit conversion\n",
    "2. Explicit conversion"
   ]
  },
  {
   "cell_type": "code",
   "execution_count": null,
   "id": "9875ef45-ad5a-42e5-a488-f4a08c8260b9",
   "metadata": {},
   "outputs": [],
   "source": [
    "#create an integer variable\n",
    "#create a float variable\n",
    "#add both the variables\n"
   ]
  },
  {
   "cell_type": "code",
   "execution_count": 211,
   "id": "2f8c8480-166c-4f4f-9f52-ac2e7c27c7ca",
   "metadata": {},
   "outputs": [
    {
     "data": {
      "text/plain": [
       "float"
      ]
     },
     "execution_count": 211,
     "metadata": {},
     "output_type": "execute_result"
    }
   ],
   "source": [
    "a=10\n",
    "b=10.5\n",
    "c=a+b\n",
    "(type(c))"
   ]
  },
  {
   "cell_type": "code",
   "execution_count": null,
   "id": "3d3ee47d-cd8a-45a4-91b6-8aa9c717df6d",
   "metadata": {},
   "outputs": [],
   "source": [
    "#create an integer variable\n",
    "#create a string variable\n",
    "#add both the variables"
   ]
  },
  {
   "cell_type": "code",
   "execution_count": 219,
   "id": "21c2bad5-480b-48ae-9556-9850dad5ce7a",
   "metadata": {},
   "outputs": [
    {
     "ename": "TypeError",
     "evalue": "unsupported operand type(s) for +: 'int' and 'str'",
     "output_type": "error",
     "traceback": [
      "\u001b[1;31m---------------------------------------------------------------------------\u001b[0m",
      "\u001b[1;31mTypeError\u001b[0m                                 Traceback (most recent call last)",
      "Cell \u001b[1;32mIn[219], line 3\u001b[0m\n\u001b[0;32m      1\u001b[0m \u001b[38;5;28mint\u001b[39m \u001b[38;5;241m=\u001b[39m\u001b[38;5;241m2\u001b[39m\n\u001b[0;32m      2\u001b[0m \u001b[38;5;28mfloat\u001b[39m \u001b[38;5;241m=\u001b[39m\u001b[38;5;124m'\u001b[39m\u001b[38;5;124m5\u001b[39m\u001b[38;5;124m'\u001b[39m\n\u001b[1;32m----> 3\u001b[0m r\u001b[38;5;241m=\u001b[39m \u001b[38;5;28mint\u001b[39m \u001b[38;5;241m+\u001b[39m \u001b[38;5;28mfloat\u001b[39m\n\u001b[0;32m      4\u001b[0m \u001b[38;5;28mtype\u001b[39m(r)\n",
      "\u001b[1;31mTypeError\u001b[0m: unsupported operand type(s) for +: 'int' and 'str'"
     ]
    }
   ],
   "source": [
    "int =2\n",
    "float ='5'\n",
    "r= int + float\n",
    "type(r)"
   ]
  },
  {
   "cell_type": "code",
   "execution_count": 23,
   "id": "342fe241-5d28-4886-9273-4358d66d3f8f",
   "metadata": {},
   "outputs": [
    {
     "name": "stdout",
     "output_type": "stream",
     "text": [
      "9.6\n"
     ]
    }
   ],
   "source": [
    "a = 5\n",
    "b = float('4.6')\n",
    "print(a+b)"
   ]
  },
  {
   "cell_type": "code",
   "execution_count": 223,
   "id": "6a79dc3c-a6e8-4695-b58c-fac0f512998a",
   "metadata": {},
   "outputs": [],
   "source": [
    "del int"
   ]
  },
  {
   "cell_type": "code",
   "execution_count": 229,
   "id": "3a68615d-4151-4e47-ac48-56cdd13cb7a4",
   "metadata": {},
   "outputs": [
    {
     "ename": "ValueError",
     "evalue": "invalid literal for int() with base 10: '4.5'",
     "output_type": "error",
     "traceback": [
      "\u001b[1;31m---------------------------------------------------------------------------\u001b[0m",
      "\u001b[1;31mValueError\u001b[0m                                Traceback (most recent call last)",
      "Cell \u001b[1;32mIn[229], line 1\u001b[0m\n\u001b[1;32m----> 1\u001b[0m \u001b[38;5;28mint\u001b[39m(\u001b[38;5;124m'\u001b[39m\u001b[38;5;124m4.5\u001b[39m\u001b[38;5;124m'\u001b[39m)\n",
      "\u001b[1;31mValueError\u001b[0m: invalid literal for int() with base 10: '4.5'"
     ]
    }
   ],
   "source": [
    "int('4.5')"
   ]
  },
  {
   "cell_type": "code",
   "execution_count": 17,
   "id": "512538f5-9908-4ecc-952e-f162d9e9d4dd",
   "metadata": {},
   "outputs": [],
   "source": [
    "list1 = [1, 2, 3, 5, 11, 44, 77]"
   ]
  },
  {
   "cell_type": "code",
   "execution_count": 19,
   "id": "0d61fb6a-11f2-480a-87d7-8bc75a976035",
   "metadata": {},
   "outputs": [
    {
     "data": {
      "text/plain": [
       "44"
      ]
     },
     "execution_count": 19,
     "metadata": {},
     "output_type": "execute_result"
    }
   ],
   "source": [
    "list1[5]"
   ]
  },
  {
   "cell_type": "code",
   "execution_count": 5,
   "id": "76b3f9a7-d065-49ce-9250-9e2a8cef7ee6",
   "metadata": {},
   "outputs": [],
   "source": [
    "tuple1 = (7, 8, 9)"
   ]
  },
  {
   "cell_type": "code",
   "execution_count": 21,
   "id": "a3d5b856-b0af-410e-bb6c-ef891b27206e",
   "metadata": {},
   "outputs": [
    {
     "data": {
      "text/plain": [
       "[7, 8, 9]"
      ]
     },
     "execution_count": 21,
     "metadata": {},
     "output_type": "execute_result"
    }
   ],
   "source": [
    "list(tuple1)"
   ]
  },
  {
   "cell_type": "code",
   "execution_count": 9,
   "id": "c1fe0ac8-6200-4608-95c7-40e6d9a83d8b",
   "metadata": {},
   "outputs": [],
   "source": [
    "# del list"
   ]
  },
  {
   "cell_type": "markdown",
   "id": "418064b5-8596-4792-8b66-3afdeff0bac7",
   "metadata": {},
   "source": [
    "# Python inputs"
   ]
  },
  {
   "cell_type": "code",
   "execution_count": 28,
   "id": "173b1072-af0f-4044-84f5-e79f2feac12c",
   "metadata": {},
   "outputs": [
    {
     "name": "stdin",
     "output_type": "stream",
     "text": [
      "Enter the name:  John\n"
     ]
    }
   ],
   "source": [
    "name = input('Enter the name: ')"
   ]
  },
  {
   "cell_type": "code",
   "execution_count": 30,
   "id": "0a4ffc3a-a160-40f8-82c0-9e83552d5453",
   "metadata": {},
   "outputs": [
    {
     "data": {
      "text/plain": [
       "'John'"
      ]
     },
     "execution_count": 30,
     "metadata": {},
     "output_type": "execute_result"
    }
   ],
   "source": [
    "name"
   ]
  },
  {
   "cell_type": "code",
   "execution_count": null,
   "id": "d4393e63-940e-4f2e-a5d0-3b0337cf4a50",
   "metadata": {},
   "outputs": [],
   "source": [
    "# add 2 number\n",
    "#One or both can use 'input' function\n",
    "#print out the sum"
   ]
  },
  {
   "cell_type": "code",
   "execution_count": 32,
   "id": "07b48a52-4b6c-4841-acc4-d1b80147c606",
   "metadata": {},
   "outputs": [
    {
     "name": "stdin",
     "output_type": "stream",
     "text": [
      "Enter value for a: 6\n",
      "Enter value for b: 8\n"
     ]
    },
    {
     "name": "stdout",
     "output_type": "stream",
     "text": [
      "14\n"
     ]
    }
   ],
   "source": [
    "a=int(input(\"Enter value for a:\"))\n",
    "b=int(input(\"Enter value for b:\"))\n",
    "c=a+b\n",
    "print(c)"
   ]
  },
  {
   "cell_type": "code",
   "execution_count": 34,
   "id": "02f292bd-117f-46be-89a3-971ec7f41f44",
   "metadata": {},
   "outputs": [
    {
     "name": "stdin",
     "output_type": "stream",
     "text": [
      "Enter first number 2\n",
      "Enter second number 4\n"
     ]
    },
    {
     "name": "stdout",
     "output_type": "stream",
     "text": [
      "6\n"
     ]
    }
   ],
   "source": [
    "num1=int(input(\"Enter first number\"))\n",
    "num2=int(input(\"Enter second number\"))\n",
    "print(num1+num2)"
   ]
  },
  {
   "cell_type": "code",
   "execution_count": 44,
   "id": "909299c0-a89e-4bc9-ba2e-acded1b724cf",
   "metadata": {},
   "outputs": [
    {
     "name": "stdin",
     "output_type": "stream",
     "text": [
      "value for number a is : 4\n",
      "value for number b is : 7\n"
     ]
    },
    {
     "name": "stdout",
     "output_type": "stream",
     "text": [
      "11\n"
     ]
    }
   ],
   "source": [
    "a =  int(input('value for number a is :'))\n",
    "b = int(input('value for number b is :'))\n",
    "c = a+b\n",
    "print(c)"
   ]
  },
  {
   "cell_type": "code",
   "execution_count": 46,
   "id": "e5061949-6921-4232-acc9-4331cb740d15",
   "metadata": {},
   "outputs": [
    {
     "name": "stdin",
     "output_type": "stream",
     "text": [
      "Enter the NUM11: 3\n",
      "Enter the NUM12: 8\n"
     ]
    },
    {
     "name": "stdout",
     "output_type": "stream",
     "text": [
      "11\n"
     ]
    }
   ],
   "source": [
    "NUM11 =int(input('Enter the NUM11:'))\n",
    "NUM12 =int(input('Enter the NUM12:'))\n",
    "out11=NUM11 + NUM12\n",
    "print(out11)"
   ]
  },
  {
   "cell_type": "markdown",
   "id": "b3f80636-644a-4ea9-96e2-e3f95098c96d",
   "metadata": {},
   "source": [
    "# Arithmetic operations"
   ]
  },
  {
   "cell_type": "code",
   "execution_count": null,
   "id": "93a117ee-c416-4cf3-b61c-9263c85d46df",
   "metadata": {},
   "outputs": [],
   "source": [
    "# add (+), subtract(-), divide(//), multiply (*), modulo(/), exp (power) -> (**)"
   ]
  },
  {
   "cell_type": "code",
   "execution_count": null,
   "id": "302db0a9-d4a7-4e04-a25c-b2e7cc98705b",
   "metadata": {},
   "outputs": [],
   "source": [
    "# 2 variables\n"
   ]
  },
  {
   "cell_type": "code",
   "execution_count": 55,
   "id": "8064cd26-9312-4e97-8ad9-e1f3928a1c02",
   "metadata": {},
   "outputs": [
    {
     "name": "stdout",
     "output_type": "stream",
     "text": [
      "Addition value: 27\n",
      "Subtraction value: 13\n",
      "Division value: 2.857142857142857\n",
      "multiplicaiton value: 140\n",
      "Reminder value: 6\n",
      "Quotient value: 2\n",
      "Pow value: 1280000000\n"
     ]
    }
   ],
   "source": [
    "a=20\n",
    "b=7\n",
    "print(\"Addition value:\", a+b)\n",
    "print(\"Subtraction value:\", a-b)\n",
    "print(\"Division value:\", a/b)\n",
    "print(\"multiplicaiton value:\", a*b)\n",
    "print(\"Reminder value:\", a%b)\n",
    "print(\"Quotient value:\", a//b)\n",
    "print(\"Pow value:\", a**b)"
   ]
  },
  {
   "cell_type": "markdown",
   "id": "72b7fb7c-f298-42f5-b6d2-145d8661b84b",
   "metadata": {},
   "source": [
    "# Comparison operators"
   ]
  },
  {
   "cell_type": "code",
   "execution_count": null,
   "id": "67655cc4-883b-41b7-9faf-3c66cfac01e4",
   "metadata": {},
   "outputs": [],
   "source": [
    "==, !=, |, <=, >="
   ]
  },
  {
   "cell_type": "code",
   "execution_count": 60,
   "id": "59b9b8c7-d0d0-4d88-815c-22e76a142f02",
   "metadata": {},
   "outputs": [
    {
     "name": "stdout",
     "output_type": "stream",
     "text": [
      "a = b: False\n",
      "a < b: False\n",
      "a > b: True\n",
      " a! = b True\n",
      "a >= b True\n",
      "a <= b False\n"
     ]
    }
   ],
   "source": [
    "a=20\n",
    "b=7\n",
    "print('a = b:', a == b)\n",
    "print(\"a < b:\", a <b)\n",
    "print(\"a > b:\", a>b)\n",
    "print(\" a! = b\", a != b)\n",
    "print(\"a >= b\", a >= b)\n",
    "print(\"a <= b\", a<=b)\n",
    "# print(\"Pow value:\", a**b)"
   ]
  },
  {
   "cell_type": "markdown",
   "id": "64caded0-224a-4597-ba66-db1d41d85d24",
   "metadata": {},
   "source": [
    "# Logical operators"
   ]
  },
  {
   "cell_type": "code",
   "execution_count": null,
   "id": "24b9967e-ffb5-4987-b546-6985e564092b",
   "metadata": {},
   "outputs": [],
   "source": [
    "and, or, not"
   ]
  },
  {
   "cell_type": "code",
   "execution_count": null,
   "id": "c936bd51-d11a-4e3e-9577-9baa06778d52",
   "metadata": {},
   "outputs": [],
   "source": [
    "x = True, y = False"
   ]
  },
  {
   "cell_type": "code",
   "execution_count": 69,
   "id": "0ca8605f-4fc9-4550-a744-86e3fd29ca2b",
   "metadata": {},
   "outputs": [
    {
     "name": "stdout",
     "output_type": "stream",
     "text": [
      "x AND y is: False\n",
      "x or y is: True\n",
      "True\n"
     ]
    }
   ],
   "source": [
    "x = True #1\n",
    "y = False #0\n",
    "\n",
    "print('x AND y is:', x and y)\n",
    "print('x or y is:', x or y)\n",
    "print(not y)"
   ]
  },
  {
   "cell_type": "code",
   "execution_count": null,
   "id": "118d80b8-f984-4b2d-b12f-bc29eeca80bc",
   "metadata": {},
   "outputs": [],
   "source": []
  },
  {
   "cell_type": "code",
   "execution_count": 111,
   "id": "0974d13a-eb73-4c18-96cc-6753922146a9",
   "metadata": {},
   "outputs": [],
   "source": [
    "x = 1\n",
    "y = 1\n",
    "x1 = 'Hi'\n",
    "y2 = 'Hi'\n",
    "x3 = [1]\n",
    "y3 = [1]\n",
    "x4 = (21, 22, 23) #obj1\n",
    "y4 = (21, 22, 23) #obj2"
   ]
  },
  {
   "cell_type": "code",
   "execution_count": 113,
   "id": "440f31dd-f53d-49aa-84db-6e622048fd17",
   "metadata": {},
   "outputs": [
    {
     "name": "stdout",
     "output_type": "stream",
     "text": [
      "True\n",
      "True\n",
      "False\n",
      "False\n"
     ]
    }
   ],
   "source": [
    "print(x is y)\n",
    "print(x1 is y2)\n",
    "print(x3 is y3)\n",
    "print(x4 is y4)"
   ]
  },
  {
   "cell_type": "code",
   "execution_count": 85,
   "id": "d1231516-ce50-4bd9-85e7-3fd3ea59dbc2",
   "metadata": {},
   "outputs": [
    {
     "data": {
      "text/plain": [
       "(140722775341784, 140722775341784)"
      ]
     },
     "execution_count": 85,
     "metadata": {},
     "output_type": "execute_result"
    }
   ],
   "source": [
    "id(x), id(y)"
   ]
  },
  {
   "cell_type": "code",
   "execution_count": 101,
   "id": "f9bed265-ff6c-4723-b9bd-b83330b6b701",
   "metadata": {},
   "outputs": [
    {
     "data": {
      "text/plain": [
       "(1835567867552, 1835567867552)"
      ]
     },
     "execution_count": 101,
     "metadata": {},
     "output_type": "execute_result"
    }
   ],
   "source": [
    "id(x1), id(y2)"
   ]
  },
  {
   "cell_type": "code",
   "execution_count": 93,
   "id": "911123fb-d366-4545-ab02-5010c8e6ff97",
   "metadata": {},
   "outputs": [
    {
     "data": {
      "text/plain": [
       "(1835525697216, 1835525692096)"
      ]
     },
     "execution_count": 93,
     "metadata": {},
     "output_type": "execute_result"
    }
   ],
   "source": [
    "id(x3), id(y3)"
   ]
  },
  {
   "cell_type": "code",
   "execution_count": 95,
   "id": "38130b6a-d00d-40df-a8ee-acdbbbc45515",
   "metadata": {},
   "outputs": [
    {
     "data": {
      "text/plain": [
       "(1835565480064, 1835565480000)"
      ]
     },
     "execution_count": 95,
     "metadata": {},
     "output_type": "execute_result"
    }
   ],
   "source": [
    "id(x4), id(y4)"
   ]
  },
  {
   "cell_type": "code",
   "execution_count": null,
   "id": "f21d7e90-cb3b-4f1e-8265-5b24e98be482",
   "metadata": {},
   "outputs": [],
   "source": []
  },
  {
   "cell_type": "code",
   "execution_count": 148,
   "id": "68af5bd1-eaac-45a2-b1e2-ba99545a02c2",
   "metadata": {},
   "outputs": [
    {
     "name": "stdout",
     "output_type": "stream",
     "text": [
      "10 65 12\n"
     ]
    }
   ],
   "source": [
    "a= 10; n = 65; c = 12\n",
    "print(a, n, c)"
   ]
  },
  {
   "cell_type": "code",
   "execution_count": null,
   "id": "3839eb2e-304b-467d-b6a8-f66a7e73191c",
   "metadata": {},
   "outputs": [],
   "source": []
  },
  {
   "cell_type": "code",
   "execution_count": null,
   "id": "4591ebc4-f73c-47b9-9d64-a15b5486cb5d",
   "metadata": {},
   "outputs": [],
   "source": []
  },
  {
   "cell_type": "code",
   "execution_count": null,
   "id": "120f9249-43eb-44c5-9b75-af7c663e2133",
   "metadata": {},
   "outputs": [],
   "source": [
    "#create a string = Welcome\n",
    "#use 'in' operator\n"
   ]
  },
  {
   "cell_type": "code",
   "execution_count": 121,
   "id": "e1cb82f2-d78d-4080-8ddb-6a6c6e6f8f94",
   "metadata": {},
   "outputs": [
    {
     "name": "stdout",
     "output_type": "stream",
     "text": [
      "True\n"
     ]
    }
   ],
   "source": [
    "text = \"Welcome\" \n",
    "print ( 'W' in text)  "
   ]
  },
  {
   "cell_type": "code",
   "execution_count": 129,
   "id": "93452eb8-7b12-46bd-9f84-ec616e9e95fa",
   "metadata": {},
   "outputs": [
    {
     "name": "stdout",
     "output_type": "stream",
     "text": [
      "True\n"
     ]
    }
   ],
   "source": [
    "dict1 = {1: 'welcome', 2: 'welcome'}\n",
    "print ( 2 in dict1)"
   ]
  },
  {
   "cell_type": "code",
   "execution_count": null,
   "id": "7c7a58a5-0483-4ad8-ba71-900026432a55",
   "metadata": {},
   "outputs": [],
   "source": [
    "#get a number using a input function\n",
    "#Check if the number is greater than 0; if yes, print True; if not print False"
   ]
  },
  {
   "cell_type": "code",
   "execution_count": 133,
   "id": "7bd1c7af-40a9-47b5-913b-b2cc6c4ea840",
   "metadata": {},
   "outputs": [
    {
     "name": "stdin",
     "output_type": "stream",
     "text": [
      " -4\n"
     ]
    },
    {
     "name": "stdout",
     "output_type": "stream",
     "text": [
      "false\n"
     ]
    }
   ],
   "source": [
    "a=int(input())\n",
    "if(a>0):\n",
    "    print(\"true\")\n",
    "else:\n",
    "    print(\"false\")"
   ]
  },
  {
   "cell_type": "code",
   "execution_count": 135,
   "id": "1ba1bebb-65b8-4886-b7bd-302e38a80a92",
   "metadata": {},
   "outputs": [
    {
     "name": "stdin",
     "output_type": "stream",
     "text": [
      "first number 10\n",
      "second number 20\n"
     ]
    },
    {
     "name": "stdout",
     "output_type": "stream",
     "text": [
      "10 is smaller to 20\n",
      "10 is not equal to 20\n",
      "10 is smaller or equal to 20\n"
     ]
    }
   ],
   "source": [
    "def comp(a,b):\n",
    "    if a < b:\n",
    "        print(f\"{a} is smaller to {b}\")\n",
    "    if a > b:\n",
    "        print(f\"{a} is greater to {b}\")\n",
    "    if a == b:\n",
    "        print(f\"{a} is equal to {b}\")\n",
    "    if a != b:\n",
    "        print(f\"{a} is not equal to {b}\")\n",
    "    if a >= b:\n",
    "        print(f\"{a} is greater or equal to {b}\")\n",
    "    if a <= b:\n",
    "        print(f\"{a} is smaller or equal to {b}\")\n",
    "\n",
    "comp(int(input('first number')), int(input('second number')))"
   ]
  },
  {
   "cell_type": "markdown",
   "id": "cab77a77-99e3-45ad-9535-eff27ddef5b1",
   "metadata": {},
   "source": [
    "### Nested if"
   ]
  },
  {
   "cell_type": "code",
   "execution_count": 141,
   "id": "f1056877-82be-4a6e-a341-0b28c013dabb",
   "metadata": {},
   "outputs": [
    {
     "name": "stdin",
     "output_type": "stream",
     "text": [
      "Enter a number 0\n"
     ]
    },
    {
     "name": "stdout",
     "output_type": "stream",
     "text": [
      "Zero\n"
     ]
    }
   ],
   "source": [
    "num=int(input('Enter a number'))\n",
    "if num==0:\n",
    "    print('Zero')\n",
    "else:\n",
    "    if num>0:\n",
    "        print('Positive')\n",
    "    else:\n",
    "        print('Negative')"
   ]
  },
  {
   "cell_type": "code",
   "execution_count": 143,
   "id": "fa7252ef-e24f-4bd2-b10c-99d3e677dd41",
   "metadata": {},
   "outputs": [
    {
     "name": "stdin",
     "output_type": "stream",
     "text": [
      " 0\n"
     ]
    },
    {
     "name": "stdout",
     "output_type": "stream",
     "text": [
      "equal to 0\n"
     ]
    }
   ],
   "source": [
    "num=int(input())\n",
    "if(num>0):\n",
    "    print(\"positive\")\n",
    "elif(num==0):\n",
    "    print(\"equal to 0\")\n",
    "else:\n",
    "    print(\"negative\")"
   ]
  },
  {
   "cell_type": "code",
   "execution_count": null,
   "id": "c56796ff-806c-4c85-9f6b-1645d9a73d48",
   "metadata": {},
   "outputs": [],
   "source": []
  },
  {
   "cell_type": "code",
   "execution_count": null,
   "id": "4bcdc2e1-aa56-434e-b6b1-658730027024",
   "metadata": {},
   "outputs": [],
   "source": [
    "#take a list of integers 'lsit1' [1, 2, 3] = 6\n",
    "\n",
    "# instantiate a var = 0\n",
    "#use a 'for' loop to go over the lsit1\n",
    "#Add the values in the list"
   ]
  },
  {
   "cell_type": "code",
   "execution_count": 152,
   "id": "c35b384f-fb15-4b6f-b8fb-5439a301c533",
   "metadata": {},
   "outputs": [
    {
     "name": "stdout",
     "output_type": "stream",
     "text": [
      "1\n",
      "3\n",
      "6\n",
      "10\n",
      "15\n"
     ]
    }
   ],
   "source": [
    "IntList = [1,2,3,4,5]\n",
    "var=0\n",
    "for i in IntList:\n",
    "    var=var+i\n",
    "    print(var)"
   ]
  },
  {
   "cell_type": "code",
   "execution_count": 156,
   "id": "bea89847-65d2-4ba4-b50f-5f348beb1354",
   "metadata": {},
   "outputs": [
    {
     "data": {
      "text/plain": [
       "6"
      ]
     },
     "execution_count": 156,
     "metadata": {},
     "output_type": "execute_result"
    }
   ],
   "source": [
    "list2 = [1,2,3,4,5,6]\n",
    "len(list2)"
   ]
  },
  {
   "cell_type": "code",
   "execution_count": 154,
   "id": "3752b4a2-86e2-4a6d-8e58-4b10d07c9066",
   "metadata": {},
   "outputs": [
    {
     "name": "stdout",
     "output_type": "stream",
     "text": [
      "15\n"
     ]
    }
   ],
   "source": [
    "l=[1,2,3,4,5]\n",
    "x=0\n",
    "\n",
    "length=len(l)\n",
    "i=0\n",
    "\n",
    "while i<length: 5<5\n",
    "    x+=l[i] # 0 + 1 + 1 = 2 + 3 = 5\n",
    "    i+=1 #updating the counter ->1 =5\n",
    "\n",
    "\n",
    "print(x)"
   ]
  },
  {
   "cell_type": "code",
   "execution_count": 1,
   "id": "35baa64b-fc8f-4eda-a47c-155615e52c14",
   "metadata": {},
   "outputs": [
    {
     "data": {
      "text/plain": [
       "[0, 1, 2, 3, 4]"
      ]
     },
     "execution_count": 1,
     "metadata": {},
     "output_type": "execute_result"
    }
   ],
   "source": [
    "list(range(5))"
   ]
  },
  {
   "cell_type": "code",
   "execution_count": 162,
   "id": "df1ca8d0-7940-4ae5-b84b-7f713c66a251",
   "metadata": {},
   "outputs": [
    {
     "name": "stdin",
     "output_type": "stream",
     "text": [
      "Enter the number 7\n"
     ]
    },
    {
     "name": "stdout",
     "output_type": "stream",
     "text": [
      "21\n"
     ]
    }
   ],
   "source": [
    "num = int(input('Enter the number'))\n",
    "sum = 0\n",
    "i = 0\n",
    "\n",
    "while i< num:\n",
    "    sum = sum + i\n",
    "    i = i + 1\n",
    "\n",
    "print(sum)"
   ]
  },
  {
   "cell_type": "code",
   "execution_count": 160,
   "id": "3955ad3d-9a37-42a7-b89d-87deedbdd3d1",
   "metadata": {},
   "outputs": [
    {
     "name": "stdout",
     "output_type": "stream",
     "text": [
      "1\n",
      "4\n",
      "8\n",
      "11\n",
      "16\n",
      "19\n",
      "22\n"
     ]
    }
   ],
   "source": [
    "listt1 =[1,3,4,3,5,3,3]\n",
    "\n",
    "c = len (listt1) #len = 7\n",
    "i =0 \n",
    "J = 0\n",
    "\n",
    "while(i < c): #i = 7, c = 7\n",
    "    J= J+listt1[i] #4 + 4 = 8\n",
    "    i = i+1 #update the counter\n",
    "    print(J)"
   ]
  },
  {
   "cell_type": "markdown",
   "id": "1bcf4aea-21f2-4442-a489-eb2b3d03ad88",
   "metadata": {},
   "source": [
    "- intitialize a variable (var1)\n",
    "- use a while statement (conditional check) var1< 5\n",
    "- print the value inside a while looop\n",
    "- use a else statemnt\n",
    "- and print tthe value outside while"
   ]
  },
  {
   "cell_type": "code",
   "execution_count": 5,
   "id": "a5d9d002-f09f-4c0a-847c-2830e68576d3",
   "metadata": {},
   "outputs": [
    {
     "name": "stdout",
     "output_type": "stream",
     "text": [
      "3 is inside the while loop\n",
      "4 is inside the while loop\n",
      "Outside the loop\n"
     ]
    }
   ],
   "source": [
    "var1 = 3\n",
    "\n",
    "while var1<5:\n",
    "    print(var1, 'is inside the while loop')\n",
    "    var1 = var1+1\n",
    "else:\n",
    "    print('Outside the loop')"
   ]
  },
  {
   "cell_type": "code",
   "execution_count": 3,
   "id": "e72a7f56-92f8-46e5-864c-8ae3951f00c9",
   "metadata": {},
   "outputs": [
    {
     "name": "stdout",
     "output_type": "stream",
     "text": [
      "1\n",
      "2\n",
      "3\n",
      "4\n",
      "5\n",
      "6\n",
      "7\n",
      "8\n",
      "9\n",
      "10\n",
      "11\n",
      "12\n",
      "13\n",
      "14\n",
      "else :  15\n"
     ]
    }
   ],
   "source": [
    "var1=1\n",
    "while(var1<15):\n",
    "    print(var1)\n",
    "    var1=var1+1\n",
    "else:\n",
    "    print(\"else : \",var1)"
   ]
  },
  {
   "cell_type": "code",
   "execution_count": null,
   "id": "8054da81-166a-47bd-b29a-14503c47060c",
   "metadata": {},
   "outputs": [],
   "source": []
  },
  {
   "cell_type": "code",
   "execution_count": 9,
   "id": "722c9fe9-cbc8-4df5-936d-242b644e9213",
   "metadata": {},
   "outputs": [
    {
     "name": "stdout",
     "output_type": "stream",
     "text": [
      "4\n",
      "1\n",
      "2\n",
      "7\n",
      "8\n"
     ]
    },
    {
     "ename": "IndexError",
     "evalue": "list index out of range",
     "output_type": "error",
     "traceback": [
      "\u001b[1;31m---------------------------------------------------------------------------\u001b[0m",
      "\u001b[1;31mIndexError\u001b[0m                                Traceback (most recent call last)",
      "Cell \u001b[1;32mIn[9], line 11\u001b[0m\n\u001b[0;32m      9\u001b[0m     i\u001b[38;5;241m=\u001b[39mi\u001b[38;5;241m+\u001b[39m\u001b[38;5;241m1\u001b[39m\n\u001b[0;32m     10\u001b[0m \u001b[38;5;28;01melse\u001b[39;00m:\n\u001b[1;32m---> 11\u001b[0m     \u001b[38;5;28mprint\u001b[39m (list_N1[i])\n\u001b[0;32m     12\u001b[0m     i\u001b[38;5;241m=\u001b[39mi\u001b[38;5;241m+\u001b[39m\u001b[38;5;241m1\u001b[39m\n",
      "\u001b[1;31mIndexError\u001b[0m: list index out of range"
     ]
    }
   ],
   "source": [
    "#While loop\n",
    "list_N1 =[1,2,7,8]\n",
    "l=len(list_N1)\n",
    "print(l)\n",
    "\n",
    "\n",
    "i=0\n",
    "j=0\n",
    "while i<l:\n",
    "    print (list_N1[i])\n",
    "    i=i+1 #updating a counter\n",
    "else:\n",
    "    print (list_N1[i])\n",
    "    i=i+1"
   ]
  },
  {
   "cell_type": "markdown",
   "id": "6d9ce92e-a236-4c6b-a8f7-05f4c36bb0e7",
   "metadata": {},
   "source": [
    "### Break statement\n"
   ]
  },
  {
   "cell_type": "code",
   "execution_count": 13,
   "id": "f394328a-e1a6-4b39-afcb-794153f82089",
   "metadata": {},
   "outputs": [
    {
     "name": "stdout",
     "output_type": "stream",
     "text": [
      "H\n",
      "i\n",
      "g\n",
      "h\n"
     ]
    }
   ],
   "source": [
    "for var  in 'Higher':\n",
    "    if var == 'e':\n",
    "        break\n",
    "    print(var)"
   ]
  },
  {
   "cell_type": "code",
   "execution_count": 15,
   "id": "f5ad15f2-788c-4ecd-ab3e-ff744a4b1ea5",
   "metadata": {},
   "outputs": [
    {
     "name": "stdout",
     "output_type": "stream",
     "text": [
      "0\n",
      "1\n",
      "2\n",
      "3\n",
      "4\n"
     ]
    }
   ],
   "source": [
    "for var in  range(10):\n",
    "    if var == 5:\n",
    "        break\n",
    "    print(var)"
   ]
  },
  {
   "cell_type": "markdown",
   "id": "89d3f448-1984-49cc-87e5-a0f588a6ec8d",
   "metadata": {},
   "source": [
    "### Continue statement"
   ]
  },
  {
   "cell_type": "code",
   "execution_count": 20,
   "id": "c85c0596-592f-4e68-b67a-a8d2ccbc2bdc",
   "metadata": {},
   "outputs": [
    {
     "name": "stdout",
     "output_type": "stream",
     "text": [
      "s\n",
      "t\n",
      "r is my favourite letter\n",
      "r\n",
      "i\n",
      "n\n",
      "g\n"
     ]
    }
   ],
   "source": [
    "for var  in 'string':\n",
    "    if var == 'r':\n",
    "        continue\n",
    "    print(var)"
   ]
  },
  {
   "cell_type": "code",
   "execution_count": 22,
   "id": "34cf7ac2-15ef-4ee4-a994-920f0e3c1f3b",
   "metadata": {},
   "outputs": [
    {
     "name": "stdout",
     "output_type": "stream",
     "text": [
      "h\n",
      "i\n",
      "g\n",
      "h\n",
      "e\n",
      "r\n",
      " \n",
      "e\n",
      "d\n",
      "u\n",
      "c\n",
      "a\n",
      "t\n",
      "i\n",
      "o\n",
      "n\n"
     ]
    }
   ],
   "source": [
    "for var in \"high-er education\":\n",
    "    if var == '-':\n",
    "        continue\n",
    "    print(var)"
   ]
  },
  {
   "cell_type": "markdown",
   "id": "19011a29-e966-4d0b-80c3-3adde7dbc830",
   "metadata": {},
   "source": [
    "### pass statement"
   ]
  },
  {
   "cell_type": "code",
   "execution_count": 28,
   "id": "044f739f-6490-4b36-8602-894035ac26fc",
   "metadata": {},
   "outputs": [
    {
     "name": "stdout",
     "output_type": "stream",
     "text": [
      "P\n",
      "a\n",
      "s\n",
      "s\n"
     ]
    }
   ],
   "source": [
    "sequence = ['P', 'a', 's', 's']\n",
    "\n",
    "for i in sequence:\n",
    "    pass #further logic\n",
    "    print(i)"
   ]
  },
  {
   "cell_type": "markdown",
   "id": "e77704e9-c954-425c-b1b0-fe65c1aa11c1",
   "metadata": {},
   "source": [
    "- Pass is a null statement\n",
    "- Diff b/w a pass and a comment is; pass statment is not ignore, but the comment statement is entirely ignored by python interpreter\n",
    "- Pass results in no operation"
   ]
  },
  {
   "cell_type": "code",
   "execution_count": null,
   "id": "d52d79c6-910a-4726-938f-6a74ca2bc15b",
   "metadata": {},
   "outputs": [],
   "source": [
    "#comment"
   ]
  },
  {
   "cell_type": "markdown",
   "id": "ce62b9f8-0eea-4b4c-998f-ade260b3c68b",
   "metadata": {},
   "source": [
    "# Functions\n"
   ]
  },
  {
   "cell_type": "markdown",
   "id": "2abd78c7-a916-4b4f-b7ef-a188f199410c",
   "metadata": {},
   "source": [
    "- Function starts with a keyword 'def'\n",
    "- Pass a parameter/arguments to a function, and it is optional\n",
    "- Keyword argument and positional arguement\n",
    "- A docstring is also optional to a function\n",
    "- An indendation is required to follow inside a fucntion (4 spaces or in the same level)"
   ]
  },
  {
   "cell_type": "code",
   "execution_count": 37,
   "id": "9f062358-9152-4935-a8ad-1d0fb334a21e",
   "metadata": {},
   "outputs": [],
   "source": [
    "def greeting(var1): #var1 = guys\n",
    "    \"\"\"Function to greet someone\"\"\"\n",
    "    print('Hello', var1, 'Good morning') #return"
   ]
  },
  {
   "cell_type": "markdown",
   "id": "3216f111-506a-4525-8e95-e6de98acf13f",
   "metadata": {},
   "source": [
    "##### call the function"
   ]
  },
  {
   "cell_type": "code",
   "execution_count": 40,
   "id": "460f9fc5-4556-4e04-8762-109a69057ea6",
   "metadata": {},
   "outputs": [
    {
     "name": "stdout",
     "output_type": "stream",
     "text": [
      "Hello guys Good morning\n"
     ]
    }
   ],
   "source": [
    "greeting('guys')"
   ]
  },
  {
   "cell_type": "code",
   "execution_count": 42,
   "id": "00593b59-4c9b-4cb7-a77b-3f236f94d33f",
   "metadata": {},
   "outputs": [
    {
     "name": "stdout",
     "output_type": "stream",
     "text": [
      "Function to greet someone\n"
     ]
    }
   ],
   "source": [
    "print(greeting.__doc__)"
   ]
  },
  {
   "cell_type": "code",
   "execution_count": null,
   "id": "c464dd04-50eb-4e8f-b940-b2887d6a93bc",
   "metadata": {},
   "outputs": [],
   "source": [
    "# finding the absolute value"
   ]
  },
  {
   "cell_type": "code",
   "execution_count": null,
   "id": "a0b1beab-34a5-49b4-b7ee-6cf1e441a32d",
   "metadata": {},
   "outputs": [],
   "source": [
    "# create a function\n",
    "# check if the value is greater than 0\n",
    "# If yes return the absolute value,\n",
    "# If not, return the absolute value\n",
    "# Call the function"
   ]
  },
  {
   "cell_type": "code",
   "execution_count": 44,
   "id": "dc823cac-4641-4e35-8a20-829b15a756b6",
   "metadata": {},
   "outputs": [],
   "source": [
    "#finding the absolute value\n",
    "def absolute(num):\n",
    "    if num >= 0:\n",
    "        return num\n",
    "    else:\n",
    "        return 0-(num)"
   ]
  },
  {
   "cell_type": "code",
   "execution_count": 48,
   "id": "792f0512-8aae-498b-b748-2e0feed5a9b2",
   "metadata": {},
   "outputs": [
    {
     "data": {
      "text/plain": [
       "3"
      ]
     },
     "execution_count": 48,
     "metadata": {},
     "output_type": "execute_result"
    }
   ],
   "source": [
    "absolute(-3)"
   ]
  },
  {
   "cell_type": "code",
   "execution_count": 52,
   "id": "2fad056c-b7ac-4c12-9bdc-bf69ac561b18",
   "metadata": {},
   "outputs": [
    {
     "data": {
      "text/plain": [
       "4"
      ]
     },
     "execution_count": 52,
     "metadata": {},
     "output_type": "execute_result"
    }
   ],
   "source": [
    "abs(-4)"
   ]
  },
  {
   "cell_type": "code",
   "execution_count": 50,
   "id": "50556604-be69-4c86-a444-811880320a19",
   "metadata": {},
   "outputs": [
    {
     "name": "stdout",
     "output_type": "stream",
     "text": [
      "6\n"
     ]
    }
   ],
   "source": [
    "def sum_of_num(inp):\n",
    "    if inp>0:\n",
    "        val=inp\n",
    "    else:\n",
    "        val=abs(inp)\n",
    "    return(val)\n",
    "\n",
    "print(sum_of_num(-6))"
   ]
  },
  {
   "cell_type": "code",
   "execution_count": 58,
   "id": "248be7ba-2263-466f-9dc9-b34e6357fc39",
   "metadata": {},
   "outputs": [
    {
     "data": {
      "text/plain": [
       "10"
      ]
     },
     "execution_count": 58,
     "metadata": {},
     "output_type": "execute_result"
    }
   ],
   "source": [
    "def function1(num):\n",
    "    if num > 0:\n",
    "        return num\n",
    "    else:\n",
    "        return -num\n",
    "\n",
    "print(function1(10))"
   ]
  },
  {
   "cell_type": "code",
   "execution_count": 62,
   "id": "1ebad916-7397-4c68-9218-04ab8cab0543",
   "metadata": {},
   "outputs": [
    {
     "data": {
      "text/plain": [
       "15"
      ]
     },
     "execution_count": 62,
     "metadata": {},
     "output_type": "execute_result"
    }
   ],
   "source": [
    "def getAbs(num):\n",
    "    \"\"\"function to print abs value or not\"\"\"\n",
    "    if num > 0:\n",
    "        return num\n",
    "    else: \n",
    "        return -(num)\n",
    "getAbs(-15)"
   ]
  },
  {
   "cell_type": "markdown",
   "id": "edfea63f-222b-4c43-a049-0a4cbc83d2ab",
   "metadata": {},
   "source": [
    "## Scope and lifetime of a variable"
   ]
  },
  {
   "cell_type": "code",
   "execution_count": 82,
   "id": "51fe4807-1b69-40b3-84f4-64a8c0baf4e7",
   "metadata": {},
   "outputs": [
    {
     "name": "stdout",
     "output_type": "stream",
     "text": [
      "13 is inside the function\n",
      "15 is outside the function\n"
     ]
    }
   ],
   "source": [
    "def func():\n",
    "    var0 = 13\n",
    "    print(var0, 'is inside the function')\n",
    "\n",
    "var1 = 15\n",
    "\n",
    "func()\n",
    "print(var0, 'is outside the function')"
   ]
  },
  {
   "cell_type": "markdown",
   "id": "96eaa973-da80-4222-a60f-d103ee640936",
   "metadata": {},
   "source": [
    "del var1"
   ]
  },
  {
   "cell_type": "code",
   "execution_count": 92,
   "id": "f5bd1544-8ab6-4e29-97be-b0b0e1875432",
   "metadata": {},
   "outputs": [
    {
     "ename": "NameError",
     "evalue": "name 'var0' is not defined",
     "output_type": "error",
     "traceback": [
      "\u001b[1;31m---------------------------------------------------------------------------\u001b[0m",
      "\u001b[1;31mNameError\u001b[0m                                 Traceback (most recent call last)",
      "Cell \u001b[1;32mIn[92], line 1\u001b[0m\n\u001b[1;32m----> 1\u001b[0m var0\n",
      "\u001b[1;31mNameError\u001b[0m: name 'var0' is not defined"
     ]
    }
   ],
   "source": [
    "var0"
   ]
  },
  {
   "cell_type": "markdown",
   "id": "e781b0fa-bd1b-4ac6-87d1-9dcec3476135",
   "metadata": {},
   "source": [
    "# Function arguement"
   ]
  },
  {
   "cell_type": "markdown",
   "id": "0165f036-a587-4def-ba54-39498a1454e1",
   "metadata": {},
   "source": [
    "### Positional argument"
   ]
  },
  {
   "cell_type": "code",
   "execution_count": 105,
   "id": "90a21a81-8516-4b7d-ad82-043eedff4cbf",
   "metadata": {},
   "outputs": [
    {
     "name": "stdout",
     "output_type": "stream",
     "text": [
      "Good morning everyone\n"
     ]
    }
   ],
   "source": [
    "def greet(arg1, arg2):\n",
    "    \"\"\"Function to print the arguments\"\"\"\n",
    "    print(arg1, arg2, 'everyone')\n",
    "\n",
    "greet('Good', 'morning')"
   ]
  },
  {
   "cell_type": "code",
   "execution_count": 121,
   "id": "02b5432a-22ab-43cb-bf6d-12ef5f6ee844",
   "metadata": {},
   "outputs": [
    {
     "name": "stdout",
     "output_type": "stream",
     "text": [
      "Good Evening everyone\n"
     ]
    }
   ],
   "source": [
    "def greet(name, msg = 'Evening'): #first argument is positional, second is default\n",
    "    \"\"\"Function to print the arguments\"\"\"\n",
    "    print(name, msg, 'everyone')\n",
    "\n",
    "greet('Good')"
   ]
  },
  {
   "cell_type": "markdown",
   "id": "de7c99b5-5267-45d0-bede-1c0169de6769",
   "metadata": {},
   "source": [
    "### Default argument"
   ]
  },
  {
   "cell_type": "code",
   "execution_count": 107,
   "id": "e46786cf-f13e-4317-88e8-c8e7fc00ea26",
   "metadata": {},
   "outputs": [
    {
     "ename": "SyntaxError",
     "evalue": "parameter without a default follows parameter with a default (3562803690.py, line 1)",
     "output_type": "error",
     "traceback": [
      "\u001b[1;36m  Cell \u001b[1;32mIn[107], line 1\u001b[1;36m\u001b[0m\n\u001b[1;33m    def greet(arg1 = 'Evening', arg2):\u001b[0m\n\u001b[1;37m                                ^\u001b[0m\n\u001b[1;31mSyntaxError\u001b[0m\u001b[1;31m:\u001b[0m parameter without a default follows parameter with a default\n"
     ]
    }
   ],
   "source": [
    "def greet(arg1 = 'Evening', arg2):\n",
    "    print(arg1, arg2)"
   ]
  },
  {
   "cell_type": "code",
   "execution_count": null,
   "id": "7be44701-f932-468a-a310-90fd3e914ad0",
   "metadata": {},
   "outputs": [],
   "source": []
  },
  {
   "cell_type": "code",
   "execution_count": null,
   "id": "30365f4b-fea4-472b-a2f7-7f05c712649a",
   "metadata": {},
   "outputs": [],
   "source": [
    "rameter without a default follows parameter with a default"
   ]
  },
  {
   "cell_type": "code",
   "execution_count": 123,
   "id": "1e2f842f-0d8b-476d-b0a5-2274f483ade4",
   "metadata": {},
   "outputs": [
    {
     "name": "stdout",
     "output_type": "stream",
     "text": [
      "guys How do you do everyone\n",
      "guys How do you do everyone\n",
      "guys How do you do everyone\n"
     ]
    }
   ],
   "source": [
    "# 2 keyword arguments\n",
    "greet(name = 'guys', msg = 'How do you do')\n",
    "\n",
    "# 2 keyword args (out of order)\n",
    "greet(msg = 'How do you do', name = 'guys')\n",
    "\n",
    "# 1 positional, 1keyword args\n",
    "greet('guys', msg = 'How do you do')"
   ]
  },
  {
   "cell_type": "markdown",
   "id": "e9ad3e38-5577-442c-bfd8-7e4bf4876c6f",
   "metadata": {},
   "source": [
    "- Order of postional arg don't matter\n",
    "- We can mix the pos arg with keyword arg - that keyword arg MUST follow the pos. arg"
   ]
  },
  {
   "cell_type": "markdown",
   "id": "3fcd1957-4475-4d41-a3b2-2e437ee2002d",
   "metadata": {},
   "source": [
    "### Arbitrary arg"
   ]
  },
  {
   "cell_type": "code",
   "execution_count": 139,
   "id": "73d63a39-7b79-4e48-a85f-9ad70d6e1e08",
   "metadata": {},
   "outputs": [
    {
     "name": "stdout",
     "output_type": "stream",
     "text": [
      "My name is: a b\n"
     ]
    }
   ],
   "source": [
    "def greet( *names, arg1 = 'Dave'):\n",
    "    for i in names:\n",
    "        print('My name is:', i, arg1)\n",
    "\n",
    "# greet('John', 'Smith', 'Dave')\n",
    "greet('a', arg1='b')"
   ]
  },
  {
   "cell_type": "markdown",
   "id": "1ecae852-17d1-4f31-8c69-f52d45c591f1",
   "metadata": {},
   "source": [
    "## Recursion"
   ]
  },
  {
   "cell_type": "code",
   "execution_count": 144,
   "id": "498f40aa-f37d-4289-9425-7c98891b0941",
   "metadata": {},
   "outputs": [
    {
     "name": "stdout",
     "output_type": "stream",
     "text": [
      "Factorial of 5 is 120\n"
     ]
    }
   ],
   "source": [
    "def rec(x): #1\n",
    "    if x==1: # 1 = 1\n",
    "        return x\n",
    "    else:\n",
    "        return (x * rec(x-1)) # 5 * 4 * 3 * 2 * 1\n",
    "\n",
    "num = 5\n",
    "print('Factorial of', num, 'is', rec(num))"
   ]
  },
  {
   "cell_type": "code",
   "execution_count": null,
   "id": "3788b355-8a2d-4d19-b9f8-00c9382c6d52",
   "metadata": {},
   "outputs": [],
   "source": [
    "5! -> 5 * 4 * 3 * 2 * 1"
   ]
  },
  {
   "cell_type": "code",
   "execution_count": 142,
   "id": "8bf49984-43db-465e-9fa0-e7ee0fe2f54b",
   "metadata": {},
   "outputs": [
    {
     "data": {
      "text/plain": [
       "120"
      ]
     },
     "execution_count": 142,
     "metadata": {},
     "output_type": "execute_result"
    }
   ],
   "source": [
    "5 * 4 * 3 * 2 * 1"
   ]
  },
  {
   "cell_type": "code",
   "execution_count": 152,
   "id": "73aebae3-5fea-4992-b9a3-2a6b1083f630",
   "metadata": {},
   "outputs": [
    {
     "name": "stdout",
     "output_type": "stream",
     "text": [
      "Not a factorial\n",
      "Factorial of -5 is None\n"
     ]
    }
   ],
   "source": [
    "def rec(x): #1\n",
    "    if x==1: # 1 = 1\n",
    "        return x\n",
    "    elif x< 1:\n",
    "        print('Not a factorial')\n",
    "    else:\n",
    "        return (x * rec(x- 1)) # 5 * 4 * 3 * 2 * 1\n",
    "\n",
    "num = -5\n",
    "print('Factorial of', num, 'is', rec(num))"
   ]
  },
  {
   "cell_type": "markdown",
   "id": "9dec240f-920b-4b0f-9b42-c31c03adeccc",
   "metadata": {},
   "source": [
    "### Lambda function"
   ]
  },
  {
   "cell_type": "markdown",
   "id": "e9c150b9-1677-4f39-b43f-a8258c7e7abc",
   "metadata": {},
   "source": [
    "- Lambda functions are called as anonymous functions"
   ]
  },
  {
   "cell_type": "code",
   "execution_count": 168,
   "id": "93e0fd1e-78c6-4e17-a17d-2d0b0e72f520",
   "metadata": {},
   "outputs": [
    {
     "data": {
      "text/plain": [
       "21"
      ]
     },
     "execution_count": 168,
     "metadata": {},
     "output_type": "execute_result"
    }
   ],
   "source": [
    "cube = lambda x, y : x * y\n",
    "cube(3, 7)"
   ]
  },
  {
   "cell_type": "code",
   "execution_count": 164,
   "id": "1707ff30-5be2-4bc1-89d6-7a93ec287927",
   "metadata": {},
   "outputs": [
    {
     "data": {
      "text/plain": [
       "25"
      ]
     },
     "execution_count": 164,
     "metadata": {},
     "output_type": "execute_result"
    }
   ],
   "source": [
    "x = 5\n",
    "x * x"
   ]
  },
  {
   "cell_type": "code",
   "execution_count": 170,
   "id": "845f8b05-45e2-4d0d-8e92-c53f9420a225",
   "metadata": {},
   "outputs": [
    {
     "data": {
      "text/plain": [
       "2.0"
      ]
     },
     "execution_count": 170,
     "metadata": {},
     "output_type": "execute_result"
    }
   ],
   "source": [
    "var=lambda var1,var2,var3: var1*var2/var3\n",
    "var(20,5,50)"
   ]
  },
  {
   "cell_type": "markdown",
   "id": "9f8df627-0f95-4034-b548-b8420c08651d",
   "metadata": {},
   "source": [
    "### Filter function"
   ]
  },
  {
   "cell_type": "markdown",
   "id": "9c0a3c3b-176e-4e50-b0d6-aaf99044355c",
   "metadata": {},
   "source": [
    "- Filters an iterable by keeping only the elements that satisfy a given condition (specified by a fn that returns True or False)"
   ]
  },
  {
   "cell_type": "code",
   "execution_count": 177,
   "id": "2ae48332-3ec7-4d34-86bc-5ac988223052",
   "metadata": {},
   "outputs": [
    {
     "name": "stdout",
     "output_type": "stream",
     "text": [
      "My list: [0, 1, 2, 3, 4, 5, 6, 7, 8, 9]\n",
      "After my filter function: [0, 2, 4, 6, 8]\n"
     ]
    }
   ],
   "source": [
    "my_list = list(range(10))\n",
    "print('My list:', my_list)\n",
    "\n",
    "fil = list(filter(lambda x: x % 2 == 0, my_list)) #return a booolean -> True or False\n",
    "print('After my filter function:', fil)"
   ]
  },
  {
   "cell_type": "markdown",
   "id": "585c38b5-8b71-465e-b6df-a2961e715ed7",
   "metadata": {},
   "source": [
    "### Map function"
   ]
  },
  {
   "cell_type": "markdown",
   "id": "06b29c85-a9c0-4e2f-9a6e-ce36f7d49f86",
   "metadata": {},
   "source": [
    "- Applies a function to each iteam in an interable and returns a new iterable containing the transformed values"
   ]
  },
  {
   "cell_type": "code",
   "execution_count": 180,
   "id": "4fab2406-601f-46f2-8e4d-5665d8320bf5",
   "metadata": {},
   "outputs": [
    {
     "name": "stdout",
     "output_type": "stream",
     "text": [
      "My list: [0, 1, 2, 3, 4, 5, 6, 7, 8, 9]\n",
      "After my map function: [0, 2, 4, 6, 8, 10, 12, 14, 16, 18]\n"
     ]
    }
   ],
   "source": [
    "my_list = list(range(10))\n",
    "print('My list:', my_list)\n",
    "\n",
    "map_fn = list(map(lambda x: x * 2, my_list))\n",
    "print('After my map function:', map_fn)"
   ]
  },
  {
   "cell_type": "code",
   "execution_count": null,
   "id": "b81ba6e4-38b2-4bf4-aa41-35b5fabc01ab",
   "metadata": {},
   "outputs": [],
   "source": []
  },
  {
   "cell_type": "code",
   "execution_count": 192,
   "id": "bf592f5e-4849-4ac0-bbb9-7a59ee0c55ea",
   "metadata": {},
   "outputs": [
    {
     "name": "stdout",
     "output_type": "stream",
     "text": [
      "[0, 1, 2, 3, 4, 5, 6, 7, 8, 9]\n",
      "[0, 2, 4, 6, 8, 10, 12, 14, 16, 18]\n"
     ]
    }
   ],
   "source": [
    "my_list=list(range(10))\n",
    "print(my_list)\n",
    "\n",
    "map1=list(map(lambda x: x * 2, my_list))\n",
    "print (map1)"
   ]
  },
  {
   "cell_type": "markdown",
   "id": "13733a7d-7f92-4f51-8795-cc6d883b2d4d",
   "metadata": {},
   "source": [
    "### Global variables"
   ]
  },
  {
   "cell_type": "code",
   "execution_count": 197,
   "id": "ddafe445-ace2-48c0-8ff0-6f07843ff7ee",
   "metadata": {},
   "outputs": [
    {
     "name": "stdout",
     "output_type": "stream",
     "text": [
      "Inside the func: global variable\n",
      "Outside the func: global variable\n"
     ]
    },
    {
     "ename": "NameError",
     "evalue": "name 'local_var' is not defined",
     "output_type": "error",
     "traceback": [
      "\u001b[1;31m---------------------------------------------------------------------------\u001b[0m",
      "\u001b[1;31mNameError\u001b[0m                                 Traceback (most recent call last)",
      "Cell \u001b[1;32mIn[197], line 9\u001b[0m\n\u001b[0;32m      7\u001b[0m func()\n\u001b[0;32m      8\u001b[0m \u001b[38;5;28mprint\u001b[39m(\u001b[38;5;124m'\u001b[39m\u001b[38;5;124mOutside the func:\u001b[39m\u001b[38;5;124m'\u001b[39m, x)\n\u001b[1;32m----> 9\u001b[0m \u001b[38;5;28mprint\u001b[39m(\u001b[38;5;124m'\u001b[39m\u001b[38;5;124mLocal func:\u001b[39m\u001b[38;5;124m'\u001b[39m, local_var)\n",
      "\u001b[1;31mNameError\u001b[0m: name 'local_var' is not defined"
     ]
    }
   ],
   "source": [
    "x = 'global variable'\n",
    "\n",
    "def func():\n",
    "    local_var = 15\n",
    "    print('Inside the func:', x)\n",
    "\n",
    "func()\n",
    "print('Outside the func:', x)\n",
    "print('Local func:', local_var)"
   ]
  },
  {
   "cell_type": "code",
   "execution_count": null,
   "id": "8e837b8d-876f-46c9-a710-e2eb35cac6e8",
   "metadata": {},
   "outputs": [],
   "source": []
  },
  {
   "cell_type": "code",
   "execution_count": null,
   "id": "c48f64ee-bbe2-45fd-9ebc-756002f77462",
   "metadata": {},
   "outputs": [],
   "source": [
    "# create a var - global var\n",
    "# define a func, and access the variable\n",
    "# Try to modify the variable and assign it and then\n",
    "# Print the global variable and modified variable"
   ]
  },
  {
   "cell_type": "code",
   "execution_count": 219,
   "id": "0c113ed5-6ab9-4e0c-aa3f-9df02790e193",
   "metadata": {},
   "outputs": [],
   "source": [
    "var = 20\n",
    "\n",
    "def func():\n",
    "    # global var\n",
    "    y = 10\n",
    "    # var = var * 2\n",
    "    print('My local variable:', y)\n",
    "    print('My global variable:', var)"
   ]
  },
  {
   "cell_type": "code",
   "execution_count": 221,
   "id": "3e2fbb3e-517f-4e32-8acb-5644fee516c8",
   "metadata": {},
   "outputs": [
    {
     "name": "stdout",
     "output_type": "stream",
     "text": [
      "My local variable: 10\n",
      "My global variable: 40\n"
     ]
    }
   ],
   "source": [
    "func()"
   ]
  },
  {
   "cell_type": "code",
   "execution_count": 207,
   "id": "73037347-777b-4080-9744-5796e19532dc",
   "metadata": {},
   "outputs": [
    {
     "data": {
      "text/plain": [
       "40"
      ]
     },
     "execution_count": 207,
     "metadata": {},
     "output_type": "execute_result"
    }
   ],
   "source": [
    "var"
   ]
  },
  {
   "cell_type": "markdown",
   "id": "6aa0beb0-69f9-43a9-a509-7200272642d9",
   "metadata": {},
   "source": [
    "### Rules of global variables\n",
    "- When we create a variable inside a fn, it's local by default\n",
    "- When we define a var outside a fn, it's global by default. You don't have to use a global keyword\n",
    "- We use 'global' keyword to modify a global  var inside a fn\n",
    "- Use a global keyword outside a fn has no effect"
   ]
  },
  {
   "cell_type": "code",
   "execution_count": 223,
   "id": "37c5d528-a04a-4b02-9f51-4cfcb76dc213",
   "metadata": {},
   "outputs": [
    {
     "name": "stdout",
     "output_type": "stream",
     "text": [
      "2\n",
      "1\n"
     ]
    }
   ],
   "source": [
    "global_var = 1\n",
    "def modify_fun():\n",
    "    global_var = 2\n",
    "    print(global_var)\n",
    "\n",
    "modify_fun()\n",
    "print(global_var)"
   ]
  },
  {
   "cell_type": "markdown",
   "id": "1646f5bb-40d7-4ae8-af64-622175063885",
   "metadata": {},
   "source": [
    "### Nested list"
   ]
  },
  {
   "cell_type": "code",
   "execution_count": 226,
   "id": "6880277b-9f55-490f-83a1-4230ef44e56f",
   "metadata": {},
   "outputs": [],
   "source": [
    "nest_list = [1, 2, 3, [4, 5], ['six', 'seven', 'eight']]"
   ]
  },
  {
   "cell_type": "code",
   "execution_count": 228,
   "id": "dba7d477-b2da-479a-af2e-bf7e86a60de8",
   "metadata": {},
   "outputs": [
    {
     "name": "stdout",
     "output_type": "stream",
     "text": [
      "[1, 2, 3, [4, 5], ['six', 'seven', 'eight']]\n"
     ]
    }
   ],
   "source": [
    "print(nest_list)"
   ]
  },
  {
   "cell_type": "code",
   "execution_count": 230,
   "id": "25a0aa6e-67f7-4766-83a6-b23ebc3a56fb",
   "metadata": {},
   "outputs": [
    {
     "data": {
      "text/plain": [
       "3"
      ]
     },
     "execution_count": 230,
     "metadata": {},
     "output_type": "execute_result"
    }
   ],
   "source": [
    "nest_list[2]"
   ]
  },
  {
   "cell_type": "code",
   "execution_count": 236,
   "id": "8e9ec506-6d17-4556-b5e8-ddb117de3164",
   "metadata": {},
   "outputs": [
    {
     "data": {
      "text/plain": [
       "'eight'"
      ]
     },
     "execution_count": 236,
     "metadata": {},
     "output_type": "execute_result"
    }
   ],
   "source": [
    "nest_list[4][2]"
   ]
  },
  {
   "cell_type": "code",
   "execution_count": 242,
   "id": "256cf827-7e87-4a8b-9293-851ca30f5a08",
   "metadata": {},
   "outputs": [
    {
     "data": {
      "text/plain": [
       "'six'"
      ]
     },
     "execution_count": 242,
     "metadata": {},
     "output_type": "execute_result"
    }
   ],
   "source": [
    "nest_list[-1][-3]"
   ]
  },
  {
   "cell_type": "markdown",
   "id": "7e8e04ae-7703-4c25-b5fb-8ff4d7f4ec5f",
   "metadata": {},
   "source": [
    "### Append and extend  method"
   ]
  },
  {
   "cell_type": "code",
   "execution_count": 245,
   "id": "2305cf9e-2763-4195-811f-53d2f2f492d2",
   "metadata": {},
   "outputs": [
    {
     "name": "stdout",
     "output_type": "stream",
     "text": [
      "[4, 5, 6, 7]\n"
     ]
    }
   ],
   "source": [
    "list1 = [4, 5, 6]\n",
    "list1.append(7)\n",
    "print(list1)"
   ]
  },
  {
   "cell_type": "code",
   "execution_count": 247,
   "id": "f72400c3-db39-4d0f-9a26-2516552b5f87",
   "metadata": {},
   "outputs": [
    {
     "name": "stdout",
     "output_type": "stream",
     "text": [
      "[4, 5, 6, 7, 8, 9, 10]\n"
     ]
    }
   ],
   "source": [
    "list2 = [8, 9, 10]\n",
    "list1.extend(list2)\n",
    "print(list1)"
   ]
  },
  {
   "cell_type": "code",
   "execution_count": 249,
   "id": "133bef73-4480-4e07-beec-a362e88596e9",
   "metadata": {},
   "outputs": [
    {
     "name": "stdout",
     "output_type": "stream",
     "text": [
      "[3, 4, 5, 6, 7, 8, 9, 10]\n"
     ]
    }
   ],
   "source": [
    "var = 3\n",
    "list1.insert(0, var)\n",
    "print(list1)"
   ]
  },
  {
   "cell_type": "markdown",
   "id": "f5c78a3a-c8ad-4a8d-96b5-e205a15b4f4d",
   "metadata": {},
   "source": [
    "##### List concatenation"
   ]
  },
  {
   "cell_type": "code",
   "execution_count": 254,
   "id": "5806bd06-17c9-473d-9992-447af26d745e",
   "metadata": {},
   "outputs": [
    {
     "name": "stdout",
     "output_type": "stream",
     "text": [
      "[1, 3, 5, 7, 9]\n",
      "[1, 3, 5]\n"
     ]
    }
   ],
   "source": [
    "odd = [1, 3, 5]\n",
    "print(odd + [7, 9])\n",
    "print(odd)"
   ]
  },
  {
   "cell_type": "code",
   "execution_count": 256,
   "id": "b651ced5-a571-41e1-8c79-069c85469b98",
   "metadata": {},
   "outputs": [
    {
     "name": "stdout",
     "output_type": "stream",
     "text": [
      "['Three', 'Three', 'Three']\n"
     ]
    }
   ],
   "source": [
    "print(['Three'] * 3)"
   ]
  },
  {
   "cell_type": "code",
   "execution_count": 258,
   "id": "528f6ca9-6c35-44d9-b45d-66c793d35d67",
   "metadata": {},
   "outputs": [
    {
     "name": "stdout",
     "output_type": "stream",
     "text": [
      "[1, 2, 3]\n"
     ]
    },
    {
     "ename": "NameError",
     "evalue": "name 'temp_list' is not defined",
     "output_type": "error",
     "traceback": [
      "\u001b[1;31m---------------------------------------------------------------------------\u001b[0m",
      "\u001b[1;31mNameError\u001b[0m                                 Traceback (most recent call last)",
      "Cell \u001b[1;32mIn[258], line 4\u001b[0m\n\u001b[0;32m      2\u001b[0m \u001b[38;5;28mprint\u001b[39m(temp_list)\n\u001b[0;32m      3\u001b[0m \u001b[38;5;28;01mdel\u001b[39;00m temp_list\n\u001b[1;32m----> 4\u001b[0m \u001b[38;5;28mprint\u001b[39m(temp_list)\n",
      "\u001b[1;31mNameError\u001b[0m: name 'temp_list' is not defined"
     ]
    }
   ],
   "source": [
    "temp_list = [1, 2, 3]\n",
    "print(temp_list)\n",
    "del temp_list\n",
    "print(temp_list)"
   ]
  },
  {
   "cell_type": "code",
   "execution_count": null,
   "id": "dd5175db-98b8-42e9-9013-bca42c66f98a",
   "metadata": {},
   "outputs": [],
   "source": [
    "list3 = [1, 2, 3, 4, 5] # -> 3, 4 -> 7, 8 with the help of indexing"
   ]
  },
  {
   "cell_type": "code",
   "execution_count": 262,
   "id": "d9f06ee3-f02b-4bd7-a058-9e07dbb3ba24",
   "metadata": {},
   "outputs": [
    {
     "name": "stdout",
     "output_type": "stream",
     "text": [
      "[1, 2, 7, 8, 5, 2, 9, 3]\n"
     ]
    }
   ],
   "source": [
    "list3=[1, 2, 3, 4, 5]\n",
    "list3[2:8]=[7,8, 5, 2, 9, 3]\n",
    "print(list3)"
   ]
  },
  {
   "cell_type": "code",
   "execution_count": 264,
   "id": "fd793f26-4bdc-47e3-a7f9-dce20ee67850",
   "metadata": {},
   "outputs": [
    {
     "name": "stdout",
     "output_type": "stream",
     "text": [
      "['e', 'm', 'o', 'v', 'e']\n",
      "['m', 'o', 'v', 'e']\n"
     ]
    }
   ],
   "source": [
    "list4 = ['r', 'e', 'm', 'o', 'v', 'e']\n",
    "list4.remove('r')\n",
    "print(list4) # ['e', 'm', 'o', 'v', 'e']\n",
    "list4.pop(0)\n",
    "print(list4) # ['m', 'o', 'v', 'e']"
   ]
  },
  {
   "cell_type": "code",
   "execution_count": 266,
   "id": "9cea1be9-bd5f-4274-a224-26282775babe",
   "metadata": {},
   "outputs": [
    {
     "name": "stdout",
     "output_type": "stream",
     "text": [
      "[]\n"
     ]
    }
   ],
   "source": [
    "list4.clear()\n",
    "print(list4)"
   ]
  },
  {
   "cell_type": "code",
   "execution_count": 268,
   "id": "e7e0d3c5-a777-4916-b653-45f558b95fea",
   "metadata": {},
   "outputs": [
    {
     "name": "stdout",
     "output_type": "stream",
     "text": [
      "5\n",
      "3\n"
     ]
    }
   ],
   "source": [
    "list1 = [7,8, 5, 2, 9, 3, 2, 2, 8]\n",
    "print(list1.index(3)) #\n",
    "print(list1.count(2)) #"
   ]
  },
  {
   "cell_type": "code",
   "execution_count": 270,
   "id": "dbd14daf-e8d8-4c44-9580-676e59a3ab35",
   "metadata": {},
   "outputs": [],
   "source": [
    "list1.sort()"
   ]
  },
  {
   "cell_type": "code",
   "execution_count": 272,
   "id": "fca5da31-4f24-4b2f-ac47-43f91a8d4920",
   "metadata": {},
   "outputs": [
    {
     "name": "stdout",
     "output_type": "stream",
     "text": [
      "[2, 2, 2, 3, 5, 7, 8, 8, 9]\n"
     ]
    }
   ],
   "source": [
    "print(list1)"
   ]
  },
  {
   "cell_type": "code",
   "execution_count": 274,
   "id": "b6e15ebb-4947-4ff1-ad06-21ba98342c8c",
   "metadata": {},
   "outputs": [
    {
     "name": "stdout",
     "output_type": "stream",
     "text": [
      "[9, 8, 8, 7, 5, 3, 2, 2, 2]\n"
     ]
    }
   ],
   "source": [
    "list1.reverse()\n",
    "print(list1)"
   ]
  },
  {
   "cell_type": "code",
   "execution_count": null,
   "id": "1fb58d98-c952-4377-b977-36d0492a8123",
   "metadata": {},
   "outputs": [],
   "source": [
    "\n",
    "\n"
   ]
  },
  {
   "cell_type": "markdown",
   "id": "42156da8-ef9a-488d-8baa-905e7453e3a5",
   "metadata": {},
   "source": [
    "# List comprehension"
   ]
  },
  {
   "cell_type": "code",
   "execution_count": null,
   "id": "453454eb-b2da-4a32-a4dd-35101b85d140",
   "metadata": {},
   "outputs": [],
   "source": [
    "[1, 2, 3, 4, 5] = [1, 4, 9, 16, 25]"
   ]
  },
  {
   "cell_type": "code",
   "execution_count": null,
   "id": "8ce5aa4b-8700-469e-9d4d-fee27207afe4",
   "metadata": {},
   "outputs": [],
   "source": []
  },
  {
   "cell_type": "code",
   "execution_count": 279,
   "id": "5ea8f206-3c83-4788-ae8c-dc1c4defa0c3",
   "metadata": {},
   "outputs": [
    {
     "name": "stdout",
     "output_type": "stream",
     "text": [
      "[0, 1, 4, 9, 16, 25, 36, 49, 64, 81, 100]\n"
     ]
    }
   ],
   "source": [
    "power1 = []\n",
    "\n",
    "for i in range(11):\n",
    "    power1.append( i ** 2)\n",
    "\n",
    "print(power1)\n",
    "    "
   ]
  },
  {
   "cell_type": "code",
   "execution_count": 282,
   "id": "110f056f-d998-4adf-93f7-73427b8a5f38",
   "metadata": {},
   "outputs": [
    {
     "data": {
      "text/plain": [
       "[0, 1, 4, 9, 16, 25, 36, 49, 64, 81, 100]"
      ]
     },
     "execution_count": 282,
     "metadata": {},
     "output_type": "execute_result"
    }
   ],
   "source": [
    "[ i ** 2 for i in range(11)] # -> list comprehension"
   ]
  },
  {
   "cell_type": "code",
   "execution_count": 284,
   "id": "ad2b19c3-575c-4a38-9996-d155ecad4e57",
   "metadata": {},
   "outputs": [
    {
     "data": {
      "text/plain": [
       "[1, 9, 25]"
      ]
     },
     "execution_count": 284,
     "metadata": {},
     "output_type": "execute_result"
    }
   ],
   "source": [
    "a=[1, 4, 9, 16, 25]\n",
    "b=[i for i in a if i%2!=0]\n",
    "b"
   ]
  },
  {
   "cell_type": "code",
   "execution_count": 288,
   "id": "e95a639b-7c3a-4034-b7ab-3b9348a96780",
   "metadata": {},
   "outputs": [
    {
     "data": {
      "text/plain": [
       "[0, 4, 16, 36, 64, 100, 144, 196, 256, 324]"
      ]
     },
     "execution_count": 288,
     "metadata": {},
     "output_type": "execute_result"
    }
   ],
   "source": [
    "[i ** 2 for i in range(20) if i%2 == 0]"
   ]
  },
  {
   "cell_type": "code",
   "execution_count": null,
   "id": "d946566b-aa43-4089-840a-b95eeea56882",
   "metadata": {},
   "outputs": [],
   "source": [
    "# range(100) -> divisible of 2 and 5"
   ]
  },
  {
   "cell_type": "code",
   "execution_count": null,
   "id": "43e2a29f-0923-46cc-800b-a4c7d23a5160",
   "metadata": {},
   "outputs": [],
   "source": []
  },
  {
   "cell_type": "code",
   "execution_count": 296,
   "id": "a0e53271-bdbb-4b82-b88a-a53dd296f3d0",
   "metadata": {},
   "outputs": [
    {
     "data": {
      "text/plain": [
       "[0, 10, 20, 30, 40, 50, 60, 70, 80, 90]"
      ]
     },
     "execution_count": 296,
     "metadata": {},
     "output_type": "execute_result"
    }
   ],
   "source": [
    "[i for i in range(100) if i%2==0 and i%5==0]"
   ]
  },
  {
   "cell_type": "code",
   "execution_count": 292,
   "id": "ce697073-4622-4565-bc73-d4396f246699",
   "metadata": {},
   "outputs": [
    {
     "name": "stdout",
     "output_type": "stream",
     "text": [
      "[0, 2, 4, 5, 6, 8, 10, 12, 14, 15, 16, 18, 20, 22, 24, 25, 26, 28, 30, 32, 34, 35, 36, 38, 40, 42, 44, 45, 46, 48, 50, 52, 54, 55, 56, 58, 60, 62, 64, 65, 66, 68, 70, 72, 74, 75, 76, 78, 80, 82, 84, 85, 86, 88, 90, 92, 94, 95, 96, 98]\n"
     ]
    }
   ],
   "source": [
    "print([i for i in range(100) if i % 2 == 0 or i%5 == 0])"
   ]
  },
  {
   "cell_type": "code",
   "execution_count": null,
   "id": "094e4da9-777b-4668-b231-9314af87ff5e",
   "metadata": {},
   "outputs": [],
   "source": [
    "-> print 'Odd' if odd element, print 'even' for even element in a list"
   ]
  },
  {
   "cell_type": "code",
   "execution_count": 298,
   "id": "062e438c-ffaa-4b0b-9931-1885cc0f042e",
   "metadata": {},
   "outputs": [
    {
     "name": "stdout",
     "output_type": "stream",
     "text": [
      "['Odd', 'Even', 'Odd', 'Even', 'Odd', 'Even', 'Odd', 'Even', 'Odd', 'Even']\n"
     ]
    }
   ],
   "source": [
    "var1 = [1, 2, 3, 4, 5, 6, 7, 8, 9, 10]\n",
    "res = [\"Odd\" if num%2 != 0 else \"Even\" for num in var1]\n",
    "\n",
    "print(res)"
   ]
  },
  {
   "cell_type": "code",
   "execution_count": 302,
   "id": "e28d84d9-acb3-4442-b3c2-58f7e70ba494",
   "metadata": {},
   "outputs": [
    {
     "name": "stdout",
     "output_type": "stream",
     "text": [
      "['Even', 'Odd', 'Even', 'Odd', 'Even', 'Odd', 'Even', 'Odd', 'Even', 'Odd']\n"
     ]
    }
   ],
   "source": [
    "list2=[\"Even\" if i%2==0 else \"Odd\" for i in range(10)]\n",
    "print(list2)"
   ]
  },
  {
   "cell_type": "code",
   "execution_count": 306,
   "id": "aed07543-7ba3-4f95-b423-f0e02c4742a9",
   "metadata": {},
   "outputs": [
    {
     "data": {
      "text/plain": [
       "['Data Analyst', 'Data Scientist']"
      ]
     },
     "execution_count": 306,
     "metadata": {},
     "output_type": "execute_result"
    }
   ],
   "source": [
    "[x+y for x in ['Data '] for y in ['Analyst', 'Scientist']]"
   ]
  },
  {
   "cell_type": "markdown",
   "id": "5140b966-2aa9-4d3f-bd56-8a0a73af5309",
   "metadata": {},
   "source": [
    "### enumerate"
   ]
  },
  {
   "cell_type": "code",
   "execution_count": 309,
   "id": "1a61e8bb-d2c6-4b1f-8ce4-73c6aed79c06",
   "metadata": {},
   "outputs": [
    {
     "data": {
      "text/plain": [
       "[(0, 'Stats'), (1, 'Prob'), (2, 'Time series')]"
      ]
     },
     "execution_count": 309,
     "metadata": {},
     "output_type": "execute_result"
    }
   ],
   "source": [
    "x1 = ['Stats', 'Prob', 'Time series']\n",
    "list(enumerate(x1))"
   ]
  },
  {
   "cell_type": "code",
   "execution_count": 311,
   "id": "6561eeb2-eda3-4611-a8df-a8e519b29450",
   "metadata": {},
   "outputs": [
    {
     "data": {
      "text/plain": [
       "[(100, 'Stats'), (101, 'Prob'), (102, 'Time series')]"
      ]
     },
     "execution_count": 311,
     "metadata": {},
     "output_type": "execute_result"
    }
   ],
   "source": [
    "x1 = ['Stats', 'Prob', 'Time series']\n",
    "list(enumerate(x1, 100))"
   ]
  },
  {
   "cell_type": "code",
   "execution_count": 315,
   "id": "e05ec764-750f-4570-97c3-bc2afc60504c",
   "metadata": {},
   "outputs": [
    {
     "name": "stdout",
     "output_type": "stream",
     "text": [
      "0 Stats\n",
      "1 Prob\n",
      "2 Time series\n"
     ]
    }
   ],
   "source": [
    "for count, val in enumerate(x1):\n",
    "    print(count, val)"
   ]
  },
  {
   "cell_type": "code",
   "execution_count": null,
   "id": "22a46a3b-e5a9-4a3f-a1c2-6f72f41a51c3",
   "metadata": {},
   "outputs": [],
   "source": [
    "# Find all the numbers from 1 - 1000 that have 3 in them"
   ]
  },
  {
   "cell_type": "code",
   "execution_count": 317,
   "id": "98cef3e8-2a42-42d8-a8df-376bea8579df",
   "metadata": {},
   "outputs": [
    {
     "name": "stdout",
     "output_type": "stream",
     "text": [
      "[3, 13, 23, 30, 31, 32, 33, 34, 35, 36, 37, 38, 39, 43, 53, 63, 73, 83, 93, 103, 113, 123, 130, 131, 132, 133, 134, 135, 136, 137, 138, 139, 143, 153, 163, 173, 183, 193, 203, 213, 223, 230, 231, 232, 233, 234, 235, 236, 237, 238, 239, 243, 253, 263, 273, 283, 293, 300, 301, 302, 303, 304, 305, 306, 307, 308, 309, 310, 311, 312, 313, 314, 315, 316, 317, 318, 319, 320, 321, 322, 323, 324, 325, 326, 327, 328, 329, 330, 331, 332, 333, 334, 335, 336, 337, 338, 339, 340, 341, 342, 343, 344, 345, 346, 347, 348, 349, 350, 351, 352, 353, 354, 355, 356, 357, 358, 359, 360, 361, 362, 363, 364, 365, 366, 367, 368, 369, 370, 371, 372, 373, 374, 375, 376, 377, 378, 379, 380, 381, 382, 383, 384, 385, 386, 387, 388, 389, 390, 391, 392, 393, 394, 395, 396, 397, 398, 399, 403, 413, 423, 430, 431, 432, 433, 434, 435, 436, 437, 438, 439, 443, 453, 463, 473, 483, 493, 503, 513, 523, 530, 531, 532, 533, 534, 535, 536, 537, 538, 539, 543, 553, 563, 573, 583, 593, 603, 613, 623, 630, 631, 632, 633, 634, 635, 636, 637, 638, 639, 643, 653, 663, 673, 683, 693, 703, 713, 723, 730, 731, 732, 733, 734, 735, 736, 737, 738, 739, 743, 753, 763, 773, 783, 793, 803, 813, 823, 830, 831, 832, 833, 834, 835, 836, 837, 838, 839, 843, 853, 863, 873, 883, 893, 903, 913, 923, 930, 931, 932, 933, 934, 935, 936, 937, 938, 939, 943, 953, 963, 973, 983, 993]\n"
     ]
    }
   ],
   "source": [
    "print([i for i in range(1000) if '3' in str(i)])"
   ]
  },
  {
   "cell_type": "code",
   "execution_count": 319,
   "id": "40d3a05a-b89e-4a03-8ce2-9f4874ad6c10",
   "metadata": {},
   "outputs": [
    {
     "data": {
      "text/plain": [
       "[3]"
      ]
     },
     "execution_count": 319,
     "metadata": {},
     "output_type": "execute_result"
    }
   ],
   "source": [
    "[i for i in range(1,1001) if i ==3]"
   ]
  },
  {
   "cell_type": "code",
   "execution_count": null,
   "id": "b9fc5b1f-80a5-4208-8009-ed0fd0b21029",
   "metadata": {},
   "outputs": [],
   "source": [
    "# Count the number of spaces in a string"
   ]
  },
  {
   "cell_type": "code",
   "execution_count": 321,
   "id": "f020687f-8c40-4d37-9158-886f230cbbd4",
   "metadata": {},
   "outputs": [
    {
     "data": {
      "text/plain": [
       "4"
      ]
     },
     "execution_count": 321,
     "metadata": {},
     "output_type": "execute_result"
    }
   ],
   "source": [
    "string = 'I am a Data Scientist'\n",
    "\n",
    "len([i for i in string if i == ' '])"
   ]
  },
  {
   "cell_type": "code",
   "execution_count": null,
   "id": "92d3f061-9a7c-4be4-a46b-63a0d14bf4b5",
   "metadata": {},
   "outputs": [],
   "source": [
    "#Create a list of all the vowels/consonents in a string"
   ]
  },
  {
   "cell_type": "code",
   "execution_count": 323,
   "id": "a198c2b6-8d77-4766-bbcc-b59d8626956e",
   "metadata": {},
   "outputs": [
    {
     "name": "stdout",
     "output_type": "stream",
     "text": [
      "['i', 'o', 'a', 'e', 'o', 'u']\n"
     ]
    }
   ],
   "source": [
    "vowelinstring = [i for i in 'hi how are you' if i in ['a','e','i','o','u']]\n",
    "\n",
    "print(vowelinstring)"
   ]
  },
  {
   "cell_type": "code",
   "execution_count": 325,
   "id": "a68feca2-a2ec-486d-8114-62215537c503",
   "metadata": {},
   "outputs": [
    {
     "name": "stdout",
     "output_type": "stream",
     "text": [
      "['h', ',', 'h', 'w', 'r', 'y']\n"
     ]
    }
   ],
   "source": [
    "string = 'hi, how are you'\n",
    "\n",
    "print([i for i in string if i not in ['a', 'e', 'i', 'o', 'u', ' ']])"
   ]
  },
  {
   "cell_type": "code",
   "execution_count": 329,
   "id": "b1db217a-0c9b-4973-9777-03682c30883c",
   "metadata": {},
   "outputs": [],
   "source": [
    "list1 = ['Hello', 'Morning', 456, 000, 'text'] \n",
    "# Get the index and the value for items in tuple for the above list "
   ]
  },
  {
   "cell_type": "code",
   "execution_count": 333,
   "id": "1c96c975-c301-467c-b781-0a7604691097",
   "metadata": {},
   "outputs": [
    {
     "data": {
      "text/plain": [
       "[(0, 'Hello'), (1, 'Morning'), (2, 456), (3, 0), (4, 'text')]"
      ]
     },
     "execution_count": 333,
     "metadata": {},
     "output_type": "execute_result"
    }
   ],
   "source": [
    "[(index, val) for index, val in enumerate (list1)]"
   ]
  },
  {
   "cell_type": "code",
   "execution_count": null,
   "id": "c29b6136-37f3-457c-ac8a-1c7322cb39e9",
   "metadata": {},
   "outputs": [],
   "source": [
    "# Find the common number in two list (using List Comprehension)"
   ]
  },
  {
   "cell_type": "code",
   "execution_count": 335,
   "id": "b3f46907-9cda-4410-9ede-0aa10c933ab3",
   "metadata": {},
   "outputs": [
    {
     "name": "stdout",
     "output_type": "stream",
     "text": [
      "[(0, 'hello'), (1, 'morning'), (2, 456), (3, 0), (4, 'text')]\n"
     ]
    }
   ],
   "source": [
    "x=['hello','morning',456,000,\"text\"]\n",
    "result=[(i,x[i]) for i in range(len(x))]\n",
    "print(result)"
   ]
  },
  {
   "cell_type": "code",
   "execution_count": 337,
   "id": "654e4ec2-fd0f-4d0c-aaaa-391b0b62d97a",
   "metadata": {},
   "outputs": [
    {
     "data": {
      "text/plain": [
       "[2, 3]"
      ]
     },
     "execution_count": 337,
     "metadata": {},
     "output_type": "execute_result"
    }
   ],
   "source": [
    "a = [1,2,3,4,5]\n",
    "b=[3,2,6,8,8]\n",
    "[ i for i in a if i in b]"
   ]
  },
  {
   "cell_type": "code",
   "execution_count": null,
   "id": "efffdfd9-fdd9-42da-bf1e-0003ee6e6d61",
   "metadata": {},
   "outputs": [],
   "source": [
    "lista = [1, 2, 3, 4, 5, 6, 7, 8, 9]\n",
    "listb = [2, 7, 1, 12]\n",
    "\n",
    "Produce a list of tuples consisting of only the matching numbers in the above 2 lists"
   ]
  },
  {
   "cell_type": "code",
   "execution_count": 339,
   "id": "61a056fc-14d1-4ce9-85c9-3c1db57b3b44",
   "metadata": {},
   "outputs": [
    {
     "name": "stdout",
     "output_type": "stream",
     "text": [
      "[(1, 1), (2, 2), (7, 7)]\n"
     ]
    }
   ],
   "source": [
    "lista= [1,2,3,4,5,6,7,8, 9]\n",
    "listb= [2,7,1,12]\n",
    "\n",
    "print([(i, j) for i in lista for j in listb if i==j])"
   ]
  },
  {
   "cell_type": "markdown",
   "id": "604169bf-db5c-4dc7-ac9f-818022f6f2e6",
   "metadata": {},
   "source": [
    "### Changing a Tuple\n"
   ]
  },
  {
   "cell_type": "code",
   "execution_count": 342,
   "id": "44f7dd31-b11f-488c-a0cb-445afe9e09b1",
   "metadata": {},
   "outputs": [
    {
     "data": {
      "text/plain": [
       "(0, 3, [7, 8, 6])"
      ]
     },
     "execution_count": 342,
     "metadata": {},
     "output_type": "execute_result"
    }
   ],
   "source": [
    "tupl1 = (0, 3, [7, 8, 9])\n",
    "tupl1[2][2] = 6\n",
    "tupl1"
   ]
  },
  {
   "cell_type": "code",
   "execution_count": 344,
   "id": "56759f74-a05f-4f47-9583-ed9c1f14bc2b",
   "metadata": {},
   "outputs": [
    {
     "ename": "TypeError",
     "evalue": "'tuple' object does not support item assignment",
     "output_type": "error",
     "traceback": [
      "\u001b[1;31m---------------------------------------------------------------------------\u001b[0m",
      "\u001b[1;31mTypeError\u001b[0m                                 Traceback (most recent call last)",
      "Cell \u001b[1;32mIn[344], line 2\u001b[0m\n\u001b[0;32m      1\u001b[0m tupl1 \u001b[38;5;241m=\u001b[39m (\u001b[38;5;241m0\u001b[39m, \u001b[38;5;241m3\u001b[39m, [\u001b[38;5;241m7\u001b[39m, \u001b[38;5;241m8\u001b[39m, \u001b[38;5;241m9\u001b[39m])\n\u001b[1;32m----> 2\u001b[0m tupl1[\u001b[38;5;241m1\u001b[39m] \u001b[38;5;241m=\u001b[39m \u001b[38;5;241m6\u001b[39m\n\u001b[0;32m      3\u001b[0m tupl1\n",
      "\u001b[1;31mTypeError\u001b[0m: 'tuple' object does not support item assignment"
     ]
    }
   ],
   "source": [
    "tupl1 = (0, 3, [7, 8, 9])\n",
    "tupl1[1] = 6\n",
    "tupl1"
   ]
  },
  {
   "cell_type": "markdown",
   "id": "eff222ba-8e4a-4cef-b7d5-d6cfa0afb99d",
   "metadata": {},
   "source": [
    "### Escape sequence"
   ]
  },
  {
   "cell_type": "code",
   "execution_count": 347,
   "id": "a843b419-f896-42a4-a3a6-613facc2de5f",
   "metadata": {},
   "outputs": [
    {
     "name": "stdout",
     "output_type": "stream",
     "text": [
      "Hello, how's it going\n"
     ]
    }
   ],
   "source": [
    "print('''Hello, how's it going''')"
   ]
  },
  {
   "cell_type": "code",
   "execution_count": 349,
   "id": "95a17ce0-a85f-4059-8b6a-e752abb8ff3c",
   "metadata": {},
   "outputs": [
    {
     "name": "stdout",
     "output_type": "stream",
     "text": [
      "He said, \"What's there?\"\n"
     ]
    }
   ],
   "source": [
    "print('He said, \"What\\'s there?\"')"
   ]
  },
  {
   "cell_type": "code",
   "execution_count": 353,
   "id": "61bea6ca-5f4e-414a-862f-a3a625005c3b",
   "metadata": {},
   "outputs": [
    {
     "name": "stdout",
     "output_type": "stream",
     "text": [
      "2602123901056\n",
      "2602123901056\n",
      "2602124291872\n"
     ]
    }
   ],
   "source": [
    "# How come modifying the list inside tuple not creating the copy of tuple object? Memory address not changing after modification. \n",
    "\n",
    "tup = (1,2,3,[5,6,7])\n",
    "print(id(tup))\n",
    "tup[3][1] = 10\n",
    "tup\n",
    "print(id(tup))\n",
    "\n",
    "tup = tup + (9, 10)\n",
    "print(id(tup))\n"
   ]
  },
  {
   "cell_type": "code",
   "execution_count": null,
   "id": "e8832613-66d8-412e-8d0f-22fd38a3518f",
   "metadata": {},
   "outputs": [],
   "source": [
    "{int, float, str, tuple/list}"
   ]
  },
  {
   "cell_type": "code",
   "execution_count": 357,
   "id": "e9a1c909-5fef-4711-8920-47a689027c6b",
   "metadata": {},
   "outputs": [
    {
     "data": {
      "text/plain": [
       "{(1, 2, 3), 1, 2.0, 'myString'}"
      ]
     },
     "execution_count": 357,
     "metadata": {},
     "output_type": "execute_result"
    }
   ],
   "source": [
    "set1 = {1, 2.0, 'myString', (1,2,3)}\n",
    "set1"
   ]
  },
  {
   "cell_type": "code",
   "execution_count": 359,
   "id": "61c93a0d-72be-4aea-9b0b-44587ada6359",
   "metadata": {},
   "outputs": [
    {
     "ename": "TypeError",
     "evalue": "unhashable type: 'list'",
     "output_type": "error",
     "traceback": [
      "\u001b[1;31m---------------------------------------------------------------------------\u001b[0m",
      "\u001b[1;31mTypeError\u001b[0m                                 Traceback (most recent call last)",
      "Cell \u001b[1;32mIn[359], line 1\u001b[0m\n\u001b[1;32m----> 1\u001b[0m set1 \u001b[38;5;241m=\u001b[39m {\u001b[38;5;241m1\u001b[39m, \u001b[38;5;241m2.0\u001b[39m, \u001b[38;5;124m'\u001b[39m\u001b[38;5;124mmyString\u001b[39m\u001b[38;5;124m'\u001b[39m, [\u001b[38;5;241m1\u001b[39m,\u001b[38;5;241m2\u001b[39m,\u001b[38;5;241m3\u001b[39m]}\n\u001b[0;32m      2\u001b[0m set1\n",
      "\u001b[1;31mTypeError\u001b[0m: unhashable type: 'list'"
     ]
    }
   ],
   "source": [
    "set1 = {1, 2.0, 'myString', [1,2,3]}\n",
    "set1"
   ]
  },
  {
   "cell_type": "code",
   "execution_count": 361,
   "id": "09c75ad3-6cff-49b3-93d9-a2cd8b31096f",
   "metadata": {},
   "outputs": [
    {
     "data": {
      "text/plain": [
       "dict"
      ]
     },
     "execution_count": 361,
     "metadata": {},
     "output_type": "execute_result"
    }
   ],
   "source": [
    "var1 = {}\n",
    "type(var1)"
   ]
  },
  {
   "cell_type": "code",
   "execution_count": 363,
   "id": "c45cb678-568a-4646-b459-ea6e838cb979",
   "metadata": {},
   "outputs": [
    {
     "data": {
      "text/plain": [
       "set"
      ]
     },
     "execution_count": 363,
     "metadata": {},
     "output_type": "execute_result"
    }
   ],
   "source": [
    "var1 = set()\n",
    "type(var1)"
   ]
  },
  {
   "cell_type": "markdown",
   "id": "39391c49-d81d-4092-a91a-d3bdfae3a286",
   "metadata": {},
   "source": [
    "### Changing set"
   ]
  },
  {
   "cell_type": "code",
   "execution_count": 366,
   "id": "f4c779e1-20f6-4486-ad7a-f42baf5f1977",
   "metadata": {},
   "outputs": [
    {
     "name": "stdout",
     "output_type": "stream",
     "text": [
      "{1, 2, 3}\n"
     ]
    }
   ],
   "source": [
    "my_set = {1, 3}\n",
    "\n",
    "#add an element\n",
    "my_set.add(2)\n",
    "print(my_set)"
   ]
  },
  {
   "cell_type": "code",
   "execution_count": 368,
   "id": "0fdb9cf2-aba0-4474-bca1-947d2273c593",
   "metadata": {},
   "outputs": [
    {
     "name": "stdout",
     "output_type": "stream",
     "text": [
      "{1, 2, 3, 4}\n"
     ]
    }
   ],
   "source": [
    "#add multiple elements\n",
    "my_set.update([2, 3, 4])\n",
    "print(my_set)"
   ]
  },
  {
   "cell_type": "code",
   "execution_count": 370,
   "id": "d4a2e157-ec4d-42a9-afa7-4373711a35b4",
   "metadata": {},
   "outputs": [
    {
     "name": "stdout",
     "output_type": "stream",
     "text": [
      "{1, 2, 3, 4, 5, 6, 8}\n"
     ]
    }
   ],
   "source": [
    "# add list and set\n",
    "my_set.update([4, 5], {1, 6, 8})\n",
    "print(my_set)"
   ]
  },
  {
   "cell_type": "code",
   "execution_count": 372,
   "id": "16399b18-a280-4aac-a199-f9b0043bdcef",
   "metadata": {},
   "outputs": [
    {
     "name": "stdout",
     "output_type": "stream",
     "text": [
      "{1, 3, 4, 5, 6}\n",
      "{1, 3, 5, 6}\n",
      "{1, 3, 5}\n"
     ]
    }
   ],
   "source": [
    "my_set = {1, 3, 4, 5, 6}\n",
    "print(my_set)\n",
    "\n",
    "#discard an element\n",
    "my_set.discard(4)\n",
    "print(my_set)\n",
    "\n",
    "#remove an element\n",
    "my_set.remove(6)\n",
    "print(my_set)\n"
   ]
  },
  {
   "cell_type": "code",
   "execution_count": 374,
   "id": "4250182c-f4e7-46e5-bd02-aaf246b5cc93",
   "metadata": {},
   "outputs": [
    {
     "name": "stdout",
     "output_type": "stream",
     "text": [
      "{1, 3, 4, 5, 6}\n"
     ]
    },
    {
     "ename": "KeyError",
     "evalue": "10",
     "output_type": "error",
     "traceback": [
      "\u001b[1;31m---------------------------------------------------------------------------\u001b[0m",
      "\u001b[1;31mKeyError\u001b[0m                                  Traceback (most recent call last)",
      "Cell \u001b[1;32mIn[374], line 5\u001b[0m\n\u001b[0;32m      2\u001b[0m \u001b[38;5;28mprint\u001b[39m(my_set)\n\u001b[0;32m      4\u001b[0m my_set\u001b[38;5;241m.\u001b[39mdiscard(\u001b[38;5;241m10\u001b[39m)\n\u001b[1;32m----> 5\u001b[0m my_set\u001b[38;5;241m.\u001b[39mremove(\u001b[38;5;241m10\u001b[39m)\n",
      "\u001b[1;31mKeyError\u001b[0m: 10"
     ]
    }
   ],
   "source": [
    "my_set = {1, 3, 4, 5, 6}\n",
    "print(my_set)\n",
    "\n",
    "my_set.discard(10)\n",
    "my_set.remove(10)"
   ]
  },
  {
   "cell_type": "code",
   "execution_count": 376,
   "id": "35f88e99-bfac-47ff-bff7-2641c5ac693d",
   "metadata": {},
   "outputs": [
    {
     "name": "stdout",
     "output_type": "stream",
     "text": [
      "{1, 'string', 1.1, (1, 2, 2)}\n"
     ]
    }
   ],
   "source": [
    "set1 = {1,1.1,'string',(1,2,2)}\n",
    "print(set1)"
   ]
  },
  {
   "cell_type": "code",
   "execution_count": 378,
   "id": "4ee4c5dd-6640-4f14-a79e-e7e05fcf6963",
   "metadata": {},
   "outputs": [
    {
     "name": "stdout",
     "output_type": "stream",
     "text": [
      "{1, 'string', 1.1, (1, 2, 2)}\n"
     ]
    }
   ],
   "source": [
    "set1 = {1, 1.1,'string',(1,2,2), (1,2,2) }\n",
    "print(set1)"
   ]
  },
  {
   "cell_type": "code",
   "execution_count": null,
   "id": "7cd3b656-868b-4711-a383-c1e3d5004016",
   "metadata": {},
   "outputs": [],
   "source": []
  },
  {
   "cell_type": "markdown",
   "id": "24411dce-31bd-4c11-90f3-75b056eb9765",
   "metadata": {},
   "source": [
    "# Iterators"
   ]
  },
  {
   "cell_type": "code",
   "execution_count": 381,
   "id": "734e4875-0d71-42f4-9d3d-bbfb36693225",
   "metadata": {},
   "outputs": [],
   "source": [
    "my_list = [8, 7, 6, 3]\n",
    "\n",
    "my_iter = iter(my_list)"
   ]
  },
  {
   "cell_type": "code",
   "execution_count": 383,
   "id": "cc1d8c6d-e3a9-482e-9fa5-7c9c7f816b1e",
   "metadata": {},
   "outputs": [
    {
     "name": "stdout",
     "output_type": "stream",
     "text": [
      "8\n"
     ]
    }
   ],
   "source": [
    "print(next(my_iter))"
   ]
  },
  {
   "cell_type": "code",
   "execution_count": 385,
   "id": "87aca299-e09d-4350-8526-51061d7490d1",
   "metadata": {},
   "outputs": [
    {
     "name": "stdout",
     "output_type": "stream",
     "text": [
      "7\n"
     ]
    }
   ],
   "source": [
    "print(next(my_iter))"
   ]
  },
  {
   "cell_type": "code",
   "execution_count": 387,
   "id": "a99ab02f-33c8-4656-a6c4-22933ea17e4b",
   "metadata": {},
   "outputs": [
    {
     "name": "stdout",
     "output_type": "stream",
     "text": [
      "6\n"
     ]
    }
   ],
   "source": [
    "print(my_iter.__next__())"
   ]
  },
  {
   "cell_type": "code",
   "execution_count": 389,
   "id": "d1278a2c-e787-40b4-9c64-5809ab7c00a4",
   "metadata": {},
   "outputs": [
    {
     "name": "stdout",
     "output_type": "stream",
     "text": [
      "3\n"
     ]
    }
   ],
   "source": [
    "print(my_iter.__next__())"
   ]
  },
  {
   "cell_type": "code",
   "execution_count": 391,
   "id": "a014765c-1f61-4825-9430-76f87cba2665",
   "metadata": {},
   "outputs": [
    {
     "ename": "StopIteration",
     "evalue": "",
     "output_type": "error",
     "traceback": [
      "\u001b[1;31m---------------------------------------------------------------------------\u001b[0m",
      "\u001b[1;31mStopIteration\u001b[0m                             Traceback (most recent call last)",
      "Cell \u001b[1;32mIn[391], line 1\u001b[0m\n\u001b[1;32m----> 1\u001b[0m \u001b[38;5;28mprint\u001b[39m(my_iter\u001b[38;5;241m.\u001b[39m\u001b[38;5;21m__next__\u001b[39m())\n",
      "\u001b[1;31mStopIteration\u001b[0m: "
     ]
    }
   ],
   "source": [
    "print(my_iter.__next__())"
   ]
  },
  {
   "cell_type": "markdown",
   "id": "86aa3849-c7fd-45d0-84da-8ce866fab4ea",
   "metadata": {},
   "source": [
    "# Generator"
   ]
  },
  {
   "cell_type": "markdown",
   "id": "b2d8053b-e002-4850-9450-78a5d1bdb98f",
   "metadata": {},
   "source": [
    "- A simple way of creating iterators\n",
    "- A generator func returns an object, which we iterate over (one value at a time)\n",
    "- A keyword called 'yield' differentiates a generator fn vs a normal fn\n",
    "- It can have one or more yield keyword"
   ]
  },
  {
   "cell_type": "code",
   "execution_count": 395,
   "id": "dc937abe-6f7d-4aae-9567-18c05b255415",
   "metadata": {},
   "outputs": [],
   "source": [
    "def my_gen():\n",
    "    n = 1\n",
    "    print('This is my first printed statement')\n",
    "    yield n\n",
    "    n += 1\n",
    "    print('This is my second printed statement')\n",
    "    yield n\n",
    "    n += 1\n",
    "    print('This is my third printed statement')  \n",
    "    yield n\n",
    "    "
   ]
  },
  {
   "cell_type": "code",
   "execution_count": 397,
   "id": "12918443-442d-4b56-b354-6906da39f0c5",
   "metadata": {},
   "outputs": [
    {
     "data": {
      "text/plain": [
       "<generator object my_gen at 0x0000025DDAAA77C0>"
      ]
     },
     "execution_count": 397,
     "metadata": {},
     "output_type": "execute_result"
    }
   ],
   "source": [
    "my_gen()"
   ]
  },
  {
   "cell_type": "code",
   "execution_count": 399,
   "id": "fbd2781f-e22e-456b-a9e5-9e5b21987d1a",
   "metadata": {},
   "outputs": [],
   "source": [
    "var1 = my_gen()"
   ]
  },
  {
   "cell_type": "code",
   "execution_count": 401,
   "id": "adc682c0-224e-4ccd-bcbb-7285e3623402",
   "metadata": {},
   "outputs": [
    {
     "name": "stdout",
     "output_type": "stream",
     "text": [
      "This is my first printed statement\n"
     ]
    },
    {
     "data": {
      "text/plain": [
       "1"
      ]
     },
     "execution_count": 401,
     "metadata": {},
     "output_type": "execute_result"
    }
   ],
   "source": [
    "next(var1)"
   ]
  },
  {
   "cell_type": "code",
   "execution_count": 403,
   "id": "63846223-b58a-49cb-8514-3f942d0c9aa1",
   "metadata": {},
   "outputs": [
    {
     "name": "stdout",
     "output_type": "stream",
     "text": [
      "This is my second printed statement\n"
     ]
    },
    {
     "data": {
      "text/plain": [
       "2"
      ]
     },
     "execution_count": 403,
     "metadata": {},
     "output_type": "execute_result"
    }
   ],
   "source": [
    "next(var1)"
   ]
  },
  {
   "cell_type": "code",
   "execution_count": 405,
   "id": "a5f16bfa-ec50-4280-b50f-26ccbef16df9",
   "metadata": {},
   "outputs": [
    {
     "name": "stdout",
     "output_type": "stream",
     "text": [
      "This is my third printed statement\n"
     ]
    },
    {
     "data": {
      "text/plain": [
       "3"
      ]
     },
     "execution_count": 405,
     "metadata": {},
     "output_type": "execute_result"
    }
   ],
   "source": [
    "next(var1)"
   ]
  },
  {
   "cell_type": "code",
   "execution_count": 407,
   "id": "4c45b6bf-44c7-427e-afef-c06ff81bc4cc",
   "metadata": {},
   "outputs": [
    {
     "ename": "StopIteration",
     "evalue": "",
     "output_type": "error",
     "traceback": [
      "\u001b[1;31m---------------------------------------------------------------------------\u001b[0m",
      "\u001b[1;31mStopIteration\u001b[0m                             Traceback (most recent call last)",
      "Cell \u001b[1;32mIn[407], line 1\u001b[0m\n\u001b[1;32m----> 1\u001b[0m \u001b[38;5;28mnext\u001b[39m(var1)\n",
      "\u001b[1;31mStopIteration\u001b[0m: "
     ]
    }
   ],
   "source": [
    "next(var1)"
   ]
  },
  {
   "cell_type": "code",
   "execution_count": 445,
   "id": "87a418d6-c6d0-4124-8e41-7d9b9606e72e",
   "metadata": {},
   "outputs": [],
   "source": [
    "var1 = 10\n",
    "def gen2():\n",
    "    for i in range(5):\n",
    "        global var1\n",
    "        var1 = var1 + 100\n",
    "        print(i + var1, 'iteration')\n",
    "        yield i"
   ]
  },
  {
   "cell_type": "code",
   "execution_count": 447,
   "id": "7b82e22a-588c-45b7-a8ac-d8d20df61d2d",
   "metadata": {},
   "outputs": [],
   "source": [
    "var2 = gen2()\n"
   ]
  },
  {
   "cell_type": "code",
   "execution_count": 449,
   "id": "48f62d05-1a27-410e-8344-ba9acb2bc495",
   "metadata": {},
   "outputs": [
    {
     "name": "stdout",
     "output_type": "stream",
     "text": [
      "110 iteration\n",
      "0\n"
     ]
    }
   ],
   "source": [
    "print(next(var2))\n",
    "# print(next(var2))\n",
    "# print(next(var2))\n",
    "# print(next(var2))\n",
    "# print(next(var2))"
   ]
  },
  {
   "cell_type": "code",
   "execution_count": 453,
   "id": "8699911a-2728-41a8-9576-08f864ecb5ff",
   "metadata": {},
   "outputs": [
    {
     "name": "stdout",
     "output_type": "stream",
     "text": [
      "211 iteration\n",
      "1\n"
     ]
    }
   ],
   "source": [
    "print(next(var2))"
   ]
  },
  {
   "cell_type": "code",
   "execution_count": 455,
   "id": "2feabb58-e5b2-405d-8604-d2c89b6f2cad",
   "metadata": {},
   "outputs": [
    {
     "data": {
      "text/plain": [
       "210"
      ]
     },
     "execution_count": 455,
     "metadata": {},
     "output_type": "execute_result"
    }
   ],
   "source": [
    "var1"
   ]
  },
  {
   "cell_type": "code",
   "execution_count": 457,
   "id": "a93aeb65-e06e-473f-94cd-863a8246c8a2",
   "metadata": {},
   "outputs": [
    {
     "name": "stdout",
     "output_type": "stream",
     "text": [
      "312 iteration\n",
      "2\n",
      "413 iteration\n",
      "3\n",
      "514 iteration\n",
      "4\n"
     ]
    }
   ],
   "source": [
    "print(next(var2))\n",
    "print(next(var2))\n",
    "print(next(var2))"
   ]
  },
  {
   "cell_type": "code",
   "execution_count": 459,
   "id": "9cef3b51-2840-4475-addf-10bccfed37a0",
   "metadata": {},
   "outputs": [
    {
     "data": {
      "text/plain": [
       "510"
      ]
     },
     "execution_count": 459,
     "metadata": {},
     "output_type": "execute_result"
    }
   ],
   "source": [
    "var1"
   ]
  },
  {
   "cell_type": "code",
   "execution_count": 417,
   "id": "1d51ff48-ce1a-455c-a47e-eddad00ee03b",
   "metadata": {},
   "outputs": [
    {
     "ename": "StopIteration",
     "evalue": "",
     "output_type": "error",
     "traceback": [
      "\u001b[1;31m---------------------------------------------------------------------------\u001b[0m",
      "\u001b[1;31mStopIteration\u001b[0m                             Traceback (most recent call last)",
      "Cell \u001b[1;32mIn[417], line 1\u001b[0m\n\u001b[1;32m----> 1\u001b[0m \u001b[38;5;28mprint\u001b[39m(\u001b[38;5;28mnext\u001b[39m(var2))\n",
      "\u001b[1;31mStopIteration\u001b[0m: "
     ]
    }
   ],
   "source": [
    "print(next(var2))"
   ]
  },
  {
   "cell_type": "markdown",
   "id": "95239814-ff02-40c8-b249-a7e04051967e",
   "metadata": {},
   "source": [
    "# Generator expression"
   ]
  },
  {
   "cell_type": "code",
   "execution_count": 462,
   "id": "01e227e2-2740-4aaf-9624-be108aadfcbf",
   "metadata": {},
   "outputs": [
    {
     "data": {
      "text/plain": [
       "[100, 400, 900, 1600, 2500]"
      ]
     },
     "execution_count": 462,
     "metadata": {},
     "output_type": "execute_result"
    }
   ],
   "source": [
    "list5 = [10, 20, 30, 40, 50]\n",
    "[x ** 2 for x in list5]"
   ]
  },
  {
   "cell_type": "code",
   "execution_count": 464,
   "id": "30e799da-3b75-40e8-b713-8e993109d3cb",
   "metadata": {},
   "outputs": [
    {
     "data": {
      "text/plain": [
       "<generator object <genexpr> at 0x0000025DDA9FB100>"
      ]
     },
     "execution_count": 464,
     "metadata": {},
     "output_type": "execute_result"
    }
   ],
   "source": [
    "(x ** 2 for x in list5)"
   ]
  },
  {
   "cell_type": "code",
   "execution_count": 466,
   "id": "db380a27-9a68-44c9-865d-67fae901a71b",
   "metadata": {},
   "outputs": [],
   "source": [
    "my_gen1 = (x ** 2 for x in list5)"
   ]
  },
  {
   "cell_type": "code",
   "execution_count": 468,
   "id": "5128b358-cf3a-4083-9ccb-3ce5692c3efb",
   "metadata": {},
   "outputs": [
    {
     "name": "stdout",
     "output_type": "stream",
     "text": [
      "100\n"
     ]
    }
   ],
   "source": [
    "print(next(my_gen1))"
   ]
  },
  {
   "cell_type": "code",
   "execution_count": 470,
   "id": "658d79da-3d97-486a-8253-bba03a2f628b",
   "metadata": {},
   "outputs": [
    {
     "name": "stdout",
     "output_type": "stream",
     "text": [
      "400\n",
      "900\n",
      "1600\n",
      "2500\n"
     ]
    }
   ],
   "source": [
    "print(next(my_gen1))\n",
    "print(next(my_gen1))\n",
    "print(next(my_gen1))\n",
    "print(next(my_gen1))"
   ]
  },
  {
   "cell_type": "code",
   "execution_count": 472,
   "id": "7c71711f-2706-40ab-b6f6-105d69d72d31",
   "metadata": {},
   "outputs": [
    {
     "ename": "StopIteration",
     "evalue": "",
     "output_type": "error",
     "traceback": [
      "\u001b[1;31m---------------------------------------------------------------------------\u001b[0m",
      "\u001b[1;31mStopIteration\u001b[0m                             Traceback (most recent call last)",
      "Cell \u001b[1;32mIn[472], line 1\u001b[0m\n\u001b[1;32m----> 1\u001b[0m \u001b[38;5;28mprint\u001b[39m(\u001b[38;5;28mnext\u001b[39m(my_gen1))\n",
      "\u001b[1;31mStopIteration\u001b[0m: "
     ]
    }
   ],
   "source": [
    "print(next(my_gen1))"
   ]
  },
  {
   "cell_type": "code",
   "execution_count": 474,
   "id": "d69f041d-460c-4c64-afe9-ab62ac1fd8c8",
   "metadata": {},
   "outputs": [
    {
     "data": {
      "text/plain": [
       "225000"
      ]
     },
     "execution_count": 474,
     "metadata": {},
     "output_type": "execute_result"
    }
   ],
   "source": [
    "sum(x ** 3 for x in list5)"
   ]
  },
  {
   "cell_type": "code",
   "execution_count": 482,
   "id": "510377f7-4244-4dc1-a3c7-6e2bfa8c8d47",
   "metadata": {},
   "outputs": [
    {
     "ename": "NameError",
     "evalue": "name 'pandas' is not defined",
     "output_type": "error",
     "traceback": [
      "\u001b[1;31m---------------------------------------------------------------------------\u001b[0m",
      "\u001b[1;31mNameError\u001b[0m                                 Traceback (most recent call last)",
      "Cell \u001b[1;32mIn[482], line 2\u001b[0m\n\u001b[0;32m      1\u001b[0m \u001b[38;5;66;03m# print(pandas.__version__)\u001b[39;00m\n\u001b[1;32m----> 2\u001b[0m pandas\u001b[38;5;241m.\u001b[39mshow_version()\n",
      "\u001b[1;31mNameError\u001b[0m: name 'pandas' is not defined"
     ]
    }
   ],
   "source": [
    "# print(pandas.__version__)\n",
    "pandas.show_version()"
   ]
  },
  {
   "cell_type": "code",
   "execution_count": null,
   "id": "8fa8c8eb-1b5f-41ea-a36f-66eee3499879",
   "metadata": {},
   "outputs": [],
   "source": []
  },
  {
   "cell_type": "code",
   "execution_count": null,
   "id": "80aae9fa-5118-4815-8f3e-dbff7255c938",
   "metadata": {},
   "outputs": [],
   "source": []
  },
  {
   "cell_type": "code",
   "execution_count": null,
   "id": "d43a0969-4ef3-4cc1-8f02-5319a7953420",
   "metadata": {},
   "outputs": [],
   "source": []
  },
  {
   "cell_type": "code",
   "execution_count": null,
   "id": "eec76da4-199c-479d-8323-730be5fb6588",
   "metadata": {},
   "outputs": [],
   "source": []
  },
  {
   "cell_type": "code",
   "execution_count": null,
   "id": "7377c9a9-5ff4-4b7d-9c6c-ae0b61eab8fb",
   "metadata": {},
   "outputs": [],
   "source": []
  },
  {
   "cell_type": "code",
   "execution_count": null,
   "id": "e9214d68-628c-4de7-a06d-53593e93b67a",
   "metadata": {},
   "outputs": [],
   "source": []
  },
  {
   "cell_type": "code",
   "execution_count": null,
   "id": "9615349b-41bc-4c6c-9dfb-4bafc4fe66b1",
   "metadata": {},
   "outputs": [],
   "source": []
  }
 ],
 "metadata": {
  "kernelspec": {
   "display_name": "Python 3 (ipykernel)",
   "language": "python",
   "name": "python3"
  },
  "language_info": {
   "codemirror_mode": {
    "name": "ipython",
    "version": 3
   },
   "file_extension": ".py",
   "mimetype": "text/x-python",
   "name": "python",
   "nbconvert_exporter": "python",
   "pygments_lexer": "ipython3",
   "version": "3.12.4"
  }
 },
 "nbformat": 4,
 "nbformat_minor": 5
}
