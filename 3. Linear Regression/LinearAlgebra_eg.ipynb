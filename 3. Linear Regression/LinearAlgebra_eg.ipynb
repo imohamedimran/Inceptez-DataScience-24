{
 "cells": [
  {
   "cell_type": "code",
   "execution_count": 1,
   "id": "38ba5fe2-5734-4de5-a483-4213e1c98530",
   "metadata": {},
   "outputs": [],
   "source": [
    "import numpy as np"
   ]
  },
  {
   "cell_type": "markdown",
   "id": "80673403-dbeb-46c6-88c7-d7fca619bbbd",
   "metadata": {},
   "source": [
    "### Input array"
   ]
  },
  {
   "cell_type": "code",
   "execution_count": 3,
   "id": "e391bfac-422c-422c-a10b-2903f6c2407a",
   "metadata": {},
   "outputs": [],
   "source": [
    "X = np.array([[1, 1],\n",
    "            [1, 2],\n",
    "            [1, 3]])"
   ]
  },
  {
   "cell_type": "code",
   "execution_count": 5,
   "id": "c3fe8668-91a9-4bc6-a387-9512942db60e",
   "metadata": {},
   "outputs": [
    {
     "data": {
      "text/plain": [
       "array([[1, 1],\n",
       "       [1, 2],\n",
       "       [1, 3]])"
      ]
     },
     "execution_count": 5,
     "metadata": {},
     "output_type": "execute_result"
    }
   ],
   "source": [
    "X"
   ]
  },
  {
   "cell_type": "code",
   "execution_count": 7,
   "id": "e2b2e27f-b814-49e4-aa9a-c0007a2aaefb",
   "metadata": {},
   "outputs": [
    {
     "data": {
      "text/plain": [
       "(3, 2)"
      ]
     },
     "execution_count": 7,
     "metadata": {},
     "output_type": "execute_result"
    }
   ],
   "source": [
    "X.shape"
   ]
  },
  {
   "cell_type": "markdown",
   "id": "951ede6e-76ea-4f13-a9e1-d7b242cd2dc7",
   "metadata": {},
   "source": [
    "### Target variable"
   ]
  },
  {
   "cell_type": "code",
   "execution_count": 9,
   "id": "29adec9e-970f-415e-a8fc-e2eb69022a66",
   "metadata": {},
   "outputs": [],
   "source": [
    "Y = np.array([2, 3, 5])"
   ]
  },
  {
   "cell_type": "code",
   "execution_count": 11,
   "id": "4527c52b-db8c-4e42-bc43-ca93b860c88f",
   "metadata": {},
   "outputs": [
    {
     "data": {
      "text/plain": [
       "(3,)"
      ]
     },
     "execution_count": 11,
     "metadata": {},
     "output_type": "execute_result"
    }
   ],
   "source": [
    "Y.shape"
   ]
  },
  {
   "cell_type": "code",
   "execution_count": 13,
   "id": "a5b97237-a952-4c17-b799-13476482ac1d",
   "metadata": {},
   "outputs": [
    {
     "data": {
      "text/plain": [
       "array([2, 3, 5])"
      ]
     },
     "execution_count": 13,
     "metadata": {},
     "output_type": "execute_result"
    }
   ],
   "source": [
    "Y"
   ]
  },
  {
   "cell_type": "code",
   "execution_count": null,
   "id": "2cdb36b6-dd82-4afd-a6c5-3e9ed3beb401",
   "metadata": {},
   "outputs": [],
   "source": [
    "# ((X.T).X )^-1 . (X.T.y)"
   ]
  },
  {
   "cell_type": "code",
   "execution_count": 15,
   "id": "f6767996-f848-438b-a41a-2db6a67ea722",
   "metadata": {},
   "outputs": [
    {
     "data": {
      "text/plain": [
       "array([[1, 1, 1],\n",
       "       [1, 2, 3]])"
      ]
     },
     "execution_count": 15,
     "metadata": {},
     "output_type": "execute_result"
    }
   ],
   "source": [
    "X.T"
   ]
  },
  {
   "cell_type": "code",
   "execution_count": 17,
   "id": "5b0b8efd-1dbd-4b9a-8a06-8c85188d628b",
   "metadata": {},
   "outputs": [
    {
     "data": {
      "text/plain": [
       "array([[ 3,  6],\n",
       "       [ 6, 14]])"
      ]
     },
     "execution_count": 17,
     "metadata": {},
     "output_type": "execute_result"
    }
   ],
   "source": [
    "X.T @ X"
   ]
  },
  {
   "cell_type": "code",
   "execution_count": 29,
   "id": "2c694620-f494-40f7-8a6c-9318d8d5fbd8",
   "metadata": {},
   "outputs": [
    {
     "data": {
      "text/plain": [
       "array([10, 23])"
      ]
     },
     "execution_count": 29,
     "metadata": {},
     "output_type": "execute_result"
    }
   ],
   "source": [
    "X.T @ Y"
   ]
  },
  {
   "cell_type": "code",
   "execution_count": 21,
   "id": "91514485-f056-4b8a-934e-64943a0f5d51",
   "metadata": {},
   "outputs": [
    {
     "data": {
      "text/plain": [
       "array([0.33333333, 1.5       ])"
      ]
     },
     "execution_count": 21,
     "metadata": {},
     "output_type": "execute_result"
    }
   ],
   "source": [
    "np.linalg.inv(X.T @ X) @ (X.T @ Y)"
   ]
  },
  {
   "cell_type": "code",
   "execution_count": null,
   "id": "a28874af-93df-44c2-bd6f-7d043a7f83af",
   "metadata": {},
   "outputs": [],
   "source": [
    "intercept -> 0.33 \n",
    "slope -> 1.5 "
   ]
  },
  {
   "cell_type": "code",
   "execution_count": null,
   "id": "a4000f22-85a9-4821-8665-b3bf0e03e874",
   "metadata": {},
   "outputs": [],
   "source": [
    "m = 1.5 #slope\n",
    "b = 0.33 #intercept"
   ]
  },
  {
   "cell_type": "code",
   "execution_count": null,
   "id": "541e3609-7c1b-42cb-a8a2-98cd31118a5a",
   "metadata": {},
   "outputs": [],
   "source": [
    "y = mx + b\n",
    "y = 1.5 (x) + 0.33"
   ]
  },
  {
   "cell_type": "code",
   "execution_count": null,
   "id": "1baa4123-32a8-4540-ad97-bc6cf8b5d5a7",
   "metadata": {},
   "outputs": [],
   "source": []
  }
 ],
 "metadata": {
  "kernelspec": {
   "display_name": "Python 3 (ipykernel)",
   "language": "python",
   "name": "python3"
  },
  "language_info": {
   "codemirror_mode": {
    "name": "ipython",
    "version": 3
   },
   "file_extension": ".py",
   "mimetype": "text/x-python",
   "name": "python",
   "nbconvert_exporter": "python",
   "pygments_lexer": "ipython3",
   "version": "3.12.4"
  }
 },
 "nbformat": 4,
 "nbformat_minor": 5
}
