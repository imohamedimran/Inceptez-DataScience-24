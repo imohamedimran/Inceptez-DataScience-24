{
 "cells": [
  {
   "cell_type": "markdown",
   "id": "aa643729",
   "metadata": {
    "papermill": {
     "duration": 0.005792,
     "end_time": "2022-09-23T18:57:45.586359",
     "exception": false,
     "start_time": "2022-09-23T18:57:45.580567",
     "status": "completed"
    },
    "tags": []
   },
   "source": [
    "<h1><center> 08 </center><h1>"
   ]
  },
  {
   "cell_type": "markdown",
   "id": "9d7255c6",
   "metadata": {
    "papermill": {
     "duration": 0.004699,
     "end_time": "2022-09-23T18:57:45.595893",
     "exception": false,
     "start_time": "2022-09-23T18:57:45.591194",
     "status": "completed"
    },
    "tags": []
   },
   "source": [
    "**Objective**: To learn classification task using supervised machine learning algorith based on Nearest Neighbouring method."
   ]
  },
  {
   "cell_type": "code",
   "execution_count": null,
   "id": "8aa3112a",
   "metadata": {
    "papermill": {
     "duration": 1.390348,
     "end_time": "2022-09-23T18:57:46.999660",
     "exception": false,
     "start_time": "2022-09-23T18:57:45.609312",
     "status": "completed"
    },
    "tags": []
   },
   "outputs": [],
   "source": [
    "import pandas as pd\n",
    "import numpy as np\n",
    "import matplotlib.pyplot as plt\n",
    "\n",
    "from sklearn.model_selection import train_test_split\n",
    "from sklearn.preprocessing import StandardScaler\n",
    "from sklearn.neighbors import KNeighborsClassifier\n",
    "from sklearn.metrics import confusion_matrix\n",
    "from sklearn.metrics import accuracy_score\n",
    "\n",
    "df = pd.read_csv('../input/pima-indians-diabetes-database/diabetes.csv')\n",
    "df.head(3)"
   ]
  },
  {
   "cell_type": "code",
   "execution_count": 2,
   "id": "08ce414f",
   "metadata": {
    "execution": {
     "iopub.execute_input": "2022-09-23T18:57:47.011469Z",
     "iopub.status.busy": "2022-09-23T18:57:47.011074Z",
     "iopub.status.idle": "2022-09-23T18:57:47.039586Z",
     "shell.execute_reply": "2022-09-23T18:57:47.038279Z"
    },
    "papermill": {
     "duration": 0.037785,
     "end_time": "2022-09-23T18:57:47.042541",
     "exception": false,
     "start_time": "2022-09-23T18:57:47.004756",
     "status": "completed"
    },
    "tags": []
   },
   "outputs": [
    {
     "name": "stdout",
     "output_type": "stream",
     "text": [
      "<class 'pandas.core.frame.DataFrame'>\n",
      "RangeIndex: 768 entries, 0 to 767\n",
      "Data columns (total 9 columns):\n",
      " #   Column                    Non-Null Count  Dtype  \n",
      "---  ------                    --------------  -----  \n",
      " 0   Pregnancies               768 non-null    int64  \n",
      " 1   Glucose                   768 non-null    int64  \n",
      " 2   BloodPressure             768 non-null    int64  \n",
      " 3   SkinThickness             768 non-null    int64  \n",
      " 4   Insulin                   768 non-null    int64  \n",
      " 5   BMI                       768 non-null    float64\n",
      " 6   DiabetesPedigreeFunction  768 non-null    float64\n",
      " 7   Age                       768 non-null    int64  \n",
      " 8   Outcome                   768 non-null    int64  \n",
      "dtypes: float64(2), int64(7)\n",
      "memory usage: 54.1 KB\n"
     ]
    }
   ],
   "source": [
    "df.info()"
   ]
  },
  {
   "cell_type": "code",
   "execution_count": 3,
   "id": "67fe5981",
   "metadata": {
    "execution": {
     "iopub.execute_input": "2022-09-23T18:57:47.055442Z",
     "iopub.status.busy": "2022-09-23T18:57:47.054930Z",
     "iopub.status.idle": "2022-09-23T18:57:47.062642Z",
     "shell.execute_reply": "2022-09-23T18:57:47.061458Z"
    },
    "papermill": {
     "duration": 0.016616,
     "end_time": "2022-09-23T18:57:47.065010",
     "exception": false,
     "start_time": "2022-09-23T18:57:47.048394",
     "status": "completed"
    },
    "tags": []
   },
   "outputs": [
    {
     "data": {
      "text/plain": [
       "(768, 9)"
      ]
     },
     "execution_count": 3,
     "metadata": {},
     "output_type": "execute_result"
    }
   ],
   "source": [
    "df.shape"
   ]
  },
  {
   "cell_type": "code",
   "execution_count": 4,
   "id": "408a4cfe",
   "metadata": {
    "execution": {
     "iopub.execute_input": "2022-09-23T18:57:47.077581Z",
     "iopub.status.busy": "2022-09-23T18:57:47.076675Z",
     "iopub.status.idle": "2022-09-23T18:57:47.086332Z",
     "shell.execute_reply": "2022-09-23T18:57:47.085054Z"
    },
    "papermill": {
     "duration": 0.018392,
     "end_time": "2022-09-23T18:57:47.088699",
     "exception": false,
     "start_time": "2022-09-23T18:57:47.070307",
     "status": "completed"
    },
    "tags": []
   },
   "outputs": [
    {
     "data": {
      "text/plain": [
       "Pregnancies                 0\n",
       "Glucose                     0\n",
       "BloodPressure               0\n",
       "SkinThickness               0\n",
       "Insulin                     0\n",
       "BMI                         0\n",
       "DiabetesPedigreeFunction    0\n",
       "Age                         0\n",
       "Outcome                     0\n",
       "dtype: int64"
      ]
     },
     "execution_count": 4,
     "metadata": {},
     "output_type": "execute_result"
    }
   ],
   "source": [
    "df.isna().sum()"
   ]
  },
  {
   "cell_type": "code",
   "execution_count": 5,
   "id": "3ca817bf",
   "metadata": {
    "execution": {
     "iopub.execute_input": "2022-09-23T18:57:47.100742Z",
     "iopub.status.busy": "2022-09-23T18:57:47.100350Z",
     "iopub.status.idle": "2022-09-23T18:57:47.107886Z",
     "shell.execute_reply": "2022-09-23T18:57:47.106791Z"
    },
    "papermill": {
     "duration": 0.016348,
     "end_time": "2022-09-23T18:57:47.110261",
     "exception": false,
     "start_time": "2022-09-23T18:57:47.093913",
     "status": "completed"
    },
    "tags": []
   },
   "outputs": [
    {
     "data": {
      "text/plain": [
       "61286"
      ]
     },
     "execution_count": 5,
     "metadata": {},
     "output_type": "execute_result"
    }
   ],
   "source": [
    "df.Insulin.sum()"
   ]
  },
  {
   "cell_type": "code",
   "execution_count": 6,
   "id": "6e789123",
   "metadata": {
    "execution": {
     "iopub.execute_input": "2022-09-23T18:57:47.122594Z",
     "iopub.status.busy": "2022-09-23T18:57:47.122169Z",
     "iopub.status.idle": "2022-09-23T18:57:47.131216Z",
     "shell.execute_reply": "2022-09-23T18:57:47.129866Z"
    },
    "papermill": {
     "duration": 0.01813,
     "end_time": "2022-09-23T18:57:47.133690",
     "exception": false,
     "start_time": "2022-09-23T18:57:47.115560",
     "status": "completed"
    },
    "tags": []
   },
   "outputs": [
    {
     "data": {
      "text/plain": [
       "0        0\n",
       "1        0\n",
       "2        0\n",
       "3       94\n",
       "4      168\n",
       "      ... \n",
       "763    180\n",
       "764      0\n",
       "765    112\n",
       "766      0\n",
       "767      0\n",
       "Name: Insulin, Length: 768, dtype: int64"
      ]
     },
     "execution_count": 6,
     "metadata": {},
     "output_type": "execute_result"
    }
   ],
   "source": [
    "df.Insulin"
   ]
  },
  {
   "cell_type": "code",
   "execution_count": 7,
   "id": "96976af1",
   "metadata": {
    "execution": {
     "iopub.execute_input": "2022-09-23T18:57:47.146097Z",
     "iopub.status.busy": "2022-09-23T18:57:47.145672Z",
     "iopub.status.idle": "2022-09-23T18:57:48.860984Z",
     "shell.execute_reply": "2022-09-23T18:57:48.859678Z"
    },
    "papermill": {
     "duration": 1.72494,
     "end_time": "2022-09-23T18:57:48.864119",
     "exception": false,
     "start_time": "2022-09-23T18:57:47.139179",
     "status": "completed"
    },
    "tags": []
   },
   "outputs": [
    {
     "data": {
      "image/png": "[encoded data removed]",
      "text/plain": [
       "<Figure size 1440x1080 with 9 Axes>"
      ]
     },
     "metadata": {
      "needs_background": "light"
     },
     "output_type": "display_data"
    }
   ],
   "source": [
    "w = 5\n",
    "df.hist(bins=10, figsize=(20,15), color='green', alpha=0.6, hatch='X', rwidth=w);"
   ]
  },
  {
   "cell_type": "code",
   "execution_count": 8,
   "id": "ce6797f8",
   "metadata": {
    "execution": {
     "iopub.execute_input": "2022-09-23T18:57:48.880229Z",
     "iopub.status.busy": "2022-09-23T18:57:48.878976Z",
     "iopub.status.idle": "2022-09-23T18:57:48.888152Z",
     "shell.execute_reply": "2022-09-23T18:57:48.886869Z"
    },
    "papermill": {
     "duration": 0.01975,
     "end_time": "2022-09-23T18:57:48.890858",
     "exception": false,
     "start_time": "2022-09-23T18:57:48.871108",
     "status": "completed"
    },
    "tags": []
   },
   "outputs": [],
   "source": [
    "X = df.iloc[:, 0:8]\n",
    "y = df.iloc[:, 8]\n",
    "\n",
    "xtr, xte, ytr, yte = train_test_split(X, y, test_size=0.2, random_state=4)"
   ]
  },
  {
   "cell_type": "markdown",
   "id": "5a487a9b",
   "metadata": {
    "papermill": {
     "duration": 0.006373,
     "end_time": "2022-09-23T18:57:48.904049",
     "exception": false,
     "start_time": "2022-09-23T18:57:48.897676",
     "status": "completed"
    },
    "tags": []
   },
   "source": [
    "## StandardScaler"
   ]
  },
  {
   "cell_type": "code",
   "execution_count": 9,
   "id": "f9c2325e",
   "metadata": {
    "execution": {
     "iopub.execute_input": "2022-09-23T18:57:48.920102Z",
     "iopub.status.busy": "2022-09-23T18:57:48.919097Z",
     "iopub.status.idle": "2022-09-23T18:57:48.931519Z",
     "shell.execute_reply": "2022-09-23T18:57:48.930351Z"
    },
    "papermill": {
     "duration": 0.023413,
     "end_time": "2022-09-23T18:57:48.934179",
     "exception": false,
     "start_time": "2022-09-23T18:57:48.910766",
     "status": "completed"
    },
    "tags": []
   },
   "outputs": [],
   "source": [
    "sc = StandardScaler()\n",
    "\n",
    "xtr = sc.fit_transform(xtr)\n",
    "xte = sc.fit_transform(xte)"
   ]
  },
  {
   "cell_type": "code",
   "execution_count": 10,
   "id": "0e9bf22b",
   "metadata": {
    "execution": {
     "iopub.execute_input": "2022-09-23T18:57:48.949486Z",
     "iopub.status.busy": "2022-09-23T18:57:48.948995Z",
     "iopub.status.idle": "2022-09-23T18:57:48.954742Z",
     "shell.execute_reply": "2022-09-23T18:57:48.953878Z"
    },
    "papermill": {
     "duration": 0.015873,
     "end_time": "2022-09-23T18:57:48.956818",
     "exception": false,
     "start_time": "2022-09-23T18:57:48.940945",
     "status": "completed"
    },
    "tags": []
   },
   "outputs": [],
   "source": [
    "clf = KNeighborsClassifier(n_neighbors=11, p=2, metric='euclidean')"
   ]
  },
  {
   "cell_type": "code",
   "execution_count": null,
   "id": "4e0437a8-ad3e-413d-8a4e-951d919f7b77",
   "metadata": {},
   "outputs": [],
   "source": []
  },
  {
   "cell_type": "code",
   "execution_count": 11,
   "id": "59279f5d",
   "metadata": {
    "execution": {
     "iopub.execute_input": "2022-09-23T18:57:48.972656Z",
     "iopub.status.busy": "2022-09-23T18:57:48.971586Z",
     "iopub.status.idle": "2022-09-23T18:57:48.985093Z",
     "shell.execute_reply": "2022-09-23T18:57:48.984125Z"
    },
    "papermill": {
     "duration": 0.024037,
     "end_time": "2022-09-23T18:57:48.987600",
     "exception": false,
     "start_time": "2022-09-23T18:57:48.963563",
     "status": "completed"
    },
    "tags": []
   },
   "outputs": [],
   "source": [
    "clf.fit(xtr,ytr)\n",
    "\n",
    "pred = clf.predict(xte)"
   ]
  },
  {
   "cell_type": "code",
   "execution_count": 12,
   "id": "66cd16e8",
   "metadata": {
    "execution": {
     "iopub.execute_input": "2022-09-23T18:57:49.004549Z",
     "iopub.status.busy": "2022-09-23T18:57:49.003286Z",
     "iopub.status.idle": "2022-09-23T18:57:49.014162Z",
     "shell.execute_reply": "2022-09-23T18:57:49.012612Z"
    },
    "papermill": {
     "duration": 0.02245,
     "end_time": "2022-09-23T18:57:49.017849",
     "exception": false,
     "start_time": "2022-09-23T18:57:48.995399",
     "status": "completed"
    },
    "tags": []
   },
   "outputs": [
    {
     "name": "stdout",
     "output_type": "stream",
     "text": [
      "[[88 25]\n",
      " [14 27]]\n"
     ]
    }
   ],
   "source": [
    "print(confusion_matrix(pred, yte))"
   ]
  },
  {
   "cell_type": "code",
   "execution_count": 13,
   "id": "442a7c2f",
   "metadata": {
    "execution": {
     "iopub.execute_input": "2022-09-23T18:57:49.034123Z",
     "iopub.status.busy": "2022-09-23T18:57:49.033354Z",
     "iopub.status.idle": "2022-09-23T18:57:49.039534Z",
     "shell.execute_reply": "2022-09-23T18:57:49.038035Z"
    },
    "papermill": {
     "duration": 0.016681,
     "end_time": "2022-09-23T18:57:49.041912",
     "exception": false,
     "start_time": "2022-09-23T18:57:49.025231",
     "status": "completed"
    },
    "tags": []
   },
   "outputs": [
    {
     "name": "stdout",
     "output_type": "stream",
     "text": [
      "0.7467532467532467\n"
     ]
    }
   ],
   "source": [
    "print(accuracy_score(pred, yte))"
   ]
  },
  {
   "cell_type": "markdown",
   "id": "aceb453b",
   "metadata": {
    "papermill": {
     "duration": 0.006614,
     "end_time": "2022-09-23T18:57:49.055296",
     "exception": false,
     "start_time": "2022-09-23T18:57:49.048682",
     "status": "completed"
    },
    "tags": []
   },
   "source": [
    "## Tasks\n",
    "1. Determine the best value or range of values for \"k\" to obtain optimal result(s) for your dataset. Show the resutls graphically?\n",
    "2. code for finding the accuracy score without using built in accuracy calculating module.\n",
    "3. list merits and demerits of KNN Algorithm."
   ]
  },
  {
   "cell_type": "code",
   "execution_count": 3,
   "id": "7914146c-854d-4657-a611-169784a6e41a",
   "metadata": {},
   "outputs": [
    {
     "name": "stdout",
     "output_type": "stream",
     "text": [
      "[1 2 3 4 5 9 6 7 8]\n"
     ]
    }
   ],
   "source": [
    "import numpy as np\n",
    "\n",
    "array = np.array([[1, 2, 3], [4, 5, 9], [6, 7, 8]])\n",
    "\n",
    "flat_array = array.flatten()\n",
    "\n",
    "print(flat_array)"
   ]
  },
  {
   "cell_type": "code",
   "execution_count": null,
   "id": "513ac477-ff2c-4859-b19b-7f64272d375a",
   "metadata": {},
   "outputs": [],
   "source": []
  }
 ],
 "metadata": {
  "kernelspec": {
   "display_name": "Python 3 (ipykernel)",
   "language": "python",
   "name": "python3"
  },
  "language_info": {
   "codemirror_mode": {
    "name": "ipython",
    "version": 3
   },
   "file_extension": ".py",
   "mimetype": "text/x-python",
   "name": "python",
   "nbconvert_exporter": "python",
   "pygments_lexer": "ipython3",
   "version": "3.12.4"
  },
  "papermill": {
   "default_parameters": {},
   "duration": 13.758168,
   "end_time": "2022-09-23T18:57:49.885400",
   "environment_variables": {},
   "exception": null,
   "input_path": "__notebook__.ipynb",
   "output_path": "__notebook__.ipynb",
   "parameters": {},
   "start_time": "2022-09-23T18:57:36.127232",
   "version": "2.3.4"
  }
 },
 "nbformat": 4,
 "nbformat_minor": 5
}
